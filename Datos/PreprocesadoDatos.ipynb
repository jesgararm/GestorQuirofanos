{
 "cells": [
  {
   "cell_type": "markdown",
   "metadata": {},
   "source": [
    "# Preprocesado de Datos\n",
    " ## Se importan datos usando las funcionalidades de Numpy y Pandas\n",
    " \n",
    " ### Trabajo de Fin de Grado - Universidad de Burgos\n",
    " #### Jesús García Armario"
   ]
  },
  {
   "cell_type": "code",
   "execution_count": 1,
   "metadata": {},
   "outputs": [],
   "source": [
    "## Imports\n",
    "import pandas as pd\n",
    "import numpy as np"
   ]
  },
  {
   "attachments": {},
   "cell_type": "markdown",
   "metadata": {},
   "source": [
    "### Dataset Servicio Andaluz de Salud:"
   ]
  },
  {
   "cell_type": "code",
   "execution_count": 3,
   "metadata": {},
   "outputs": [],
   "source": [
    "# Cargamos un dataframe por especialidad\n",
    "ruta ='.\\Listados'\n",
    "df_plastica = pd.read_excel(ruta+'\\listadoPlastica.xls', skipfooter= 12, header = [9,10], index_col=[1,4,5])\n",
    "df_neurocia = pd.read_excel(ruta+'\\listadoNeurocia.xls', skipfooter= 12, header = [9,10], index_col=[1,4,5])\n",
    "df_toracica = pd.read_excel(ruta+'\\listadoToracica.xls', skipfooter= 12, header = [9,10], index_col=[1,4,5])\n",
    "df_maxilo = pd.read_excel(ruta+'\\listadoMaxilo.xls', skipfooter= 12, header = [9,10], index_col=[1,4,5])\n",
    "df_trauma = pd.read_excel(ruta+'\\listadoTrauma.xls', skipfooter= 12, header = [9,10], index_col=[1,4,5])\n",
    "df_otorrino = pd.read_excel(ruta+'\\listadoOtorrino.xls', skipfooter= 12, header = [9,10], index_col=[1,4,5])\n",
    "df_general = pd.read_excel(ruta+'\\listadoGeneral.xls', skipfooter= 12, header = [9,10], index_col=[1,4,5])"
   ]
  },
  {
   "cell_type": "code",
   "execution_count": 4,
   "metadata": {},
   "outputs": [],
   "source": [
    "# Definimos función que recibe el data frame y lo devuelve preprocesado\n",
    "def preprocesar(df: pd.DataFrame):\n",
    "    # Eliminamos columnas vacías\n",
    "    df = df.droplevel(level=1,axis=0)\n",
    "    df = df.droplevel(level = 1, axis = 1)\n",
    "    df = df.dropna(axis=1, how='all')\n",
    "    del df['QUIRÓFANO']\n",
    "    del df['APELLIDOS, NOMBRE']\n",
    "    del df['TURNO']\n",
    "    del df['INICIO']\n",
    "    del df['FIN']\n",
    "    df = df.drop(df.columns[[0]],axis=1)\n",
    "\n",
    "    # Se renombran las columnas repetidas\n",
    "    cols = []\n",
    "    count = 1\n",
    "    countT = 1\n",
    "    contC = 1\n",
    "    for i in df.columns:\n",
    "        if i=='DURACIÓN':\n",
    "            cols.append('DURACIÓN'+str(count))\n",
    "            count += 1\n",
    "            continue\n",
    "        if i == 'TIPO':\n",
    "            cols.append('TIPO'+str(countT))\n",
    "            countT+=1\n",
    "            continue\n",
    "        if i=='CARÁCTER ECONÓMICO':\n",
    "            cols.append('CARÁCTER ECONÓMICO'+str(contC))\n",
    "            contC+=1\n",
    "            continue\n",
    "        cols.append(i)\n",
    "\n",
    "    df.columns = cols\n",
    "\n",
    "    # Eliminamos la columna que sobra\n",
    "    del df['DURACIÓN1']\n",
    "    # Renombramos la otra\n",
    "    df.rename(columns = {\"TIPO1\": \"TIPO\", \"TIPO2\": \"TURNO\", \"DURACIÓN2\":\"DURACIÓN\", \"CARÁCTER ECONÓMICO1\":\"CARÁCTER ECONÓMICO\",\n",
    "    \"CARÁCTER ECONÓMICO2\":\"PONDERACIÓN\"},inplace=True)\n",
    "\n",
    "    # Eliminamos filas vacías\n",
    "    df = df.dropna(axis=0,how = 'all')\n",
    "    # Codificamos: Cirugía Menor = 0; Cirugía Mayor = 1\n",
    "    df['TIPO'] = df['TIPO'].replace(['Menor','Mayor'],[0,1])\n",
    "    # Codificamos: Mañana = 0; Tarde = 1\n",
    "    df['TURNO'] = df['TURNO'].replace(['Mañana','Tarde'],[0,1])\n",
    "    # Codificamos: Actividad Ordinaria = 0; Continuidad Asistencial = 1\n",
    "    df['CARÁCTER ECONÓMICO'] = df['CARÁCTER ECONÓMICO'].replace(['Actividad Ordinaria','Continuidad Asistencial'],[0,1])\n",
    "    # Eliminamos texto\n",
    "    df['TIPO'] = df['TIPO'].replace(r'^\\D',np.nan,regex=True)\n",
    "    df['CARÁCTER ECONÓMICO'] = df['CARÁCTER ECONÓMICO'].replace(r'^\\D',np.nan,regex=True)\n",
    "    df['PONDERACIÓN'] = df['PONDERACIÓN'].replace(r'^\\D',np.nan,regex=True)\n",
    "    df['NUHSA'] = df['NUHSA'].replace(r'^\\D',np.nan,regex=True)\n",
    "    # Eliminamos filas nulas\n",
    "    df = df.dropna(axis=0,how = 'all')\n",
    "\n",
    "    # Cambiamos el nombre del atributo NUHSA\n",
    "    df.rename(columns={\"NUHSA\":\"INTERVENCIÓN\"},inplace=True)\n",
    "    df.reset_index(inplace = True)\n",
    "    del df[\"level_0\"]\n",
    "    df.rename(columns={\"level_1\":\"NHC\"},inplace = True)\n",
    "    df = df.groupby('NHC', as_index = False).aggregate({\"INTERVENCIÓN\":\"last\",\"TIPO\":\"first\", \"TURNO\":\"first\", \n",
    "    \"CARÁCTER ECONÓMICO\":\"last\",\"PONDERACIÓN\":\"last\", \"DURACIÓN\":\"first\"})\n",
    "\n",
    "    # Eliminamos los valores que tienen algún nulo\n",
    "    df = df.dropna(axis=0,how='any')\n",
    "\n",
    "    return df"
   ]
  },
  {
   "cell_type": "code",
   "execution_count": 5,
   "metadata": {},
   "outputs": [],
   "source": [
    "# Preprocesamos los datos\n",
    "df_plastica = preprocesar(df_plastica)\n",
    "df_neurocia = preprocesar(df_neurocia)\n",
    "df_toracica = preprocesar(df_toracica)\n",
    "df_maxilo = preprocesar(df_maxilo)\n",
    "df_trauma = preprocesar(df_trauma)\n",
    "df_otorrino = preprocesar(df_otorrino)\n",
    "df_general = preprocesar(df_general)\n",
    "# Añadimos una columna con el valor de las especialidades\n",
    "especialidad = ['PLASTICA'] * len(df_plastica)\n",
    "df_plastica['ESPECIALIDAD'] = especialidad\n",
    "especialidad = ['NEUROCIRUGIA'] * len(df_neurocia)\n",
    "df_neurocia['ESPECIALIDAD'] = especialidad\n",
    "especialidad = ['TORACICA'] * len(df_toracica)\n",
    "df_toracica['ESPECIALIDAD'] = especialidad\n",
    "especialidad = ['MAXILOFACIAL'] * len(df_maxilo)\n",
    "df_maxilo['ESPECIALIDAD'] = especialidad\n",
    "especialidad = ['TRAUMATOLOGIA'] * len(df_trauma)\n",
    "df_trauma['ESPECIALIDAD'] = especialidad\n",
    "especialidad = ['OTORRINOLARINGOLOGIA'] * len(df_otorrino)\n",
    "df_otorrino['ESPECIALIDAD'] = especialidad\n",
    "especialidad = ['GENERAL'] * len(df_general)\n",
    "df_general['ESPECIALIDAD'] = especialidad"
   ]
  },
  {
   "cell_type": "code",
   "execution_count": 6,
   "metadata": {},
   "outputs": [],
   "source": [
    "# Unimos los dataframes en uno solo\n",
    "df = pd.concat([df_plastica,df_neurocia,df_toracica,df_maxilo,df_trauma, df_otorrino],ignore_index=True)"
   ]
  },
  {
   "attachments": {},
   "cell_type": "markdown",
   "metadata": {},
   "source": [
    "EXPORTAMOS A ARCHIVO EXTERNO"
   ]
  },
  {
   "cell_type": "code",
   "execution_count": 6,
   "metadata": {},
   "outputs": [
    {
     "ename": "ModuleNotFoundError",
     "evalue": "No module named 'openpyxl'",
     "output_type": "error",
     "traceback": [
      "\u001b[1;31m---------------------------------------------------------------------------\u001b[0m",
      "\u001b[1;31mModuleNotFoundError\u001b[0m                       Traceback (most recent call last)",
      "Cell \u001b[1;32mIn[6], line 3\u001b[0m\n\u001b[0;32m      1\u001b[0m \u001b[39m# Exportamos a Excel\u001b[39;00m\n\u001b[0;32m      2\u001b[0m archivo \u001b[39m=\u001b[39m \u001b[39m\"\u001b[39m\u001b[39mListadoInterv_Preprocesado.xlsx\u001b[39m\u001b[39m\"\u001b[39m\n\u001b[1;32m----> 3\u001b[0m df\u001b[39m.\u001b[39;49mto_excel(archivo)\n",
      "File \u001b[1;32mc:\\Users\\jga1021\\OneDrive\\Ingeniería\\.conda\\lib\\site-packages\\pandas\\util\\_decorators.py:211\u001b[0m, in \u001b[0;36mdeprecate_kwarg.<locals>._deprecate_kwarg.<locals>.wrapper\u001b[1;34m(*args, **kwargs)\u001b[0m\n\u001b[0;32m    209\u001b[0m     \u001b[39melse\u001b[39;00m:\n\u001b[0;32m    210\u001b[0m         kwargs[new_arg_name] \u001b[39m=\u001b[39m new_arg_value\n\u001b[1;32m--> 211\u001b[0m \u001b[39mreturn\u001b[39;00m func(\u001b[39m*\u001b[39margs, \u001b[39m*\u001b[39m\u001b[39m*\u001b[39mkwargs)\n",
      "File \u001b[1;32mc:\\Users\\jga1021\\OneDrive\\Ingeniería\\.conda\\lib\\site-packages\\pandas\\util\\_decorators.py:211\u001b[0m, in \u001b[0;36mdeprecate_kwarg.<locals>._deprecate_kwarg.<locals>.wrapper\u001b[1;34m(*args, **kwargs)\u001b[0m\n\u001b[0;32m    209\u001b[0m     \u001b[39melse\u001b[39;00m:\n\u001b[0;32m    210\u001b[0m         kwargs[new_arg_name] \u001b[39m=\u001b[39m new_arg_value\n\u001b[1;32m--> 211\u001b[0m \u001b[39mreturn\u001b[39;00m func(\u001b[39m*\u001b[39margs, \u001b[39m*\u001b[39m\u001b[39m*\u001b[39mkwargs)\n",
      "File \u001b[1;32mc:\\Users\\jga1021\\OneDrive\\Ingeniería\\.conda\\lib\\site-packages\\pandas\\core\\generic.py:2374\u001b[0m, in \u001b[0;36mNDFrame.to_excel\u001b[1;34m(self, excel_writer, sheet_name, na_rep, float_format, columns, header, index, index_label, startrow, startcol, engine, merge_cells, encoding, inf_rep, verbose, freeze_panes, storage_options)\u001b[0m\n\u001b[0;32m   2361\u001b[0m \u001b[39mfrom\u001b[39;00m \u001b[39mpandas\u001b[39;00m\u001b[39m.\u001b[39;00m\u001b[39mio\u001b[39;00m\u001b[39m.\u001b[39;00m\u001b[39mformats\u001b[39;00m\u001b[39m.\u001b[39;00m\u001b[39mexcel\u001b[39;00m \u001b[39mimport\u001b[39;00m ExcelFormatter\n\u001b[0;32m   2363\u001b[0m formatter \u001b[39m=\u001b[39m ExcelFormatter(\n\u001b[0;32m   2364\u001b[0m     df,\n\u001b[0;32m   2365\u001b[0m     na_rep\u001b[39m=\u001b[39mna_rep,\n\u001b[1;32m   (...)\u001b[0m\n\u001b[0;32m   2372\u001b[0m     inf_rep\u001b[39m=\u001b[39minf_rep,\n\u001b[0;32m   2373\u001b[0m )\n\u001b[1;32m-> 2374\u001b[0m formatter\u001b[39m.\u001b[39;49mwrite(\n\u001b[0;32m   2375\u001b[0m     excel_writer,\n\u001b[0;32m   2376\u001b[0m     sheet_name\u001b[39m=\u001b[39;49msheet_name,\n\u001b[0;32m   2377\u001b[0m     startrow\u001b[39m=\u001b[39;49mstartrow,\n\u001b[0;32m   2378\u001b[0m     startcol\u001b[39m=\u001b[39;49mstartcol,\n\u001b[0;32m   2379\u001b[0m     freeze_panes\u001b[39m=\u001b[39;49mfreeze_panes,\n\u001b[0;32m   2380\u001b[0m     engine\u001b[39m=\u001b[39;49mengine,\n\u001b[0;32m   2381\u001b[0m     storage_options\u001b[39m=\u001b[39;49mstorage_options,\n\u001b[0;32m   2382\u001b[0m )\n",
      "File \u001b[1;32mc:\\Users\\jga1021\\OneDrive\\Ingeniería\\.conda\\lib\\site-packages\\pandas\\io\\formats\\excel.py:918\u001b[0m, in \u001b[0;36mExcelFormatter.write\u001b[1;34m(self, writer, sheet_name, startrow, startcol, freeze_panes, engine, storage_options)\u001b[0m\n\u001b[0;32m    914\u001b[0m     need_save \u001b[39m=\u001b[39m \u001b[39mFalse\u001b[39;00m\n\u001b[0;32m    915\u001b[0m \u001b[39melse\u001b[39;00m:\n\u001b[0;32m    916\u001b[0m     \u001b[39m# error: Cannot instantiate abstract class 'ExcelWriter' with abstract\u001b[39;00m\n\u001b[0;32m    917\u001b[0m     \u001b[39m# attributes 'engine', 'save', 'supported_extensions' and 'write_cells'\u001b[39;00m\n\u001b[1;32m--> 918\u001b[0m     writer \u001b[39m=\u001b[39m ExcelWriter(  \u001b[39m# type: ignore[abstract]\u001b[39;49;00m\n\u001b[0;32m    919\u001b[0m         writer, engine\u001b[39m=\u001b[39;49mengine, storage_options\u001b[39m=\u001b[39;49mstorage_options\n\u001b[0;32m    920\u001b[0m     )\n\u001b[0;32m    921\u001b[0m     need_save \u001b[39m=\u001b[39m \u001b[39mTrue\u001b[39;00m\n\u001b[0;32m    923\u001b[0m \u001b[39mtry\u001b[39;00m:\n",
      "File \u001b[1;32mc:\\Users\\jga1021\\OneDrive\\Ingeniería\\.conda\\lib\\site-packages\\pandas\\io\\excel\\_openpyxl.py:56\u001b[0m, in \u001b[0;36mOpenpyxlWriter.__init__\u001b[1;34m(self, path, engine, date_format, datetime_format, mode, storage_options, if_sheet_exists, engine_kwargs, **kwargs)\u001b[0m\n\u001b[0;32m     43\u001b[0m \u001b[39mdef\u001b[39;00m \u001b[39m__init__\u001b[39m(\n\u001b[0;32m     44\u001b[0m     \u001b[39mself\u001b[39m,\n\u001b[0;32m     45\u001b[0m     path: FilePath \u001b[39m|\u001b[39m WriteExcelBuffer \u001b[39m|\u001b[39m ExcelWriter,\n\u001b[1;32m   (...)\u001b[0m\n\u001b[0;32m     54\u001b[0m ) \u001b[39m-\u001b[39m\u001b[39m>\u001b[39m \u001b[39mNone\u001b[39;00m:\n\u001b[0;32m     55\u001b[0m     \u001b[39m# Use the openpyxl module as the Excel writer.\u001b[39;00m\n\u001b[1;32m---> 56\u001b[0m     \u001b[39mfrom\u001b[39;00m \u001b[39mopenpyxl\u001b[39;00m\u001b[39m.\u001b[39;00m\u001b[39mworkbook\u001b[39;00m \u001b[39mimport\u001b[39;00m Workbook\n\u001b[0;32m     58\u001b[0m     engine_kwargs \u001b[39m=\u001b[39m combine_kwargs(engine_kwargs, kwargs)\n\u001b[0;32m     60\u001b[0m     \u001b[39msuper\u001b[39m()\u001b[39m.\u001b[39m\u001b[39m__init__\u001b[39m(\n\u001b[0;32m     61\u001b[0m         path,\n\u001b[0;32m     62\u001b[0m         mode\u001b[39m=\u001b[39mmode,\n\u001b[1;32m   (...)\u001b[0m\n\u001b[0;32m     65\u001b[0m         engine_kwargs\u001b[39m=\u001b[39mengine_kwargs,\n\u001b[0;32m     66\u001b[0m     )\n",
      "\u001b[1;31mModuleNotFoundError\u001b[0m: No module named 'openpyxl'"
     ]
    }
   ],
   "source": [
    "# Exportamos a Excel\n",
    "archivo = \"ListadoInterv_Preprocesado.xlsx\"\n",
    "df.to_excel(archivo)"
   ]
  },
  {
   "cell_type": "code",
   "execution_count": null,
   "metadata": {},
   "outputs": [],
   "source": []
  }
 ],
 "metadata": {
  "kernelspec": {
   "display_name": "base",
   "language": "python",
   "name": "python3"
  },
  "language_info": {
   "codemirror_mode": {
    "name": "ipython",
    "version": 3
   },
   "file_extension": ".py",
   "mimetype": "text/x-python",
   "name": "python",
   "nbconvert_exporter": "python",
   "pygments_lexer": "ipython3",
   "version": "3.9.12"
  },
  "orig_nbformat": 4,
  "vscode": {
   "interpreter": {
    "hash": "3ef2e7258956d4c4ca9f7d45655e0afacc3fe724d58d4e843bf4bc0c1d2d6da8"
   }
  }
 },
 "nbformat": 4,
 "nbformat_minor": 2
}
