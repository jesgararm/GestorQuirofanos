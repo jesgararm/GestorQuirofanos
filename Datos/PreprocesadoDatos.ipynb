{
 "cells": [
  {
   "cell_type": "markdown",
   "metadata": {},
   "source": [
    "# Preprocesado de Datos\n",
    " ## Se importan datos usando las funcionalidades de Numpy y Pandas\n",
    " \n",
    " ### Trabajo de Fin de Grado - Universidad de Burgos\n",
    " #### Jesús García Armario"
   ]
  },
  {
   "cell_type": "code",
   "execution_count": 1,
   "metadata": {},
   "outputs": [],
   "source": [
    "## Imports\n",
    "import pandas as pd\n",
    "import numpy as np"
   ]
  },
  {
   "attachments": {},
   "cell_type": "markdown",
   "metadata": {},
   "source": [
    "### Dataset Servicio Andaluz de Salud:"
   ]
  },
  {
   "cell_type": "code",
   "execution_count": 2,
   "metadata": {},
   "outputs": [],
   "source": [
    "# Cargamos un dataframe por especialidad\n",
    "ruta ='.\\Listados'\n",
    "df_plastica = pd.read_excel(ruta+'\\listadoPlastica.xls', skipfooter= 12, header = [9,10], index_col=[1,4,5])\n",
    "df_neurocia = pd.read_excel(ruta+'\\listadoNeurocia.xls', skipfooter= 12, header = [9,10], index_col=[1,4,5])\n",
    "df_toracica = pd.read_excel(ruta+'\\listadoToracica.xls', skipfooter= 12, header = [9,10], index_col=[1,4,5])\n",
    "df_maxilo = pd.read_excel(ruta+'\\listadoMaxilo.xls', skipfooter= 12, header = [9,10], index_col=[1,4,5])\n",
    "df_trauma = pd.read_excel(ruta+'\\listadoTrauma.xls', skipfooter= 12, header = [9,10], index_col=[1,4,5])\n",
    "df_otorrino = pd.read_excel(ruta+'\\listadoOtorrino.xls', skipfooter= 12, header = [9,10], index_col=[1,4,5])\n",
    "df_general = pd.read_excel(ruta+'\\listadoGeneral.xls', skipfooter= 12, header = [9,10], index_col=[1,4,5])"
   ]
  },
  {
   "cell_type": "code",
   "execution_count": 3,
   "metadata": {},
   "outputs": [],
   "source": [
    "# Definimos función que recibe el data frame y lo devuelve preprocesado\n",
    "def preprocesar(df: pd.DataFrame):\n",
    "    # Eliminamos columnas vacías\n",
    "    df = df.droplevel(level=1,axis=0)\n",
    "    df = df.droplevel(level = 1, axis = 1)\n",
    "    df = df.dropna(axis=1, how='all')\n",
    "    del df['QUIRÓFANO']\n",
    "    del df['APELLIDOS, NOMBRE']\n",
    "    del df['TURNO']\n",
    "    del df['INICIO']\n",
    "    del df['FIN']\n",
    "    df = df.drop(df.columns[[0]],axis=1)\n",
    "\n",
    "    # Se renombran las columnas repetidas\n",
    "    cols = []\n",
    "    count = 1\n",
    "    countT = 1\n",
    "    contC = 1\n",
    "    for i in df.columns:\n",
    "        if i=='DURACIÓN':\n",
    "            cols.append('DURACIÓN'+str(count))\n",
    "            count += 1\n",
    "            continue\n",
    "        if i == 'TIPO':\n",
    "            cols.append('TIPO'+str(countT))\n",
    "            countT+=1\n",
    "            continue\n",
    "        if i=='CARÁCTER ECONÓMICO':\n",
    "            cols.append('CARÁCTER ECONÓMICO'+str(contC))\n",
    "            contC+=1\n",
    "            continue\n",
    "        cols.append(i)\n",
    "\n",
    "    df.columns = cols\n",
    "\n",
    "    # Eliminamos la columna que sobra\n",
    "    del df['DURACIÓN1']\n",
    "    # Renombramos la otra\n",
    "    df.rename(columns = {\"TIPO1\": \"TIPO\", \"TIPO2\": \"TURNO\", \"DURACIÓN2\":\"DURACIÓN\", \"CARÁCTER ECONÓMICO1\":\"CARÁCTER ECONÓMICO\",\n",
    "    \"CARÁCTER ECONÓMICO2\":\"PONDERACIÓN\"},inplace=True)\n",
    "\n",
    "    # Eliminamos filas vacías\n",
    "    df = df.dropna(axis=0,how = 'all')\n",
    "    # Codificamos: Cirugía Menor = 0; Cirugía Mayor = 1\n",
    "    df['TIPO'] = df['TIPO'].replace(['Menor','Mayor'],[0,1])\n",
    "    # Codificamos: Mañana = 0; Tarde = 1\n",
    "    df['TURNO'] = df['TURNO'].replace(['Mañana','Tarde'],[0,1])\n",
    "    # Codificamos: Actividad Ordinaria = 0; Continuidad Asistencial = 1\n",
    "    df['CARÁCTER ECONÓMICO'] = df['CARÁCTER ECONÓMICO'].replace(['Actividad Ordinaria','Continuidad Asistencial'],[0,1])\n",
    "    # Eliminamos texto\n",
    "    df['TIPO'] = df['TIPO'].replace(r'^\\D',np.nan,regex=True)\n",
    "    df['CARÁCTER ECONÓMICO'] = df['CARÁCTER ECONÓMICO'].replace(r'^\\D',np.nan,regex=True)\n",
    "    df['PONDERACIÓN'] = df['PONDERACIÓN'].replace(r'^\\D',np.nan,regex=True)\n",
    "    df['NUHSA'] = df['NUHSA'].replace(r'^\\D',np.nan,regex=True)\n",
    "    # Eliminamos filas nulas\n",
    "    df = df.dropna(axis=0,how = 'all')\n",
    "\n",
    "    # Cambiamos el nombre del atributo NUHSA\n",
    "    df.rename(columns={\"NUHSA\":\"INTERVENCIÓN\"},inplace=True)\n",
    "    df.reset_index(inplace = True)\n",
    "    del df[\"level_0\"]\n",
    "    df.rename(columns={\"level_1\":\"NHC\"},inplace = True)\n",
    "    df = df.groupby('NHC', as_index = False).aggregate({\"INTERVENCIÓN\":\"last\",\"TIPO\":\"first\", \"TURNO\":\"first\", \n",
    "    \"CARÁCTER ECONÓMICO\":\"last\",\"PONDERACIÓN\":\"last\", \"DURACIÓN\":\"first\"})\n",
    "\n",
    "    # Eliminamos los valores que tienen algún nulo\n",
    "    df = df.dropna(axis=0,how='any')\n",
    "\n",
    "    return df"
   ]
  },
  {
   "cell_type": "code",
   "execution_count": 4,
   "metadata": {},
   "outputs": [],
   "source": [
    "# Preprocesamos los datos\n",
    "df_plastica = preprocesar(df_plastica)\n",
    "df_neurocia = preprocesar(df_neurocia)\n",
    "df_toracica = preprocesar(df_toracica)\n",
    "df_maxilo = preprocesar(df_maxilo)\n",
    "df_trauma = preprocesar(df_trauma)\n",
    "df_otorrino = preprocesar(df_otorrino)\n",
    "df_general = preprocesar(df_general)\n",
    "# Añadimos una columna con el valor de las especialidades\n",
    "especialidad = ['PLASTICA'] * len(df_plastica)\n",
    "df_plastica['ESPECIALIDAD'] = especialidad\n",
    "especialidad = ['NEUROCIRUGIA'] * len(df_neurocia)\n",
    "df_neurocia['ESPECIALIDAD'] = especialidad\n",
    "especialidad = ['TORACICA'] * len(df_toracica)\n",
    "df_toracica['ESPECIALIDAD'] = especialidad\n",
    "especialidad = ['MAXILOFACIAL'] * len(df_maxilo)\n",
    "df_maxilo['ESPECIALIDAD'] = especialidad\n",
    "especialidad = ['TRAUMATOLOGIA'] * len(df_trauma)\n",
    "df_trauma['ESPECIALIDAD'] = especialidad\n",
    "especialidad = ['OTORRINOLARINGOLOGIA'] * len(df_otorrino)\n",
    "df_otorrino['ESPECIALIDAD'] = especialidad\n",
    "especialidad = ['GENERAL'] * len(df_general)\n",
    "df_general['ESPECIALIDAD'] = especialidad"
   ]
  },
  {
   "cell_type": "code",
   "execution_count": 7,
   "metadata": {},
   "outputs": [],
   "source": [
    "# Unimos los dataframes en uno solo\n",
    "df = pd.concat([df_plastica,df_neurocia,df_toracica,df_maxilo,df_trauma, df_otorrino, df_general],ignore_index=True)"
   ]
  },
  {
   "attachments": {},
   "cell_type": "markdown",
   "metadata": {},
   "source": [
    "EXPORTAMOS A ARCHIVO EXTERNO"
   ]
  },
  {
   "cell_type": "code",
   "execution_count": 8,
   "metadata": {},
   "outputs": [],
   "source": [
    "# Exportamos a Excel\n",
    "archivo = \"ListadoInterv_Preprocesado.xlsx\"\n",
    "df.to_excel(archivo)"
   ]
  }
 ],
 "metadata": {
  "kernelspec": {
   "display_name": "base",
   "language": "python",
   "name": "python3"
  },
  "language_info": {
   "codemirror_mode": {
    "name": "ipython",
    "version": 3
   },
   "file_extension": ".py",
   "mimetype": "text/x-python",
   "name": "python",
   "nbconvert_exporter": "python",
   "pygments_lexer": "ipython3",
   "version": "3.9.12"
  },
  "orig_nbformat": 4,
  "vscode": {
   "interpreter": {
    "hash": "3ef2e7258956d4c4ca9f7d45655e0afacc3fe724d58d4e843bf4bc0c1d2d6da8"
   }
  }
 },
 "nbformat": 4,
 "nbformat_minor": 2
}
