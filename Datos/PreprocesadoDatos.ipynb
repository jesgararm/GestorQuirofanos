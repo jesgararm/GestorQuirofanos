{
 "cells": [
  {
   "cell_type": "markdown",
   "metadata": {},
   "source": [
    "# Preprocesado de Datos\n",
    " ## Se importan datos usando las funcionalidades de Numpy y Pandas\n",
    " \n",
    " ### Trabajo de Fin de Grado - Universidad de Burgos\n",
    " #### Jesús García Armario"
   ]
  },
  {
   "cell_type": "code",
   "execution_count": 1,
   "metadata": {},
   "outputs": [],
   "source": [
    "## Imports\n",
    "import pandas as pd\n",
    "import numpy as np"
   ]
  },
  {
   "cell_type": "code",
   "execution_count": 26,
   "metadata": {},
   "outputs": [],
   "source": [
    "# Se importa el fichero excel de intervenciones realizadas\n",
    "df = pd.read_excel('rptListadoIntervRealizadas.xls',header = [9,10], skipfooter = 12,index_col=[1,4,5])\n",
    "\n",
    "# Eliminamos columnas vacías\n",
    "df = df.droplevel(level=1,axis=0)\n",
    "df = df.droplevel(level = 1, axis = 1)\n",
    "df = df.dropna(axis=1, how='all')\n",
    "del df['QUIRÓFANO']\n",
    "del df['APELLIDOS, NOMBRE']\n",
    "del df['TURNO']\n",
    "del df['INICIO']\n",
    "del df['FIN']\n",
    "df = df.drop(df.columns[[0]],axis=1)\n",
    "\n",
    "# Se renombran las columnas repetidas\n",
    "cols = []\n",
    "count = 1\n",
    "countT = 1\n",
    "contC = 1\n",
    "for i in df.columns:\n",
    "    if i=='DURACIÓN':\n",
    "        cols.append('DURACIÓN'+str(count))\n",
    "        count += 1\n",
    "        continue\n",
    "    if i == 'TIPO':\n",
    "        cols.append('TIPO'+str(countT))\n",
    "        countT+=1\n",
    "        continue\n",
    "    if i=='CARÁCTER ECONÓMICO':\n",
    "        cols.append('CARÁCTER ECONÓMICO'+str(contC))\n",
    "        contC+=1\n",
    "        continue\n",
    "    cols.append(i)\n",
    "\n",
    "df.columns = cols\n",
    "\n",
    "# Eliminamos la columna que sobra\n",
    "del df['DURACIÓN1']\n",
    "# Renombramos la otra\n",
    "df.rename(columns = {\"TIPO1\": \"TIPO\", \"TIPO2\": \"TURNO\", \"DURACIÓN2\":\"DURACIÓN\", \"CARÁCTER ECONÓMICO1\":\"CARÁCTER ECONÓMICO\",\n",
    "\"CARÁCTER ECONÓMICO2\":\"PONDERACIÓN\"},inplace=True)\n",
    "\n",
    "# Eliminamos filas vacías\n",
    "df = df.dropna(axis=0,how = 'all')\n",
    "# Codificamos: Cirugía Menor = 0; Cirugía Mayor = 1\n",
    "df['TIPO'] = df['TIPO'].replace(['Menor','Mayor'],[0,1])\n",
    "# Codificamos: Mañana = 0; Tarde = 1\n",
    "df['TURNO'] = df['TURNO'].replace(['Mañana','Tarde'],[0,1])\n",
    "# Codificamos: Actividad Ordinaria = 0; Continuidad Asistencial = 1\n",
    "df['CARÁCTER ECONÓMICO'] = df['CARÁCTER ECONÓMICO'].replace(['Actividad Ordinaria','Continuidad Asistencial'],[0,1])\n",
    "# Eliminamos texto\n",
    "df['TIPO'] = df['TIPO'].replace(r'^\\D',np.nan,regex=True)\n",
    "df['CARÁCTER ECONÓMICO'] = df['CARÁCTER ECONÓMICO'].replace(r'^\\D',np.nan,regex=True)\n",
    "df['PONDERACIÓN'] = df['PONDERACIÓN'].replace(r'^\\D',np.nan,regex=True)\n",
    "df['NUHSA'] = df['NUHSA'].replace(r'^\\D',np.nan,regex=True)\n",
    "# Eliminamos filas nulas\n",
    "df = df.dropna(axis=0,how = 'all')\n",
    "\n",
    "# Cambiamos el nombre del atributo NUHSA\n",
    "df.rename(columns={\"NUHSA\":\"INTERVENCIÓN\"},inplace=True)\n",
    "df.reset_index(inplace = True)\n",
    "del df[\"level_0\"]\n",
    "df.rename(columns={\"level_1\":\"NHC\"},inplace = True)\n",
    "df = df.groupby('NHC', as_index = False).aggregate({\"INTERVENCIÓN\":\"last\",\"TIPO\":\"first\", \"TURNO\":\"first\", \n",
    "\"CARÁCTER ECONÓMICO\":\"last\",\"PONDERACIÓN\":\"last\", \"DURACIÓN\":\"first\"})\n",
    "\n",
    "# Eliminamos los valores que tienen algún nulo\n",
    "df = df.dropna(axis=0,how='any')"
   ]
  },
  {
   "cell_type": "markdown",
   "metadata": {},
   "source": []
  },
  {
   "cell_type": "code",
   "execution_count": 27,
   "metadata": {},
   "outputs": [],
   "source": [
    "# Exportamos a Excel\n",
    "archivo = \"ListadoInterv_Preprocesado.xlsx\"\n",
    "\n",
    "df.to_excel(archivo)"
   ]
  },
  {
   "cell_type": "markdown",
   "metadata": {},
   "source": []
  }
 ],
 "metadata": {
  "kernelspec": {
   "display_name": "Python 3.8.8 ('base')",
   "language": "python",
   "name": "python3"
  },
  "language_info": {
   "codemirror_mode": {
    "name": "ipython",
    "version": 3
   },
   "file_extension": ".py",
   "mimetype": "text/x-python",
   "name": "python",
   "nbconvert_exporter": "python",
   "pygments_lexer": "ipython3",
   "version": "3.8.8"
  },
  "orig_nbformat": 4,
  "vscode": {
   "interpreter": {
    "hash": "bf3af929399e33db1e41ad617b916306dbfe2416bfce8a87b7312facdc25c496"
   }
  }
 },
 "nbformat": 4,
 "nbformat_minor": 2
}
