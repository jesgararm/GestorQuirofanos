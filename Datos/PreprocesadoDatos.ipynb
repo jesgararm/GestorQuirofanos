{
 "cells": [
  {
   "cell_type": "markdown",
   "metadata": {},
   "source": [
    "# Preprocesado de Datos\n",
    " ## Se importan datos usando las funcionalidades de Numpy y Pandas\n",
    " \n",
    " ### Trabajo de Fin de Grado - Universidad de Burgos\n",
    " #### Jesús García Armario"
   ]
  },
  {
   "cell_type": "code",
   "execution_count": 1,
   "metadata": {},
   "outputs": [],
   "source": [
    "## Imports\n",
    "import pandas as pd\n",
    "import numpy as np"
   ]
  },
  {
   "attachments": {},
   "cell_type": "markdown",
   "metadata": {},
   "source": [
    "### Dataset Servicio Andaluz de Salud:"
   ]
  },
  {
   "cell_type": "code",
   "execution_count": 26,
   "metadata": {},
   "outputs": [],
   "source": [
    "# Se importa el fichero excel de intervenciones realizadas\n",
    "df = pd.read_excel('rptListadoIntervRealizadas.xls',header = [9,10], skipfooter = 12,index_col=[1,4,5])\n",
    "\n",
    "# Eliminamos columnas vacías\n",
    "df = df.droplevel(level=1,axis=0)\n",
    "df = df.droplevel(level = 1, axis = 1)\n",
    "df = df.dropna(axis=1, how='all')\n",
    "del df['QUIRÓFANO']\n",
    "del df['APELLIDOS, NOMBRE']\n",
    "del df['TURNO']\n",
    "del df['INICIO']\n",
    "del df['FIN']\n",
    "df = df.drop(df.columns[[0]],axis=1)\n",
    "\n",
    "# Se renombran las columnas repetidas\n",
    "cols = []\n",
    "count = 1\n",
    "countT = 1\n",
    "contC = 1\n",
    "for i in df.columns:\n",
    "    if i=='DURACIÓN':\n",
    "        cols.append('DURACIÓN'+str(count))\n",
    "        count += 1\n",
    "        continue\n",
    "    if i == 'TIPO':\n",
    "        cols.append('TIPO'+str(countT))\n",
    "        countT+=1\n",
    "        continue\n",
    "    if i=='CARÁCTER ECONÓMICO':\n",
    "        cols.append('CARÁCTER ECONÓMICO'+str(contC))\n",
    "        contC+=1\n",
    "        continue\n",
    "    cols.append(i)\n",
    "\n",
    "df.columns = cols\n",
    "\n",
    "# Eliminamos la columna que sobra\n",
    "del df['DURACIÓN1']\n",
    "# Renombramos la otra\n",
    "df.rename(columns = {\"TIPO1\": \"TIPO\", \"TIPO2\": \"TURNO\", \"DURACIÓN2\":\"DURACIÓN\", \"CARÁCTER ECONÓMICO1\":\"CARÁCTER ECONÓMICO\",\n",
    "\"CARÁCTER ECONÓMICO2\":\"PONDERACIÓN\"},inplace=True)\n",
    "\n",
    "# Eliminamos filas vacías\n",
    "df = df.dropna(axis=0,how = 'all')\n",
    "# Codificamos: Cirugía Menor = 0; Cirugía Mayor = 1\n",
    "df['TIPO'] = df['TIPO'].replace(['Menor','Mayor'],[0,1])\n",
    "# Codificamos: Mañana = 0; Tarde = 1\n",
    "df['TURNO'] = df['TURNO'].replace(['Mañana','Tarde'],[0,1])\n",
    "# Codificamos: Actividad Ordinaria = 0; Continuidad Asistencial = 1\n",
    "df['CARÁCTER ECONÓMICO'] = df['CARÁCTER ECONÓMICO'].replace(['Actividad Ordinaria','Continuidad Asistencial'],[0,1])\n",
    "# Eliminamos texto\n",
    "df['TIPO'] = df['TIPO'].replace(r'^\\D',np.nan,regex=True)\n",
    "df['CARÁCTER ECONÓMICO'] = df['CARÁCTER ECONÓMICO'].replace(r'^\\D',np.nan,regex=True)\n",
    "df['PONDERACIÓN'] = df['PONDERACIÓN'].replace(r'^\\D',np.nan,regex=True)\n",
    "df['NUHSA'] = df['NUHSA'].replace(r'^\\D',np.nan,regex=True)\n",
    "# Eliminamos filas nulas\n",
    "df = df.dropna(axis=0,how = 'all')\n",
    "\n",
    "# Cambiamos el nombre del atributo NUHSA\n",
    "df.rename(columns={\"NUHSA\":\"INTERVENCIÓN\"},inplace=True)\n",
    "df.reset_index(inplace = True)\n",
    "del df[\"level_0\"]\n",
    "df.rename(columns={\"level_1\":\"NHC\"},inplace = True)\n",
    "df = df.groupby('NHC', as_index = False).aggregate({\"INTERVENCIÓN\":\"last\",\"TIPO\":\"first\", \"TURNO\":\"first\", \n",
    "\"CARÁCTER ECONÓMICO\":\"last\",\"PONDERACIÓN\":\"last\", \"DURACIÓN\":\"first\"})\n",
    "\n",
    "# Eliminamos los valores que tienen algún nulo\n",
    "df = df.dropna(axis=0,how='any')"
   ]
  },
  {
   "attachments": {},
   "cell_type": "markdown",
   "metadata": {},
   "source": [
    "EXPORTAMOS A ARCHIVO EXTERNO"
   ]
  },
  {
   "cell_type": "code",
   "execution_count": 27,
   "metadata": {},
   "outputs": [],
   "source": [
    "# Exportamos a Excel\n",
    "archivo = \"ListadoInterv_Preprocesado.xlsx\"\n",
    "\n",
    "df.to_excel(archivo)"
   ]
  },
  {
   "attachments": {},
   "cell_type": "markdown",
   "metadata": {},
   "source": [
    "## Dataset Kaggle:"
   ]
  },
  {
   "cell_type": "code",
   "execution_count": 4,
   "metadata": {},
   "outputs": [
    {
     "name": "stdout",
     "output_type": "stream",
     "text": [
      "   Encounter ID       Date  OR Suite      Service  CPT Code  \\\n",
      "0         10001 2022-01-03         1     Podiatry     28110   \n",
      "1         10002 2022-01-03         1     Podiatry     28055   \n",
      "2         10003 2022-01-03         1     Podiatry     28297   \n",
      "3         10004 2022-01-03         1     Podiatry     28296   \n",
      "4         10005 2022-01-03         2  Orthopedics     27445   \n",
      "\n",
      "                             CPT Description  Booked Time (min)  \\\n",
      "0   Partial ostectomy, fifth metatarsal head                 90   \n",
      "1  Neurectomy, intrinsic musculature of foot                 60   \n",
      "2                       Lapidus bunionectomy                150   \n",
      "3         Bunionectomy with distal osteotomy                120   \n",
      "4        Arthroplasty, knee, hinge prothesis                120   \n",
      "\n",
      "          OR Schedule           Wheels In          Start Time  \\\n",
      "0 2022-01-03 07:00:00 2022-01-03 07:05:00 2022-01-03 07:32:00   \n",
      "1 2022-01-03 08:45:00 2022-01-03 09:48:00 2022-01-03 10:13:00   \n",
      "2 2022-01-03 10:00:00 2022-01-03 11:50:00 2022-01-03 12:20:00   \n",
      "3 2022-01-03 12:45:00 2022-01-03 13:29:00 2022-01-03 13:53:00   \n",
      "4 2022-01-03 07:00:00 2022-01-03 07:15:00 2022-01-03 07:50:00   \n",
      "\n",
      "             End Time          Wheels Out  \n",
      "0 2022-01-03 09:05:00 2022-01-03 09:17:00  \n",
      "1 2022-01-03 11:01:00 2022-01-03 11:12:00  \n",
      "2 2022-01-03 12:42:00 2022-01-03 12:58:00  \n",
      "3 2022-01-03 14:50:00 2022-01-03 15:02:00  \n",
      "4 2022-01-03 09:38:00 2022-01-03 09:51:00  \n"
     ]
    }
   ],
   "source": [
    "df_kaggle = pd.read_excel('./archive/2022_Q1_OR_Utilization.xlsx')\n",
    "print(df_kaggle.head(5))"
   ]
  },
  {
   "cell_type": "code",
   "execution_count": null,
   "metadata": {},
   "outputs": [],
   "source": []
  }
 ],
 "metadata": {
  "kernelspec": {
   "display_name": "Python 3",
   "language": "python",
   "name": "python3"
  },
  "language_info": {
   "codemirror_mode": {
    "name": "ipython",
    "version": 3
   },
   "file_extension": ".py",
   "mimetype": "text/x-python",
   "name": "python",
   "nbconvert_exporter": "python",
   "pygments_lexer": "ipython3",
   "version": "3.11.0"
  },
  "orig_nbformat": 4,
  "vscode": {
   "interpreter": {
    "hash": "c261aea317cc0286b3b3261fbba9abdec21eaa57589985bb7a274bf54d6cc0a7"
   }
  }
 },
 "nbformat": 4,
 "nbformat_minor": 2
}
