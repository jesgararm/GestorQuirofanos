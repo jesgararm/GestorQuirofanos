{
 "cells": [
  {
   "attachments": {},
   "cell_type": "markdown",
   "metadata": {},
   "source": [
    "# Preprocesado de Datos\n",
    " ## Se importan datos de BBDD usando las funcionalidades de Numpy y Pandas\n",
    " \n",
    " ### Trabajo de Fin de Grado - Universidad de Burgos\n",
    " #### Jesús García Armario"
   ]
  },
  {
   "cell_type": "code",
   "execution_count": 1,
   "metadata": {},
   "outputs": [],
   "source": [
    "## Imports\n",
    "import pandas as pd\n",
    "import numpy as np"
   ]
  },
  {
   "attachments": {},
   "cell_type": "markdown",
   "metadata": {},
   "source": [
    "### Dataset Servicio Andaluz de Salud:"
   ]
  },
  {
   "cell_type": "code",
   "execution_count": 2,
   "metadata": {},
   "outputs": [],
   "source": [
    "# Cargamos un dataframe por especialidad\n",
    "ruta ='.\\Listados'\n",
    "df_plastica = pd.read_excel(ruta+'\\listadoPlastica.xls', skipfooter= 12, header = [9,10], index_col=[1,4,5])\n",
    "df_neurocia = pd.read_excel(ruta+'\\listadoNeurocia.xls', skipfooter= 12, header = [9,10], index_col=[1,4,5])\n",
    "df_toracica = pd.read_excel(ruta+'\\listadoToracica.xls', skipfooter= 12, header = [9,10], index_col=[1,4,5])\n",
    "df_maxilo = pd.read_excel(ruta+'\\listadoMaxilo.xls', skipfooter= 12, header = [9,10], index_col=[1,4,5])\n",
    "df_trauma = pd.read_excel(ruta+'\\listadoTrauma.xls', skipfooter= 12, header = [9,10], index_col=[1,4,5])\n",
    "df_otorrino = pd.read_excel(ruta+'\\listadoOtorrino.xls', skipfooter= 12, header = [9,10], index_col=[1,4,5])\n",
    "df_general = pd.read_excel(ruta+'\\listadoGeneral.xls', skipfooter= 12, header = [9,10], index_col=[1,4,5])"
   ]
  },
  {
   "cell_type": "code",
   "execution_count": 3,
   "metadata": {},
   "outputs": [],
   "source": [
    "# Definimos función que recibe el data frame y lo devuelve preprocesado\n",
    "def preprocesar(df: pd.DataFrame):\n",
    "    # Eliminamos columnas vacías\n",
    "    df = df.droplevel(level=1,axis=0)\n",
    "    df = df.droplevel(level = 1, axis = 1)\n",
    "    df = df.dropna(axis=1, how='all')\n",
    "    del df['QUIRÓFANO']\n",
    "    del df['APELLIDOS, NOMBRE']\n",
    "    del df['TURNO']\n",
    "    del df['INICIO']\n",
    "    del df['FIN']\n",
    "    df = df.drop(df.columns[[0]],axis=1)\n",
    "\n",
    "    # Se renombran las columnas repetidas\n",
    "    cols = []\n",
    "    count = 1\n",
    "    countT = 1\n",
    "    contC = 1\n",
    "    for i in df.columns:\n",
    "        if i=='DURACIÓN':\n",
    "            cols.append('DURACIÓN'+str(count))\n",
    "            count += 1\n",
    "            continue\n",
    "        if i == 'TIPO':\n",
    "            cols.append('TIPO'+str(countT))\n",
    "            countT+=1\n",
    "            continue\n",
    "        if i=='CARÁCTER ECONÓMICO':\n",
    "            cols.append('CARÁCTER ECONÓMICO'+str(contC))\n",
    "            contC+=1\n",
    "            continue\n",
    "        cols.append(i)\n",
    "\n",
    "    df.columns = cols\n",
    "\n",
    "    # Eliminamos la columna que sobra\n",
    "    del df['DURACIÓN1']\n",
    "    # Renombramos la otra\n",
    "    df.rename(columns = {\"TIPO1\": \"TIPO\", \"TIPO2\": \"TURNO\", \"DURACIÓN2\":\"DURACIÓN\", \"CARÁCTER ECONÓMICO1\":\"CARÁCTER ECONÓMICO\",\n",
    "    \"CARÁCTER ECONÓMICO2\":\"PONDERACIÓN\"},inplace=True)\n",
    "\n",
    "    # Eliminamos filas vacías\n",
    "    df = df.dropna(axis=0,how = 'all')\n",
    "    # Codificamos: Cirugía Menor = 0; Cirugía Mayor = 1\n",
    "    df['TIPO'] = df['TIPO'].replace(['Menor','Mayor'],[0,1])\n",
    "    # Codificamos: Mañana = 0; Tarde = 1\n",
    "    df['TURNO'] = df['TURNO'].replace(['Mañana','Tarde'],[0,1])\n",
    "    # Codificamos: Actividad Ordinaria = 0; Continuidad Asistencial = 1\n",
    "    df['CARÁCTER ECONÓMICO'] = df['CARÁCTER ECONÓMICO'].replace(['Actividad Ordinaria','Continuidad Asistencial'],[0,1])\n",
    "    # Eliminamos texto\n",
    "    df['TIPO'] = df['TIPO'].replace(r'^\\D',np.nan,regex=True)\n",
    "    df['CARÁCTER ECONÓMICO'] = df['CARÁCTER ECONÓMICO'].replace(r'^\\D',np.nan,regex=True)\n",
    "    df['PONDERACIÓN'] = df['PONDERACIÓN'].replace(r'^\\D',np.nan,regex=True)\n",
    "    df['NUHSA'] = df['NUHSA'].replace(r'^\\D',np.nan,regex=True)\n",
    "    # Eliminamos filas nulas\n",
    "    df = df.dropna(axis=0,how = 'all')\n",
    "\n",
    "    # Cambiamos el nombre del atributo NUHSA\n",
    "    df.rename(columns={\"NUHSA\":\"INTERVENCIÓN\"},inplace=True)\n",
    "    df.reset_index(inplace = True)\n",
    "    del df[\"level_0\"]\n",
    "    df.rename(columns={\"level_1\":\"NHC\"},inplace = True)\n",
    "    df = df.groupby('NHC', as_index = False).aggregate({\"INTERVENCIÓN\":\"last\",\"TIPO\":\"first\", \"TURNO\":\"first\", \n",
    "    \"CARÁCTER ECONÓMICO\":\"last\",\"PONDERACIÓN\":\"last\", \"DURACIÓN\":\"first\"})\n",
    "\n",
    "    # Eliminamos los valores que tienen algún nulo\n",
    "    df = df.dropna(axis=0,how='any')\n",
    "\n",
    "    return df"
   ]
  },
  {
   "cell_type": "code",
   "execution_count": 4,
   "metadata": {},
   "outputs": [],
   "source": [
    "# Preprocesamos los datos\n",
    "df_plastica = preprocesar(df_plastica)\n",
    "df_neurocia = preprocesar(df_neurocia)\n",
    "df_toracica = preprocesar(df_toracica)\n",
    "df_maxilo = preprocesar(df_maxilo)\n",
    "df_trauma = preprocesar(df_trauma)\n",
    "df_otorrino = preprocesar(df_otorrino)\n",
    "df_general = preprocesar(df_general)\n",
    "# Añadimos una columna con el valor de las especialidades\n",
    "especialidad = ['PLASTICA'] * len(df_plastica)\n",
    "df_plastica['ESPECIALIDAD'] = especialidad\n",
    "especialidad = ['NEUROCIRUGIA'] * len(df_neurocia)\n",
    "df_neurocia['ESPECIALIDAD'] = especialidad\n",
    "especialidad = ['TORACICA'] * len(df_toracica)\n",
    "df_toracica['ESPECIALIDAD'] = especialidad\n",
    "especialidad = ['MAXILOFACIAL'] * len(df_maxilo)\n",
    "df_maxilo['ESPECIALIDAD'] = especialidad\n",
    "especialidad = ['TRAUMATOLOGIA'] * len(df_trauma)\n",
    "df_trauma['ESPECIALIDAD'] = especialidad\n",
    "especialidad = ['OTORRINOLARINGOLOGIA'] * len(df_otorrino)\n",
    "df_otorrino['ESPECIALIDAD'] = especialidad\n",
    "especialidad = ['GENERAL'] * len(df_general)\n",
    "df_general['ESPECIALIDAD'] = especialidad"
   ]
  },
  {
   "cell_type": "code",
   "execution_count": 5,
   "metadata": {},
   "outputs": [],
   "source": [
    "# Unimos los dataframes en uno solo\n",
    "df = pd.concat([df_plastica,df_neurocia,df_toracica,df_maxilo,df_trauma, df_otorrino, df_general],ignore_index=True)"
   ]
  },
  {
   "attachments": {},
   "cell_type": "markdown",
   "metadata": {},
   "source": [
    "EXPORTAMOS A ARCHIVO EXTERNO"
   ]
  },
  {
   "cell_type": "code",
   "execution_count": 6,
   "metadata": {},
   "outputs": [],
   "source": [
    "# Exportamos a Excel\n",
    "archivo = \"ListadoInterv_Preprocesado.xlsx\"\n",
    "df.to_excel(archivo)"
   ]
  },
  {
   "attachments": {},
   "cell_type": "markdown",
   "metadata": {},
   "source": [
    "DIVISIÓN POR ESPECIALIDADES"
   ]
  },
  {
   "cell_type": "code",
   "execution_count": 7,
   "metadata": {},
   "outputs": [],
   "source": [
    "# Cargamos el archivo preprocesado\n",
    "archivo = \"ListadoInterv_Preprocesado.xlsx\"\n",
    "df = pd.read_excel(archivo)"
   ]
  },
  {
   "cell_type": "code",
   "execution_count": 8,
   "metadata": {},
   "outputs": [],
   "source": [
    "# Creamos un dataframe por cada especialidad\n",
    "df_plastica = df[df['ESPECIALIDAD'] == 'PLASTICA']\n",
    "df_neurocia = df[df['ESPECIALIDAD'] == 'NEUROCIRUGIA']\n",
    "df_toracica = df[df['ESPECIALIDAD'] == 'TORACICA']\n",
    "df_maxilo = df[df['ESPECIALIDAD'] == 'MAXILOFACIAL']\n",
    "df_trauma = df[df['ESPECIALIDAD'] == 'TRAUMATOLOGIA']\n",
    "df_otorrino = df[df['ESPECIALIDAD'] == 'OTORRINOLARINGOLOGIA']\n",
    "df_general = df[df['ESPECIALIDAD'] == 'GENERAL']"
   ]
  },
  {
   "cell_type": "code",
   "execution_count": 9,
   "metadata": {},
   "outputs": [],
   "source": [
    "# Exportamos cada dataframe a un archivo Excel\n",
    "archivo = \"ListadoInterv_Preprocesado_PLASTICA.xlsx\"\n",
    "df_plastica.to_excel(archivo)\n",
    "archivo = \"ListadoInterv_Preprocesado_NEUROCIRUGIA.xlsx\"\n",
    "df_neurocia.to_excel(archivo)\n",
    "archivo = \"ListadoInterv_Preprocesado_TORACICA.xlsx\"\n",
    "df_toracica.to_excel(archivo)\n",
    "archivo = \"ListadoInterv_Preprocesado_MAXILOFACIAL.xlsx\"\n",
    "df_maxilo.to_excel(archivo)\n",
    "archivo = \"ListadoInterv_Preprocesado_TRAUMATOLOGIA.xlsx\"\n",
    "df_trauma.to_excel(archivo)\n",
    "archivo = \"ListadoInterv_Preprocesado_OTORRINOLARINGOLOGIA.xlsx\"\n",
    "df_otorrino.to_excel(archivo)\n",
    "archivo = \"ListadoInterv_Preprocesado_GENERAL.xlsx\"\n",
    "df_general.to_excel(archivo)"
   ]
  },
  {
   "attachments": {},
   "cell_type": "markdown",
   "metadata": {},
   "source": [
    "AMPLIACIÓN DATOS"
   ]
  },
  {
   "cell_type": "code",
   "execution_count": 10,
   "metadata": {},
   "outputs": [],
   "source": [
    "# Cargamos el datafrma de cirugía plástica\n",
    "archivo = \"ListadoInterv_Preprocesado_PLASTICA.xlsx\"\n",
    "df_plastica = pd.read_excel(archivo)\n",
    "# Cargamos la actualización de cirugía plástica\n",
    "ruta = \".\\Act_List\"\n",
    "df_plastica_act = pd.read_excel(ruta+\"\\codigosPlastica.xlsx\")"
   ]
  },
  {
   "cell_type": "code",
   "execution_count": 11,
   "metadata": {},
   "outputs": [
    {
     "name": "stdout",
     "output_type": "stream",
     "text": [
      "   Usuario (Nhc) Usuario (Sexo) Usuario (Fecha de nacimiento)     Asa  \\\n",
      "0       153619.0          Mujer                    1966-08-25  ASA II   \n",
      "1      3628310.0          Mujer                    1964-10-17  ASA II   \n",
      "2      3085680.0          Mujer                    1961-06-10  ASA II   \n",
      "3      1252380.0          Mujer                    1960-04-29  ASA II   \n",
      "4      1884313.0         Hombre                    1984-11-17  ASA II   \n",
      "\n",
      "  Garantía del procedimiento (Con garantía| Sin garantía)  \\\n",
      "0                                       Sin garantía        \n",
      "1                                       Sin garantía        \n",
      "2                                       Sin garantía        \n",
      "3                                       Sin garantía        \n",
      "4                                       Sin garantía        \n",
      "\n",
      "   Código facultativo responsable Código diagnóstico  Código especialidad  \\\n",
      "0                         6224871              V51.0                70240   \n",
      "1                         6224871             996.54                70240   \n",
      "2                        10396174             V45.71                70240   \n",
      "3                         6253264             V45.71                70240   \n",
      "4                        10396174              272.6                70240   \n",
      "\n",
      "   Código procedimiento  Código prioridad asistencial  \\\n",
      "0                 85.70                             2   \n",
      "1                 85.94                             2   \n",
      "2                 85.70                             2   \n",
      "3                 85.70                             2   \n",
      "4                 86.83                             2   \n",
      "\n",
      "   Código tipo de anestesia  Código tipo de cirugia  \n",
      "0                         1                       1  \n",
      "1                         1                       1  \n",
      "2                         1                       1  \n",
      "3                         1                       1  \n",
      "4                         1                       1  \n"
     ]
    }
   ],
   "source": [
    "print(df_plastica_act.head())"
   ]
  },
  {
   "cell_type": "code",
   "execution_count": 12,
   "metadata": {},
   "outputs": [],
   "source": [
    "# Cambiamos el nombre de la columna 'Usuario (NHC)' por 'NHC'\n",
    "df_plastica_act.rename(columns={\"Usuario (Nhc)\":\"NHC\"},inplace=True)\n",
    "# Eliminamos la columna 'Unnamed: 0 y 'Unnamed: 0.1'\n",
    "del df_plastica['Unnamed: 0']\n",
    "del df_plastica['Unnamed: 0.1']\n",
    "# Eliminamos los valores nulos\n",
    "df_plastica = df_plastica.dropna(axis=0,how='any')\n",
    "df_plastica_act = df_plastica_act.dropna(axis=0,how='any')\n",
    "# Eliminamos los duplicados\n",
    "df_plastica = df_plastica.drop_duplicates()\n",
    "df_plastica_act = df_plastica_act.drop_duplicates()"
   ]
  },
  {
   "cell_type": "code",
   "execution_count": 13,
   "metadata": {},
   "outputs": [],
   "source": [
    "# Hacemos un merge de los dos dataframes\n",
    "df_plastica = pd.merge(df_plastica,df_plastica_act,how='left',on='NHC')"
   ]
  },
  {
   "cell_type": "code",
   "execution_count": 14,
   "metadata": {},
   "outputs": [
    {
     "name": "stdout",
     "output_type": "stream",
     "text": [
      "       NHC  INTERVENCIÓN  TIPO  TURNO  CARÁCTER ECONÓMICO  PONDERACIÓN  \\\n",
      "1  1001107         86.40     1      0                  36           36   \n",
      "3  1001395         86.40     1      0                  55           55   \n",
      "4  1001395         86.40     1      0                  55           55   \n",
      "5  1001623         86.70     1      1                 146          146   \n",
      "6  1002204         86.74     1      1                  41           41   \n",
      "\n",
      "   DURACIÓN ESPECIALIDAD Usuario (Sexo) Usuario (Fecha de nacimiento)  \\\n",
      "1        33     PLASTICA         Hombre                    1933-01-31   \n",
      "3        60     PLASTICA         Hombre                    1936-04-05   \n",
      "4        60     PLASTICA         Hombre                    1936-04-05   \n",
      "5        42     PLASTICA          Mujer                    1983-02-16   \n",
      "6        72     PLASTICA         Hombre                    1935-03-02   \n",
      "\n",
      "       Asa Garantía del procedimiento (Con garantía| Sin garantía)  \\\n",
      "1  ASA III                                       Con garantía        \n",
      "3  ASA III                                       Con garantía        \n",
      "4  ASA III                                       Sin garantía        \n",
      "5    ASA I                                       Con garantía        \n",
      "6  ASA III                                       Con garantía        \n",
      "\n",
      "   Código facultativo responsable Código diagnóstico  Código especialidad  \\\n",
      "1                       9805686.0             173.82              70240.0   \n",
      "3                       9805686.0             173.31              70240.0   \n",
      "4                       9805686.0             173.81              70240.0   \n",
      "5                       6224871.0              906.9              70240.0   \n",
      "6                      17510924.0             173.31              70240.0   \n",
      "\n",
      "   Código procedimiento  Código prioridad asistencial  \\\n",
      "1                 86.40                           1.0   \n",
      "3                 86.40                           1.0   \n",
      "4                 86.99                           1.0   \n",
      "5                 86.70                           2.0   \n",
      "6                 86.70                           1.0   \n",
      "\n",
      "   Código tipo de anestesia  Código tipo de cirugia  \n",
      "1                       2.0                     2.0  \n",
      "3                       1.0                     1.0  \n",
      "4                       2.0                     2.0  \n",
      "5                       2.0                     2.0  \n",
      "6                       2.0                     2.0  \n"
     ]
    }
   ],
   "source": [
    "# Eliminamos los valores nulos\n",
    "df_plastica = df_plastica.dropna(axis=0,how='any')\n",
    "print(df_plastica.head())"
   ]
  },
  {
   "cell_type": "code",
   "execution_count": 15,
   "metadata": {},
   "outputs": [],
   "source": [
    "# Definimos función para calcular edad a partir de fecha de nacimiento\n",
    "import datetime\n",
    "def calcular_edad(fecha_nacimiento):\n",
    "    hoy = datetime.date.today()\n",
    "    edad = hoy.year - fecha_nacimiento.year - ((hoy.month, hoy.day) < (fecha_nacimiento.month, fecha_nacimiento.day))\n",
    "    return edad"
   ]
  },
  {
   "cell_type": "code",
   "execution_count": 16,
   "metadata": {},
   "outputs": [],
   "source": [
    "# Calculamos la edad a partir de la fecha de nacimiento\n",
    "df_plastica['EDAD'] = df_plastica['Usuario (Fecha de nacimiento)'].apply(lambda x: calcular_edad(x))\n",
    "del df_plastica['Usuario (Fecha de nacimiento)']"
   ]
  },
  {
   "cell_type": "code",
   "execution_count": 17,
   "metadata": {},
   "outputs": [
    {
     "name": "stdout",
     "output_type": "stream",
     "text": [
      "       NHC  INTERVENCIÓN  TIPO  TURNO  CARÁCTER ECONÓMICO  PONDERACIÓN  \\\n",
      "1  1001107         86.40     1      0                  36           36   \n",
      "3  1001395         86.40     1      0                  55           55   \n",
      "4  1001395         86.40     1      0                  55           55   \n",
      "5  1001623         86.70     1      1                 146          146   \n",
      "6  1002204         86.74     1      1                  41           41   \n",
      "\n",
      "   DURACIÓN ESPECIALIDAD Usuario (Sexo)      Asa  \\\n",
      "1        33     PLASTICA         Hombre  ASA III   \n",
      "3        60     PLASTICA         Hombre  ASA III   \n",
      "4        60     PLASTICA         Hombre  ASA III   \n",
      "5        42     PLASTICA          Mujer    ASA I   \n",
      "6        72     PLASTICA         Hombre  ASA III   \n",
      "\n",
      "  Garantía del procedimiento (Con garantía| Sin garantía)  \\\n",
      "1                                       Con garantía        \n",
      "3                                       Con garantía        \n",
      "4                                       Sin garantía        \n",
      "5                                       Con garantía        \n",
      "6                                       Con garantía        \n",
      "\n",
      "   Código facultativo responsable Código diagnóstico  Código especialidad  \\\n",
      "1                       9805686.0             173.82              70240.0   \n",
      "3                       9805686.0             173.31              70240.0   \n",
      "4                       9805686.0             173.81              70240.0   \n",
      "5                       6224871.0              906.9              70240.0   \n",
      "6                      17510924.0             173.31              70240.0   \n",
      "\n",
      "   Código procedimiento  Código prioridad asistencial  \\\n",
      "1                 86.40                           1.0   \n",
      "3                 86.40                           1.0   \n",
      "4                 86.99                           1.0   \n",
      "5                 86.70                           2.0   \n",
      "6                 86.70                           1.0   \n",
      "\n",
      "   Código tipo de anestesia  Código tipo de cirugia  EDAD  \n",
      "1                       2.0                     2.0    90  \n",
      "3                       1.0                     1.0    86  \n",
      "4                       2.0                     2.0    86  \n",
      "5                       2.0                     2.0    40  \n",
      "6                       2.0                     2.0    88  \n"
     ]
    }
   ],
   "source": [
    "print(df_plastica.head())"
   ]
  },
  {
   "cell_type": "code",
   "execution_count": 18,
   "metadata": {},
   "outputs": [],
   "source": [
    "# Exportamos a Excel\n",
    "archivo = \"ListadoInterv_Preprocesado_PLASTICA.xlsx\"\n",
    "df_plastica.to_excel(archivo)"
   ]
  }
 ],
 "metadata": {
  "kernelspec": {
   "display_name": "base",
   "language": "python",
   "name": "python3"
  },
  "language_info": {
   "codemirror_mode": {
    "name": "ipython",
    "version": 3
   },
   "file_extension": ".py",
   "mimetype": "text/x-python",
   "name": "python",
   "nbconvert_exporter": "python",
   "pygments_lexer": "ipython3",
   "version": "3.9.13"
  },
  "orig_nbformat": 4,
  "vscode": {
   "interpreter": {
    "hash": "3ef2e7258956d4c4ca9f7d45655e0afacc3fe724d58d4e843bf4bc0c1d2d6da8"
   }
  }
 },
 "nbformat": 4,
 "nbformat_minor": 2
}
