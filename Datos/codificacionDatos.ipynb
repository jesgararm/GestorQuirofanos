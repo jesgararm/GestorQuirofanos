{
 "cells": [
  {
   "attachments": {},
   "cell_type": "markdown",
   "metadata": {},
   "source": [
    "# Codificación de Datos\n",
    " ## Se codifican los datos importados y preprocesados con anterioridad.\n",
    " \n",
    " ### Trabajo de Fin de Grado - Universidad de Burgos\n",
    " #### Jesús García Armario"
   ]
  },
  {
   "cell_type": "code",
   "execution_count": 1,
   "metadata": {
    "ExecuteTime": {
     "end_time": "2023-05-28T00:50:29.587234100Z",
     "start_time": "2023-05-28T00:50:29.568515300Z"
    }
   },
   "outputs": [],
   "source": [
    "import numpy as np\n",
    "import pandas as pd\n",
    "import sys\n",
    "sys.path.append('..\\\\')\n",
    "from Preprocesado.Codificacion import codificaEstandar, codificaAmpliado"
   ]
  },
  {
   "cell_type": "code",
   "execution_count": 2,
   "metadata": {
    "ExecuteTime": {
     "end_time": "2023-05-28T00:50:33.180229800Z",
     "start_time": "2023-05-28T00:50:31.295719800Z"
    }
   },
   "outputs": [
    {
     "data": {
      "text/plain": "Unnamed: 0              int64\nNHC                     int64\nINTERVENCIÓN          float64\nTIPO                    int64\nTURNO                   int64\nCARÁCTER ECONÓMICO      int64\nPONDERACIÓN             int64\nDURACIÓN                int64\nESPECIALIDAD           object\ndtype: object"
     },
     "execution_count": 2,
     "metadata": {},
     "output_type": "execute_result"
    }
   ],
   "source": [
    "# Importamos el listado original de los datos\n",
    "df = pd.read_excel('Listados_Preprocesados\\ListadoInterv_Preprocesado.xlsx')\n",
    "# Visualizamos el tipo de los datos\n",
    "df.dtypes"
   ]
  },
  {
   "cell_type": "code",
   "execution_count": 3,
   "metadata": {
    "ExecuteTime": {
     "end_time": "2023-05-28T00:50:34.358923500Z",
     "start_time": "2023-05-28T00:50:34.346178400Z"
    }
   },
   "outputs": [],
   "source": [
    "df = df.drop(['Unnamed: 0'], axis=1)\n",
    "df = codificaEstandar(df)"
   ]
  },
  {
   "cell_type": "code",
   "execution_count": 4,
   "metadata": {
    "ExecuteTime": {
     "end_time": "2023-05-28T00:50:36.341204700Z",
     "start_time": "2023-05-28T00:50:36.330976600Z"
    }
   },
   "outputs": [
    {
     "name": "stdout",
     "output_type": "stream",
     "text": [
      "       NHC  INTERVENCIÓN  TIPO  TURNO  CARÁCTER ECONÓMICO  PONDERACIÓN  \\\n",
      "0  1000738          86.7     1      1                  33           33   \n",
      "1  1001107          86.4     1      0                  36           36   \n",
      "2  1001240          86.4     1      0                  18            7   \n",
      "3  1001395          86.4     1      0                  55           55   \n",
      "4  1001623          86.7     1      1                 146          146   \n",
      "\n",
      "   DURACIÓN  ESPECIALIDAD_GENERAL  ESPECIALIDAD_MAXILOFACIAL  \\\n",
      "0        29                     0                          0   \n",
      "1        33                     0                          0   \n",
      "2        65                     0                          0   \n",
      "3        60                     0                          0   \n",
      "4        42                     0                          0   \n",
      "\n",
      "   ESPECIALIDAD_NEUROCIRUGIA  ESPECIALIDAD_OTORRINOLARINGOLOGIA  \\\n",
      "0                          0                                  0   \n",
      "1                          0                                  0   \n",
      "2                          0                                  0   \n",
      "3                          0                                  0   \n",
      "4                          0                                  0   \n",
      "\n",
      "   ESPECIALIDAD_PLASTICA  ESPECIALIDAD_TORACICA  ESPECIALIDAD_TRAUMATOLOGIA  \n",
      "0                      1                      0                           0  \n",
      "1                      1                      0                           0  \n",
      "2                      1                      0                           0  \n",
      "3                      1                      0                           0  \n",
      "4                      1                      0                           0  \n"
     ]
    }
   ],
   "source": [
    "print(df.head(5))"
   ]
  },
  {
   "cell_type": "code",
   "execution_count": 5,
   "metadata": {
    "ExecuteTime": {
     "end_time": "2023-05-28T00:50:40.514967800Z",
     "start_time": "2023-05-28T00:50:37.604574800Z"
    }
   },
   "outputs": [],
   "source": [
    "# Exportamos a un excel\n",
    "df.to_excel('Listados_Preprocesados\\ListadoInterv_Preprocesado_Codificado.xlsx', index=False)"
   ]
  },
  {
   "cell_type": "code",
   "execution_count": 6,
   "metadata": {
    "ExecuteTime": {
     "end_time": "2023-05-28T00:50:42.976976500Z",
     "start_time": "2023-05-28T00:50:42.738387400Z"
    }
   },
   "outputs": [
    {
     "data": {
      "text/plain": "Unnamed: 0                                                   int64\nNHC                                                          int64\nINTERVENCIÓN                                               float64\nTIPO                                                         int64\nTURNO                                                        int64\nCARÁCTER ECONÓMICO                                           int64\nPONDERACIÓN                                                  int64\nDURACIÓN                                                     int64\nESPECIALIDAD                                                object\nUsuario (Sexo)                                              object\nAsa                                                         object\nGarantía del procedimiento (Con garantía| Sin garantía)     object\nCódigo facultativo responsable                               int64\nCódigo diagnóstico                                          object\nCódigo especialidad                                          int64\nCódigo procedimiento                                       float64\nCódigo prioridad asistencial                                 int64\nCódigo tipo de anestesia                                     int64\nCódigo tipo de cirugia                                       int64\nEDAD                                                         int64\ndtype: object"
     },
     "execution_count": 6,
     "metadata": {},
     "output_type": "execute_result"
    }
   ],
   "source": [
    "# Cargamos el listado de PLASTICA\n",
    "df = pd.read_excel('Listados_Preprocesados\\ListadoInterv_Preprocesado_PLASTICA.xlsx')\n",
    "# Visualizamos el tipo de los datos\n",
    "df.dtypes"
   ]
  },
  {
   "cell_type": "code",
   "execution_count": 7,
   "metadata": {
    "ExecuteTime": {
     "end_time": "2023-05-28T00:50:49.237971300Z",
     "start_time": "2023-05-28T00:50:49.211660100Z"
    }
   },
   "outputs": [],
   "source": [
    "# Eliminar la columna 'Unnamed: 0'\n",
    "df = df.drop(['Unnamed: 0'], axis=1)\n",
    "df = codificaAmpliado(df)"
   ]
  },
  {
   "cell_type": "code",
   "execution_count": 8,
   "outputs": [
    {
     "name": "stdout",
     "output_type": "stream",
     "text": [
      "       NHC  INTERVENCIÓN  TIPO  TURNO  CARÁCTER ECONÓMICO  PONDERACIÓN  \\\n",
      "0  1001107         86.40     1      0                  36           36   \n",
      "1  1001395         86.40     1      0                  55           55   \n",
      "2  1001395         86.40     1      0                  55           55   \n",
      "3  1001623         86.70     1      1                 146          146   \n",
      "4  1002204         86.74     1      1                  41           41   \n",
      "\n",
      "   DURACIÓN  Usuario (Sexo)  Asa  \\\n",
      "0        33               0    3   \n",
      "1        60               0    3   \n",
      "2        60               0    3   \n",
      "3        42               1    1   \n",
      "4        72               0    3   \n",
      "\n",
      "   Garantía del procedimiento (Con garantía| Sin garantía)  \\\n",
      "0                                                  2         \n",
      "1                                                  2         \n",
      "2                                                  0         \n",
      "3                                                  2         \n",
      "4                                                  2         \n",
      "\n",
      "   Código facultativo responsable Código diagnóstico  Código especialidad  \\\n",
      "0                         9805686             173.82                70240   \n",
      "1                         9805686             173.31                70240   \n",
      "2                         9805686             173.81                70240   \n",
      "3                         6224871              906.9                70240   \n",
      "4                        17510924             173.31                70240   \n",
      "\n",
      "   Código procedimiento  Código prioridad asistencial  \\\n",
      "0                 86.40                             1   \n",
      "1                 86.40                             1   \n",
      "2                 86.99                             1   \n",
      "3                 86.70                             2   \n",
      "4                 86.70                             1   \n",
      "\n",
      "   Código tipo de anestesia  Código tipo de cirugia  EDAD  \n",
      "0                         2                       2    90  \n",
      "1                         1                       1    86  \n",
      "2                         2                       2    86  \n",
      "3                         2                       2    40  \n",
      "4                         2                       2    88  \n"
     ]
    }
   ],
   "source": [
    "print(df.head(5))"
   ],
   "metadata": {
    "collapsed": false,
    "ExecuteTime": {
     "end_time": "2023-05-28T00:50:56.890543400Z",
     "start_time": "2023-05-28T00:50:56.880915500Z"
    }
   }
  },
  {
   "cell_type": "code",
   "execution_count": 9,
   "metadata": {
    "ExecuteTime": {
     "end_time": "2023-05-28T00:51:11.688281600Z",
     "start_time": "2023-05-28T00:51:11.395409500Z"
    }
   },
   "outputs": [],
   "source": [
    "# Pasamos a excel\n",
    "df.to_excel('Listados_Preprocesados\\ListadoInterv_Preprocesado_PLASTICA_Codificado.xlsx', index=False)"
   ]
  }
 ],
 "metadata": {
  "kernelspec": {
   "display_name": "Python 3",
   "language": "python",
   "name": "python3"
  },
  "language_info": {
   "codemirror_mode": {
    "name": "ipython",
    "version": 3
   },
   "file_extension": ".py",
   "mimetype": "text/x-python",
   "name": "python",
   "nbconvert_exporter": "python",
   "pygments_lexer": "ipython3",
   "version": "3.11.0 (main, Oct 24 2022, 18:26:48) [MSC v.1933 64 bit (AMD64)]"
  },
  "orig_nbformat": 4,
  "vscode": {
   "interpreter": {
    "hash": "c261aea317cc0286b3b3261fbba9abdec21eaa57589985bb7a274bf54d6cc0a7"
   }
  }
 },
 "nbformat": 4,
 "nbformat_minor": 2
}
