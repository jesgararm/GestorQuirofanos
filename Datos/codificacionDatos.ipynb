{
 "cells": [
  {
   "attachments": {},
   "cell_type": "markdown",
   "metadata": {},
   "source": [
    "# Codificación de Datos\n",
    " ## Se codifican los datos importados y preprocesados con anterioridad.\n",
    " \n",
    " ### Trabajo de Fin de Grado - Universidad de Burgos\n",
    " #### Jesús García Armario"
   ]
  },
  {
   "cell_type": "code",
   "execution_count": 11,
   "metadata": {},
   "outputs": [],
   "source": [
    "import numpy as np\n",
    "import pandas as pd"
   ]
  },
  {
   "cell_type": "code",
   "execution_count": 12,
   "metadata": {},
   "outputs": [
    {
     "data": {
      "text/plain": [
       "Unnamed: 0              int64\n",
       "NHC                     int64\n",
       "INTERVENCIÓN          float64\n",
       "TIPO                    int64\n",
       "TURNO                  object\n",
       "CARÁCTER ECONÓMICO      int64\n",
       "PONDERACIÓN             int64\n",
       "DURACIÓN                int64\n",
       "ESPECIALIDAD           object\n",
       "dtype: object"
      ]
     },
     "execution_count": 12,
     "metadata": {},
     "output_type": "execute_result"
    }
   ],
   "source": [
    "# Importamos el listado original de los datos\n",
    "df = pd.read_excel('Listados_Preprocesados\\ListadoInterv_Preprocesado.xlsx')\n",
    "# Visualizamos el tipo de los datos\n",
    "df.dtypes"
   ]
  },
  {
   "cell_type": "code",
   "execution_count": 13,
   "metadata": {},
   "outputs": [],
   "source": [
    "# Establecemos la columna TIPO como int64\n",
    "df['TIPO'] = df['TIPO'].astype('int64')\n",
    "# Usamos One Hot Enconding para codificar la columna ESPECIALIDAD\n",
    "df['ESPECIALIDAD'] = df['ESPECIALIDAD'].astype('category')\n",
    "df = pd.get_dummies(df, columns=['ESPECIALIDAD'])"
   ]
  },
  {
   "cell_type": "code",
   "execution_count": 14,
   "metadata": {},
   "outputs": [
    {
     "name": "stdout",
     "output_type": "stream",
     "text": [
      "   Unnamed: 0      NHC  INTERVENCIÓN  TIPO TURNO  CARÁCTER ECONÓMICO  \\\n",
      "0           0  1000738          86.7     1     1                  33   \n",
      "1           1  1001107          86.4     1     0                  36   \n",
      "2           2  1001240          86.4     1     0                  18   \n",
      "3           3  1001395          86.4     1     0                  55   \n",
      "4           4  1001623          86.7     1     1                 146   \n",
      "\n",
      "   PONDERACIÓN  DURACIÓN  ESPECIALIDAD_GENERAL  ESPECIALIDAD_MAXILOFACIAL  \\\n",
      "0           33        29                     0                          0   \n",
      "1           36        33                     0                          0   \n",
      "2            7        65                     0                          0   \n",
      "3           55        60                     0                          0   \n",
      "4          146        42                     0                          0   \n",
      "\n",
      "   ESPECIALIDAD_NEUROCIRUGIA  ESPECIALIDAD_OTORRINOLARINGOLOGIA  \\\n",
      "0                          0                                  0   \n",
      "1                          0                                  0   \n",
      "2                          0                                  0   \n",
      "3                          0                                  0   \n",
      "4                          0                                  0   \n",
      "\n",
      "   ESPECIALIDAD_PLASTICA  ESPECIALIDAD_TORACICA  ESPECIALIDAD_TRAUMATOLOGIA  \n",
      "0                      1                      0                           0  \n",
      "1                      1                      0                           0  \n",
      "2                      1                      0                           0  \n",
      "3                      1                      0                           0  \n",
      "4                      1                      0                           0  \n"
     ]
    }
   ],
   "source": [
    "print(df.head(5))"
   ]
  },
  {
   "cell_type": "code",
   "execution_count": 15,
   "metadata": {},
   "outputs": [],
   "source": [
    "# Exportamos a un excel\n",
    "df.to_excel('Listados_Preprocesados\\ListadoInterv_Preprocesado_Codificado.xlsx', index=False)"
   ]
  },
  {
   "cell_type": "code",
   "execution_count": null,
   "metadata": {},
   "outputs": [],
   "source": []
  }
 ],
 "metadata": {
  "kernelspec": {
   "display_name": "base",
   "language": "python",
   "name": "python3"
  },
  "language_info": {
   "codemirror_mode": {
    "name": "ipython",
    "version": 3
   },
   "file_extension": ".py",
   "mimetype": "text/x-python",
   "name": "python",
   "nbconvert_exporter": "python",
   "pygments_lexer": "ipython3",
   "version": "3.9.13"
  },
  "orig_nbformat": 4
 },
 "nbformat": 4,
 "nbformat_minor": 2
}
