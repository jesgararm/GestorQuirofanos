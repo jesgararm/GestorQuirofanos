{
 "cells": [
  {
   "attachments": {},
   "cell_type": "markdown",
   "metadata": {},
   "source": [
    "# Preprocesado de Datos - Diagnósticos\n",
    " ## Se importan datos usando las funcionalidades de Numpy y Pandas\n",
    " \n",
    " ### Trabajo de Fin de Grado - Universidad de Burgos\n",
    " #### Jesús García Armario"
   ]
  },
  {
   "cell_type": "code",
   "execution_count": 30,
   "metadata": {},
   "outputs": [],
   "source": [
    "import numpy as np\n",
    "import pandas as pd"
   ]
  },
  {
   "cell_type": "code",
   "execution_count": 31,
   "metadata": {},
   "outputs": [],
   "source": [
    "# Cargamos los datos\n",
    "ruta = '.\\Diagn'\n",
    "df_plastica = pd.read_excel(ruta+'\\listadoDiagPlastica.xls', header=[18,19])\n",
    "df_maxilo = pd.read_excel(ruta+'\\listadoDiagMaxilo.xls', header=[25,26])"
   ]
  },
  {
   "cell_type": "code",
   "execution_count": 34,
   "metadata": {},
   "outputs": [
    {
     "name": "stdout",
     "output_type": "stream",
     "text": [
      "                          Unnamed: 0_level_0     Quirófano  \\\n",
      "                          Unnamed: 0_level_1 Fch. Inscrip.   \n",
      "0                                        NaN           NaN   \n",
      "1                                        NaN           NaN   \n",
      "2                                        NaN           NaN   \n",
      "3  Car��cter econ��mico: Actividad Ordinaria           NaN   \n",
      "4                                        NaN           NaN   \n",
      "\n",
      "                                        NHC         Apellidos y Nombre  \\\n",
      "      Fch. Inscrip..1 Fch. Inscrip..2 NHUSA NHUSA.1 Unnamed: 6_level_1   \n",
      "0  HT P-5 QUIROFANO-3         3307580   NaN     NaN                NaN   \n",
      "1                 NaN             NaN   NaN     NaN                NaN   \n",
      "2                 NaN    AN0977109592   NaN     NaN                NaN   \n",
      "3                 NaN             NaN   NaN     NaN                NaN   \n",
      "4                 NaN             NaN   NaN     NaN                NaN   \n",
      "\n",
      "                             Nº Inscripción        ...  \\\n",
      "          Unnamed: 7_level_1            Mod Mod.1  ...   \n",
      "0  ALAMO PEREZ, MANUEL JESUS            NaN   NaN  ...   \n",
      "1                        NaN            NaN   NaN  ...   \n",
      "2                        NaN            NaN   NaN  ...   \n",
      "3                        NaN            NaN   NaN  ...   \n",
      "4                        NaN            NaN   NaN  ...   \n",
      "\n",
      "                                      Procedimientos Facultativos  \\\n",
      "                                      Diagnósticos.2  Req.Previos   \n",
      "0                                                NaN          NaN   \n",
      "1  [ 76.76 ] [ REDUCCION ABIERTA FRACTURA MANDIBU...          NaN   \n",
      "2                                                NaN          NaN   \n",
      "3                                                NaN          NaN   \n",
      "4     [ 802.6 ] [ FRACTURA CERRADA SUELO ORBITARIO ]          NaN   \n",
      "\n",
      "                                                                               \\\n",
      "  Req.Previos.1                                   Req.Previos.2 Req.Previos.3   \n",
      "0           NaN                                             NaN           NaN   \n",
      "1           Dr.   TORRES CARRANZA EUSEBIO, (Cirujano Principal)           NaN   \n",
      "2           NaN                                             NaN           NaN   \n",
      "3   Anestesista                                             NaN          PEND   \n",
      "4           NaN                                             NaN           NaN   \n",
      "\n",
      "                                                                         \n",
      "  Req.Previos.4 Req.Previos.5 Req.Previos.6 Req.Previos.7 Req.Previos.8  \n",
      "0           NaN           NaN           NaN           NaN           NaN  \n",
      "1           NaN           NaN           NaN           NaN           NaN  \n",
      "2           NaN           NaN           NaN           NaN           NaN  \n",
      "3           NaN           NaN           NaN           NaN           NaN  \n",
      "4           NaN           NaN           NaN           NaN           NaN  \n",
      "\n",
      "[5 rows x 27 columns]\n"
     ]
    }
   ],
   "source": [
    "print(df_maxilo.head())"
   ]
  },
  {
   "cell_type": "code",
   "execution_count": 35,
   "metadata": {},
   "outputs": [],
   "source": [
    "# Función para preprocesar el dataframe de diagnósticos\n",
    "def preprocesar(df : pd.DataFrame):\n",
    "    df =df.droplevel(0, axis = 1)\n",
    "    df['diagostico'] =df.iloc[:,16].astype(str)+df.iloc[:,17].astype(str)\n",
    "    df =df.replace(r'\\[|\\]','',regex=True)\n",
    "    df =df.replace(r'\\s+','',regex=True)\n",
    "    df =df.replace(r'^AN',np.nan,regex=True)\n",
    "    df =df.replace(r'^P:',np.nan,regex=True)\n",
    "    df =df.replace(r'D:','',regex=True)\n",
    "    df =df.replace(r'[a-zA-Z]','',regex=True)\n",
    "    df =df.replace(r'^\\D',np.nan,regex=True)\n",
    "    df =df.replace(r'^(?![\\s\\S])', np.nan, regex= True)\n",
    "    df =df.dropna(axis=0, how='all')\n",
    "    df =df.dropna(axis=1, how='all')\n",
    "    cols = [0,1,2,4,5,6,7,8,9]\n",
    "    df.drop(df.columns[cols], axis=1,inplace=True)\n",
    "    df =df.dropna(axis=0,how='all')\n",
    "    df.rename(columns={df.columns[0]:'NHC'},inplace=True)\n",
    "    df['diagostico'] =df['diagostico'].shift(periods = 1)\n",
    "    df =df.dropna(axis=0,how='any')\n",
    "    return df"
   ]
  },
  {
   "cell_type": "code",
   "execution_count": 36,
   "metadata": {},
   "outputs": [],
   "source": [
    "df_plastica = preprocesar(df_plastica)\n",
    "df_maxilo = preprocesar(df_maxilo)\n",
    "# Cargamos los datos\n",
    "df = pd.read_excel('listadoInterv_Preprocesado.xlsx')"
   ]
  },
  {
   "cell_type": "code",
   "execution_count": 38,
   "metadata": {},
   "outputs": [
    {
     "name": "stdout",
     "output_type": "stream",
     "text": [
      "         NHC diagostico\n",
      "18   3275765    078.19.\n",
      "27   3294180      706.2\n",
      "36   2606681     214.8.\n",
      "44   1564500     216.8.\n",
      "56   3308353     216.8.\n",
      "64   2292748     216.8.\n",
      "76   3072984     216.8.\n",
      "91   3285676     209.69\n",
      "100  1482682      706.2\n",
      "108  3282098      706.2\n"
     ]
    }
   ],
   "source": [
    "print(df_plastica.head(10))"
   ]
  },
  {
   "cell_type": "code",
   "execution_count": 26,
   "metadata": {},
   "outputs": [
    {
     "name": "stdout",
     "output_type": "stream",
     "text": [
      "Empty DataFrame\n",
      "Columns: [Unnamed: 0, NHC, INTERVENCIÓN, TIPO, TURNO, CARÁCTER ECONÓMICO, PONDERACIÓN, DURACIÓN, ESPECIALIDAD, diagostico]\n",
      "Index: []\n"
     ]
    }
   ],
   "source": [
    "# Hacemos el merge\n",
    "#df = df.merge(df_plastica, on='NHC', how='left')\n",
    "df = df.merge(df_maxilo, on='NHC', how='left')\n",
    "df = df.drop_duplicates(subset=['NHC'], keep='first')\n",
    "df = df.dropna(axis=0, how='any')\n",
    "print(df.head(50))"
   ]
  },
  {
   "cell_type": "code",
   "execution_count": null,
   "metadata": {},
   "outputs": [],
   "source": []
  }
 ],
 "metadata": {
  "kernelspec": {
   "display_name": "base",
   "language": "python",
   "name": "python3"
  },
  "language_info": {
   "codemirror_mode": {
    "name": "ipython",
    "version": 3
   },
   "file_extension": ".py",
   "mimetype": "text/x-python",
   "name": "python",
   "nbconvert_exporter": "python",
   "pygments_lexer": "ipython3",
   "version": "3.8.8"
  },
  "orig_nbformat": 4,
  "vscode": {
   "interpreter": {
    "hash": "bf3af929399e33db1e41ad617b916306dbfe2416bfce8a87b7312facdc25c496"
   }
  }
 },
 "nbformat": 4,
 "nbformat_minor": 2
}
