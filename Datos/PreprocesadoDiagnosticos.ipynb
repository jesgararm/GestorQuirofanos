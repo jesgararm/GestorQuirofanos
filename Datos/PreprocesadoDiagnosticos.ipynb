{
 "cells": [
  {
   "attachments": {},
   "cell_type": "markdown",
   "metadata": {},
   "source": [
    "# Preprocesado de Datos - Diagnósticos\n",
    " ## Se importan datos usando las funcionalidades de Numpy y Pandas\n",
    " \n",
    " ### Trabajo de Fin de Grado - Universidad de Burgos\n",
    " #### Jesús García Armario"
   ]
  },
  {
   "cell_type": "code",
   "execution_count": 1,
   "metadata": {},
   "outputs": [],
   "source": [
    "import numpy as np\n",
    "import pandas as pd"
   ]
  },
  {
   "cell_type": "code",
   "execution_count": 19,
   "metadata": {},
   "outputs": [
    {
     "name": "stdout",
     "output_type": "stream",
     "text": [
      "Fch. Inscrip.                        Unnamed: 0_level_0      Fch. Inscrip.  \\\n",
      "2422739                              Unnamed: 0_level_1 Unnamed: 1_level_1   \n",
      "NaN                                                 NaN                NaN   \n",
      "AN0573786323                                        NaN                NaN   \n",
      "NaN            Carácter econÃ³mico: Actividad Ordinaria                NaN   \n",
      "NaN                                                 NaN                NaN   \n",
      "NaN                                 Observaciones:  cma                NaN   \n",
      "\n",
      "Fch. Inscrip.                                 NHUSA                     \\\n",
      "2422739       HT P-5 QUIROFANO-2 Unnamed: 4_level_1 Unnamed: 5_level_1   \n",
      "NaN                          NaN                NaN                NaN   \n",
      "AN0573786323                 NaN                NaN                NaN   \n",
      "NaN                          NaN                NaN                NaN   \n",
      "NaN                          NaN                NaN                NaN   \n",
      "NaN                          NaN                NaN                NaN   \n",
      "\n",
      "Fch. Inscrip.                                                           \\\n",
      "2422739       Unnamed: 6_level_1 LUQUE LEON, MARIA LUQUE LEON, MARIA.1   \n",
      "NaN                          NaN               NaN                 NaN   \n",
      "AN0573786323                 NaN               NaN                 NaN   \n",
      "NaN                          NaN               NaN                 NaN   \n",
      "NaN                          NaN               NaN                 NaN   \n",
      "NaN                          NaN               NaN                 NaN   \n",
      "\n",
      "Fch. Inscrip.                Mod                      ...       DiagnÃ³sticos  \\\n",
      "2422739       Unnamed: 9_level_1 Unnamed: 10_level_1  ... Unnamed: 18_level_1   \n",
      "NaN                          NaN                 NaN  ...                 NaN   \n",
      "AN0573786323                 HDQ                 NaN  ...                 NaN   \n",
      "NaN                          NaN                 NaN  ...                 NaN   \n",
      "NaN                          NaN                 NaN  ...                 NaN   \n",
      "NaN                          NaN                 NaN  ...                 NaN   \n",
      "\n",
      "Fch. Inscrip.                      \\\n",
      "2422739       Unnamed: 19_level_1   \n",
      "NaN                            P:   \n",
      "AN0573786323                  NaN   \n",
      "NaN                            D:   \n",
      "NaN                           NaN   \n",
      "NaN                           NaN   \n",
      "\n",
      "Fch. Inscrip.                                                     \\\n",
      "2422739                                      Unnamed: 20_level_1   \n",
      "NaN                       [ 86.4 ] [ ESCISION PIEL RADICAL (&) ]   \n",
      "AN0573786323                                                 NaN   \n",
      "NaN            [ null ] [ CARCINOMA CELULAS BASALES PIEL OTRO...   \n",
      "NaN                                                          NaN   \n",
      "NaN                                                          NaN   \n",
      "\n",
      "Fch. Inscrip.                             Req.Previos                      \\\n",
      "2422739       Unnamed: 21_level_1 Unnamed: 22_level_1 Unnamed: 23_level_1   \n",
      "NaN                           NaN                 NaN                 Dr.   \n",
      "AN0573786323                  NaN                 NaN                 NaN   \n",
      "NaN                           NaN                 NaN         Anestesista   \n",
      "NaN                           NaN                 NaN                 NaN   \n",
      "NaN                           NaN                 NaN                 NaN   \n",
      "\n",
      "Fch. Inscrip.                                                    \\\n",
      "2422739                                     Unnamed: 24_level_1   \n",
      "NaN             RODRIGUEZ DE LA FE MANUEL, (Cirujano Principal)   \n",
      "AN0573786323                                                NaN   \n",
      "NaN                                                         NaN   \n",
      "NaN                                                         NaN   \n",
      "NaN                                                         NaN   \n",
      "\n",
      "Fch. Inscrip.                                                              \n",
      "2422739       Unnamed: 25_level_1 Unnamed: 26_level_1 Unnamed: 28_level_1  \n",
      "NaN                           NaN                 NaN                 NaN  \n",
      "AN0573786323                  NaN                 NaN                 NaN  \n",
      "NaN                          PEND                 NaN                 NaN  \n",
      "NaN                           NaN                 NaN                 NaN  \n",
      "NaN                           NaN                 NaN                 NaN  \n",
      "\n",
      "[5 rows x 27 columns]\n"
     ]
    }
   ],
   "source": [
    "# Cargamos los datos\n",
    "df_plastica = pd.read_excel('Diagn\\listadoDiagPlastica.xls', skipfooter=7, header=[7,8], index_col=3)\n",
    "df_plastica.dropna(axis=1, how='all', inplace=True)\n",
    "print(df_plastica.head())"
   ]
  },
  {
   "cell_type": "code",
   "execution_count": null,
   "metadata": {},
   "outputs": [],
   "source": []
  },
  {
   "cell_type": "code",
   "execution_count": null,
   "metadata": {},
   "outputs": [],
   "source": []
  }
 ],
 "metadata": {
  "kernelspec": {
   "display_name": "base",
   "language": "python",
   "name": "python3"
  },
  "language_info": {
   "codemirror_mode": {
    "name": "ipython",
    "version": 3
   },
   "file_extension": ".py",
   "mimetype": "text/x-python",
   "name": "python",
   "nbconvert_exporter": "python",
   "pygments_lexer": "ipython3",
   "version": "3.9.12"
  },
  "orig_nbformat": 4,
  "vscode": {
   "interpreter": {
    "hash": "3ef2e7258956d4c4ca9f7d45655e0afacc3fe724d58d4e843bf4bc0c1d2d6da8"
   }
  }
 },
 "nbformat": 4,
 "nbformat_minor": 2
}
