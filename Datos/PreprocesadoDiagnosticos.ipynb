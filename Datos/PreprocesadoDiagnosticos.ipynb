{
 "cells": [
  {
   "attachments": {},
   "cell_type": "markdown",
   "metadata": {},
   "source": [
    "# Preprocesado de Datos - Diagnósticos\n",
    " ## Se importan datos usando las funcionalidades de Numpy y Pandas\n",
    " \n",
    " ### Trabajo de Fin de Grado - Universidad de Burgos\n",
    " #### Jesús García Armario"
   ]
  },
  {
   "cell_type": "code",
   "execution_count": 1,
   "metadata": {},
   "outputs": [],
   "source": [
    "import numpy as np\n",
    "import pandas as pd"
   ]
  },
  {
   "cell_type": "code",
   "execution_count": 37,
   "metadata": {},
   "outputs": [],
   "source": [
    "# Cargamos los datos\n",
    "ruta = '.\\Diagn'\n",
    "df_plastica = pd.read_excel(ruta+'\\listadoDiagPlastica.xls', header=[18,19])\n",
    "df_trauma = pd.read_excel(ruta+'\\listadoDiagTrauma.xls', header=[17,18])"
   ]
  },
  {
   "cell_type": "code",
   "execution_count": 19,
   "metadata": {},
   "outputs": [],
   "source": [
    "# Función para preprocesar el dataframe de diagnósticos\n",
    "def preprocesar(df : pd.DataFrame):\n",
    "    df =df.droplevel(0, axis = 1)\n",
    "    df['diagostico'] =df.iloc[:,16].astype(str)+df.iloc[:,17].astype(str)\n",
    "    df =df.replace(r'\\[|\\]','',regex=True)\n",
    "    df =df.replace(r'\\s+','',regex=True)\n",
    "    df =df.replace(r'^AN',np.nan,regex=True)\n",
    "    df =df.replace(r'^P:',np.nan,regex=True)\n",
    "    df =df.replace(r'D:','',regex=True)\n",
    "    df =df.replace(r'[a-zA-Z]','',regex=True)\n",
    "    df =df.replace(r'^\\D',np.nan,regex=True)\n",
    "    df =df.replace(r'^(?![\\s\\S])', np.nan, regex= True)\n",
    "    df =df.dropna(axis=0, how='all')\n",
    "    df =df.dropna(axis=1, how='all')\n",
    "    cols = [0,1,2,4,5,6,7,8,9]\n",
    "    df.drop(df.columns[cols], axis=1,inplace=True)\n",
    "    df =df.dropna(axis=0,how='all')\n",
    "    df.rename(columns={df.columns[0]:'NHC'},inplace=True)\n",
    "    df['diagostico'] =df['diagostico'].shift(periods = 1)\n",
    "    df =df.dropna(axis=0,how='any')\n",
    "    return df"
   ]
  },
  {
   "cell_type": "code",
   "execution_count": 20,
   "metadata": {},
   "outputs": [],
   "source": [
    "df_plastica = preprocesar(df_plastica)\n",
    "df_trauma = preprocesar(df_trauma)\n",
    "# Cargamos los datos\n",
    "df = pd.read_excel('listadoInterv_Preprocesado.xlsx')"
   ]
  },
  {
   "cell_type": "code",
   "execution_count": 21,
   "metadata": {},
   "outputs": [
    {
     "name": "stdout",
     "output_type": "stream",
     "text": [
      "Empty DataFrame\n",
      "Columns: [NHC, Unnamed: 13_level_1, 1, Unnamed: 15_level_1, Unnamed: 16_level_1, Unnamed: 17_level_1, Unnamed: 22_level_1, Unnamed: 23_level_1, Unnamed: 24_level_1, diagostico]\n",
      "Index: []\n"
     ]
    }
   ],
   "source": [
    "print(df_trauma.head(10))"
   ]
  },
  {
   "cell_type": "code",
   "execution_count": 26,
   "metadata": {},
   "outputs": [
    {
     "name": "stdout",
     "output_type": "stream",
     "text": [
      "Empty DataFrame\n",
      "Columns: [Unnamed: 0, NHC, INTERVENCIÓN, TIPO, TURNO, CARÁCTER ECONÓMICO, PONDERACIÓN, DURACIÓN, ESPECIALIDAD, diagostico]\n",
      "Index: []\n"
     ]
    }
   ],
   "source": [
    "# Hacemos el merge\n",
    "#df = df.merge(df_plastica, on='NHC', how='left')\n",
    "df = df.merge(df_maxilo, on='NHC', how='left')\n",
    "df = df.drop_duplicates(subset=['NHC'], keep='first')\n",
    "df = df.dropna(axis=0, how='any')\n",
    "print(df.head(50))"
   ]
  },
  {
   "cell_type": "code",
   "execution_count": null,
   "metadata": {},
   "outputs": [],
   "source": []
  }
 ],
 "metadata": {
  "kernelspec": {
   "display_name": "base",
   "language": "python",
   "name": "python3"
  },
  "language_info": {
   "codemirror_mode": {
    "name": "ipython",
    "version": 3
   },
   "file_extension": ".py",
   "mimetype": "text/x-python",
   "name": "python",
   "nbconvert_exporter": "python",
   "pygments_lexer": "ipython3",
   "version": "3.9.12"
  },
  "orig_nbformat": 4,
  "vscode": {
   "interpreter": {
    "hash": "3ef2e7258956d4c4ca9f7d45655e0afacc3fe724d58d4e843bf4bc0c1d2d6da8"
   }
  }
 },
 "nbformat": 4,
 "nbformat_minor": 2
}
