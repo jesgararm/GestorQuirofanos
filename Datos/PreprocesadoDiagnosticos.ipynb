{
 "cells": [
  {
   "attachments": {},
   "cell_type": "markdown",
   "metadata": {},
   "source": [
    "# Preprocesado de Datos - Diagnósticos\n",
    " ## Se importan datos usando las funcionalidades de Numpy y Pandas\n",
    " \n",
    " ### Trabajo de Fin de Grado - Universidad de Burgos\n",
    " #### Jesús García Armario"
   ]
  },
  {
   "cell_type": "code",
   "execution_count": 1,
   "metadata": {},
   "outputs": [],
   "source": [
    "import numpy as np\n",
    "import pandas as pd"
   ]
  },
  {
   "cell_type": "code",
   "execution_count": 31,
   "metadata": {},
   "outputs": [
    {
     "name": "stdout",
     "output_type": "stream",
     "text": [
      "                         Unnamed: 0_level_0      Fch. Inscrip.  \\\n",
      "                         Unnamed: 0_level_1 Unnamed: 1_level_1   \n",
      "0                                       NaN                NaN   \n",
      "1                                       NaN                NaN   \n",
      "2                                       NaN                NaN   \n",
      "3  Carácter econÃ³mico: Actividad Ordinaria                NaN   \n",
      "4                                       NaN                NaN   \n",
      "\n",
      "                                                NHUSA                     \\\n",
      "  HT P-2 QUIROFANO-1       3289669 Unnamed: 4_level_1 Unnamed: 5_level_1   \n",
      "0                NaN           NaN                NaN                NaN   \n",
      "1                NaN  AN0587184952                NaN                NaN   \n",
      "2                NaN           NaN                NaN                NaN   \n",
      "3                NaN           NaN                NaN                NaN   \n",
      "4                NaN           NaN                NaN                NaN   \n",
      "\n",
      "                                                          Mod  \\\n",
      "  Unnamed: 6_level_1 DURAN RODRIGUEZ, JOSE Unnamed: 8_level_1   \n",
      "0                NaN                   NaN                NaN   \n",
      "1                NaN                   NaN                NaN   \n",
      "2                NaN                   NaN                NaN   \n",
      "3                NaN                   NaN                NaN   \n",
      "4                NaN                   NaN                NaN   \n",
      "\n",
      "                      ...         Req.Previos  \\\n",
      "  Unnamed: 9_level_1  ... Unnamed: 19_level_1   \n",
      "0                NaN  ...                 Dr.   \n",
      "1                NaN  ...                 NaN   \n",
      "2                NaN  ...                 Dr.   \n",
      "3                NaN  ...                 NaN   \n",
      "4                NaN  ...                 NaN   \n",
      "\n",
      "                                                                          \\\n",
      "                                 Unnamed: 20_level_1 Unnamed: 21_level_1   \n",
      "0   BARRERA PULIDO FERNANDO JULIO, (Cirujano Prin...                 NaN   \n",
      "1                                                NaN                 NaN   \n",
      "2          SANCHEZ VALDERRABANOS JUAN, (Anestesista)                 NaN   \n",
      "3                                                NaN                 NaN   \n",
      "4                                                NaN                 NaN   \n",
      "\n",
      "                                                               \\\n",
      "  Unnamed: 22_level_1 Unnamed: 23_level_1 Unnamed: 24_level_1   \n",
      "0                 NaN                 NaN                 NaN   \n",
      "1                 NaN                 NaN                 NaN   \n",
      "2                 NaN                 NaN                 NaN   \n",
      "3                 NaN                 NaN                 NaN   \n",
      "4                 NaN                 NaN                 NaN   \n",
      "\n",
      "                                                               \\\n",
      "  Unnamed: 25_level_1 Unnamed: 26_level_1 Unnamed: 27_level_1   \n",
      "0                 NaN                 NaN                 NaN   \n",
      "1                 NaN                 NaN                 NaN   \n",
      "2                 NaN                 NaN                 NaN   \n",
      "3                 NaN                 NaN                 NaN   \n",
      "4                 NaN                 NaN                 NaN   \n",
      "\n",
      "                       \n",
      "  Unnamed: 28_level_1  \n",
      "0                 NaN  \n",
      "1                 NaN  \n",
      "2                 NaN  \n",
      "3                 NaN  \n",
      "4                 NaN  \n",
      "\n",
      "[5 rows x 29 columns]\n"
     ]
    }
   ],
   "source": [
    "# Cargamos los datos\n",
    "df_plastica = pd.read_excel('Diagn\\listadoDiagPlastica.xls', header=[19,20])\n",
    "print(df_plastica.head())"
   ]
  },
  {
   "cell_type": "code",
   "execution_count": 30,
   "metadata": {},
   "outputs": [
    {
     "name": "stdout",
     "output_type": "stream",
     "text": [
      "  Unnamed: 0_level_0      Fch. Inscrip.                      NHUSA   Dur.  \\\n",
      "  Unnamed: 0_level_1 Unnamed: 1_level_1 3289669 Unnamed: 5_level_1      2   \n",
      "0                NaN                NaN     NaN                NaN    NaN   \n",
      "1                NaN                NaN     NaN                NaN  210.0   \n",
      "2                NaN                NaN     NaN                NaN    NaN   \n",
      "3                NaN                NaN     NaN                NaN    NaN   \n",
      "4                NaN                NaN     NaN                NaN    NaN   \n",
      "\n",
      "        DiagnÃ³sticos                                     Req.Previos  \\\n",
      "  Unnamed: 16_level_1         Unnamed: 17_level_1 Unnamed: 22_level_1   \n",
      "0                 NaN  86.4ESCISIONPIELRADICAL(&)                 NaN   \n",
      "1                 NaN                         NaN                 NaN   \n",
      "2                 NaN                         NaN                 NaN   \n",
      "3                 NaN                         NaN                 NaN   \n",
      "4                 NaN                         NaN                 NaN   \n",
      "\n",
      "                                          diagostico  \n",
      "  Unnamed: 24_level_1                                 \n",
      "0                 NaN  86.4ESCISIONPIELRADICAL(&)nan  \n",
      "1                 NaN                            NaN  \n",
      "2                 NaN                            NaN  \n",
      "3                 NaN                            NaN  \n",
      "4                 NaN                            NaN  \n"
     ]
    }
   ],
   "source": [
    "df_plastica['diagostico'] = df_plastica.iloc[:,17].astype(str)+df_plastica.iloc[:,18].astype(str)\n",
    "del df_plastica['Unnamed: 17']\n",
    "df_plastica = df_plastica.replace(r'\\[|\\]','',regex=True)\n",
    "df_plastica = df_plastica.replace(r'\\s+','',regex=True)\n",
    "df_plastica = df_plastica.replace(r'^P:',np.nan,regex=True)\n",
    "df_plastica = df_plastica.replace(r'^\\D',np.nan,regex=True)\n",
    "df_plastica = df_plastica.dropna(axis=1, how='all')\n",
    "print(df_plastica.head())"
   ]
  },
  {
   "cell_type": "code",
   "execution_count": null,
   "metadata": {},
   "outputs": [],
   "source": []
  },
  {
   "cell_type": "code",
   "execution_count": null,
   "metadata": {},
   "outputs": [],
   "source": []
  }
 ],
 "metadata": {
  "kernelspec": {
   "display_name": "base",
   "language": "python",
   "name": "python3"
  },
  "language_info": {
   "codemirror_mode": {
    "name": "ipython",
    "version": 3
   },
   "file_extension": ".py",
   "mimetype": "text/x-python",
   "name": "python",
   "nbconvert_exporter": "python",
   "pygments_lexer": "ipython3",
   "version": "3.9.12"
  },
  "orig_nbformat": 4,
  "vscode": {
   "interpreter": {
    "hash": "3ef2e7258956d4c4ca9f7d45655e0afacc3fe724d58d4e843bf4bc0c1d2d6da8"
   }
  }
 },
 "nbformat": 4,
 "nbformat_minor": 2
}
