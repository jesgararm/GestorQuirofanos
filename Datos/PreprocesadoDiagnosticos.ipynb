{
 "cells": [
  {
   "attachments": {},
   "cell_type": "markdown",
   "metadata": {},
   "source": [
    "# Preprocesado de Datos - Diagnósticos\n",
    " ## Se importan datos usando las funcionalidades de Numpy y Pandas\n",
    " \n",
    " ### Trabajo de Fin de Grado - Universidad de Burgos\n",
    " #### Jesús García Armario"
   ]
  },
  {
   "cell_type": "code",
   "execution_count": 25,
   "metadata": {},
   "outputs": [],
   "source": [
    "import numpy as np\n",
    "import pandas as pd"
   ]
  },
  {
   "cell_type": "code",
   "execution_count": 26,
   "metadata": {},
   "outputs": [],
   "source": [
    "# Cargamos los datos\n",
    "ruta = '.\\Diagn'\n",
    "df_plastica = pd.read_excel(ruta+'\\listadoDiagPlastica.xls', header=[18,19])"
   ]
  },
  {
   "cell_type": "code",
   "execution_count": 27,
   "metadata": {},
   "outputs": [],
   "source": [
    "# Función para preprocesar el dataframe de diagnósticos\n",
    "def preprocesar(df : pd.DataFrame):\n",
    "    df =df.droplevel(0, axis = 1)\n",
    "    df['diagostico'] =df.iloc[:,16].astype(str)+df.iloc[:,17].astype(str)\n",
    "    df =df.replace(r'\\[|\\]','',regex=True)\n",
    "    df =df.replace(r'\\s+','',regex=True)\n",
    "    df =df.replace(r'^AN',np.nan,regex=True)\n",
    "    df =df.replace(r'^P:',np.nan,regex=True)\n",
    "    df =df.replace(r'D:','',regex=True)\n",
    "    df =df.replace(r'[a-zA-Z]','',regex=True)\n",
    "    df =df.replace(r'^\\D',np.nan,regex=True)\n",
    "    df =df.replace(r'^(?![\\s\\S])', np.nan, regex= True)\n",
    "    df =df.dropna(axis=0, how='all')\n",
    "    df =df.dropna(axis=1, how='all')\n",
    "    cols = [0,1,2,4,5,6,7,8,9]\n",
    "    df.drop(df.columns[cols], axis=1,inplace=True)\n",
    "    df =df.dropna(axis=0,how='all')\n",
    "    df.rename(columns={df.columns[0]:'NHC'},inplace=True)\n",
    "    df['diagostico'] =df['diagostico'].shift(periods = 1)\n",
    "    df =df.dropna(axis=0,how='any')\n",
    "    return df"
   ]
  },
  {
   "cell_type": "code",
   "execution_count": 28,
   "metadata": {},
   "outputs": [],
   "source": [
    "df_plastica = preprocesar(df_plastica)\n",
    "# Cargamos los datos\n",
    "df = pd.read_excel('listadoInterv_Preprocesado.xlsx')"
   ]
  },
  {
   "cell_type": "code",
   "execution_count": 29,
   "metadata": {},
   "outputs": [
    {
     "name": "stdout",
     "output_type": "stream",
     "text": [
      "     Unnamed: 0      NHC  INTERVENCIÓN  TIPO TURNO  CARÁCTER ECONÓMICO  \\\n",
      "39           39  1020142         21.89     1     0                   1   \n",
      "120         120  1052118         86.40     1     0                  43   \n",
      "123         123  1052446         86.70     1     0                  31   \n",
      "135         135  1057481         86.83     1     0                 584   \n",
      "154         154  1066855         18.79     1     0                 150   \n",
      "167         167  1072469         86.22     1     0                   4   \n",
      "171         171  1075311         86.40     1     0                  29   \n",
      "184         184  1082931         86.40     1     0                  38   \n",
      "228         228  1101236         85.87     1     0                 479   \n",
      "236         236  1106072         86.30     1     0                  62   \n",
      "251         251  1112370         86.40     1     0                  29   \n",
      "272         272  1124662         86.40     1     1                  54   \n",
      "279         279  1126858         85.70     1     0                 783   \n",
      "284         284  1129656         86.40     1     1                  29   \n",
      "300         300  1135111         86.40     1     0                  52   \n",
      "306         306  1137128         86.40     1     0                  48   \n",
      "307         307  1137466         86.40     1     0                  24   \n",
      "347         347  1152759         86.40     1     1                  48   \n",
      "354         354  1154590         86.70     1     0                  20   \n",
      "369         369  1162506         86.22     1     0                   1   \n",
      "389         389  1170464         86.60     1     0                   1   \n",
      "423         423  1184795         86.00     1     0                  28   \n",
      "438         437  1189490         86.70     1     1                  33   \n",
      "441         440  1190172         86.40     1     0                  33   \n",
      "446         445  1193624         85.74     1     0                 382   \n",
      "505         504  1222028         76.97     1     0                 165   \n",
      "532         531  1236941         86.70     1     1                  49   \n",
      "539         538  1241845         86.20     1     0                  48   \n",
      "540         539  1242654         86.30     1     0                1128   \n",
      "546         545  1243926         86.70     1     0                  25   \n",
      "547         546  1244021         85.87     1     1                 227   \n",
      "550         549  1245391         85.87     1     1                 391   \n",
      "562         561  1250142         86.40     1     1                  94   \n",
      "588         587  1259010         40.54     1     0                  51   \n",
      "609         608  1267803         86.30     1     0                 472   \n",
      "673         671  1292051         86.70     0     0                 115   \n",
      "718         716  1304180         86.70     1     1                  25   \n",
      "745         743  1321965         86.22     1     0                   2   \n",
      "759         753  1330186         86.40     1     1                  68   \n",
      "761         755  1331642         86.40     1     0                  55   \n",
      "785         779  1337552         86.40     1     1                 211   \n",
      "804         798  1346553         85.76     1     0                 472   \n",
      "814         808  1349548         86.70     1     0                  42   \n",
      "826         820  1353247         85.53     1     0                 857   \n",
      "838         831  1357630         86.40     1     0                  32   \n",
      "856         849  1365475         86.40     1     1                  60   \n",
      "858         851  1365937         86.40     1     1                  20   \n",
      "859         852  1365976         86.40     1     0                  31   \n",
      "878         871  1379220         86.83     1     0                 482   \n",
      "914         907  1392820         86.40     1     1                  37   \n",
      "\n",
      "     PONDERACIÓN  DURACIÓN ESPECIALIDAD diagostico  \n",
      "39             0       125     PLASTICA     216.8.  \n",
      "120           43        22     PLASTICA     216.8.  \n",
      "123           31        60     PLASTICA     744.47  \n",
      "135            0       180     PLASTICA      706.2  \n",
      "154            0       150     PLASTICA     214.1.  \n",
      "167            0       135     PLASTICA     707.9.  \n",
      "171           29        67     PLASTICA      706.2  \n",
      "184           38       135     PLASTICA       51.0  \n",
      "228          479        81     PLASTICA     216.8.  \n",
      "236            0        38     PLASTICA     172.8.  \n",
      "251           29        94     PLASTICA     172.9.  \n",
      "272           54        35     PLASTICA      946.3  \n",
      "279            0       465     PLASTICA     214.9.  \n",
      "284           29        35     PLASTICA     216.8.  \n",
      "300           52        29     PLASTICA      757.6  \n",
      "306           48        74     PLASTICA     216.8.  \n",
      "307           24        54     PLASTICA     172.8.  \n",
      "347           48        36     PLASTICA      784.2  \n",
      "354           20        74     PLASTICA     216.8.  \n",
      "369            0       335     PLASTICA      802.1  \n",
      "389            1       150     PLASTICA     172.9.  \n",
      "423           28        54     PLASTICA     744.47  \n",
      "438           33       115     PLASTICA      802.1  \n",
      "441           33        35     PLASTICA    744.29.  \n",
      "446          382       540     PLASTICA     216.8.  \n",
      "505          165        60     PLASTICA     216.8.  \n",
      "532           49        40     PLASTICA     216.8.  \n",
      "539           48        80     PLASTICA      45.71  \n",
      "540            0        35     PLASTICA     998.59  \n",
      "546           25        36     PLASTICA     237.70  \n",
      "547          227        24     PLASTICA       52.4  \n",
      "550          391        65     PLASTICA      45.71  \n",
      "562           94        18     PLASTICA     891.0,  \n",
      "588            0       150     PLASTICA      885.0  \n",
      "609            0     44733     PLASTICA     216.8.  \n",
      "673           35        29     PLASTICA      706.2  \n",
      "718           25        20     PLASTICA      946.3  \n",
      "745            0       171     PLASTICA      946.3  \n",
      "759           68        49     PLASTICA     216.8.  \n",
      "761           55       135     PLASTICA       51.0  \n",
      "785            0        24     PLASTICA     216.8.  \n",
      "804            0        54     PLASTICA     216.8.  \n",
      "814           42       115     PLASTICA     216.8.  \n",
      "826          773       140     PLASTICA       51.0  \n",
      "838           32       105     PLASTICA     998.59  \n",
      "856           60        20     PLASTICA     216.8.  \n",
      "858           20        17     PLASTICA     216.8.  \n",
      "859           31       105     PLASTICA     216.8.  \n",
      "878            0       116     PLASTICA      946.3  \n",
      "914           37        22     PLASTICA     216.8.  \n"
     ]
    }
   ],
   "source": [
    "# Hacemos el merge\n",
    "df = df.merge(df_plastica, on='NHC', how='left')\n",
    "df = df.drop_duplicates(subset=['NHC'], keep='first')\n",
    "df = df.dropna(axis=0, how='any')\n",
    "print(df.head(50))"
   ]
  },
  {
   "cell_type": "code",
   "execution_count": null,
   "metadata": {},
   "outputs": [],
   "source": []
  }
 ],
 "metadata": {
  "kernelspec": {
   "display_name": "base",
   "language": "python",
   "name": "python3"
  },
  "language_info": {
   "codemirror_mode": {
    "name": "ipython",
    "version": 3
   },
   "file_extension": ".py",
   "mimetype": "text/x-python",
   "name": "python",
   "nbconvert_exporter": "python",
   "pygments_lexer": "ipython3",
   "version": "3.9.12"
  },
  "orig_nbformat": 4,
  "vscode": {
   "interpreter": {
    "hash": "3ef2e7258956d4c4ca9f7d45655e0afacc3fe724d58d4e843bf4bc0c1d2d6da8"
   }
  }
 },
 "nbformat": 4,
 "nbformat_minor": 2
}
