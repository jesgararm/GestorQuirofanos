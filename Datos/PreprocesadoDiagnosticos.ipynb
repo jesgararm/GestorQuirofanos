{
 "cells": [
  {
   "attachments": {},
   "cell_type": "markdown",
   "metadata": {},
   "source": [
    "# Preprocesado de Datos - Diagnósticos\n",
    " ## Se importan datos usando las funcionalidades de Numpy y Pandas\n",
    " \n",
    " ### Trabajo de Fin de Grado - Universidad de Burgos\n",
    " #### Jesús García Armario"
   ]
  },
  {
   "cell_type": "code",
   "execution_count": 96,
   "metadata": {},
   "outputs": [],
   "source": [
    "import numpy as np\n",
    "import pandas as pd"
   ]
  },
  {
   "cell_type": "code",
   "execution_count": 97,
   "metadata": {},
   "outputs": [],
   "source": [
    "# Cargamos los datos\n",
    "ruta = '.\\Diagn'\n",
    "df_plastica = pd.read_excel(ruta+'\\listadoDiagPlastica.xls', header=[18,19])"
   ]
  },
  {
   "cell_type": "code",
   "execution_count": 98,
   "metadata": {},
   "outputs": [],
   "source": [
    "# Función para preprocesar el dataframe de diagnósticos\n",
    "def preprocesar(df : pd.DataFrame):\n",
    "    df =df.droplevel(0, axis = 1)\n",
    "    df['diagostico'] =df.iloc[:,16].astype(str)+df.iloc[:,17].astype(str)\n",
    "    df =df.replace(r'\\[|\\]','',regex=True)\n",
    "    df =df.replace(r'\\s+','',regex=True)\n",
    "    df =df.replace(r'^AN',np.nan,regex=True)\n",
    "    df =df.replace(r'^P:',np.nan,regex=True)\n",
    "    df =df.replace(r'D:','',regex=True)\n",
    "    df =df.replace(r'[a-zA-Z]','',regex=True)\n",
    "    df =df.replace(r'^\\D',np.nan,regex=True)\n",
    "    df =df.replace(r'^(?![\\s\\S])', np.nan, regex= True)\n",
    "    df =df.dropna(axis=0, how='all')\n",
    "    df =df.dropna(axis=1, how='all')\n",
    "    cols = [0,1,2,4,5,6,7,8,9]\n",
    "    df.drop(df.columns[cols], axis=1,inplace=True)\n",
    "    df =df.dropna(axis=0,how='all')\n",
    "    df.rename(columns={df.columns[0]:'NHC'},inplace=True)\n",
    "    df['diagostico'] =df['diagostico'].shift(periods = 1)\n",
    "    df =df.dropna(axis=0,how='any')\n",
    "    return df"
   ]
  },
  {
   "cell_type": "code",
   "execution_count": 99,
   "metadata": {},
   "outputs": [
    {
     "name": "stdout",
     "output_type": "stream",
     "text": [
      "         NHC diagostico\n",
      "18   3275765    078.19.\n",
      "27   3294180      706.2\n",
      "36   2606681     214.8.\n",
      "44   1564500     216.8.\n",
      "56   3308353     216.8.\n",
      "64   2292748     216.8.\n",
      "76   3072984     216.8.\n",
      "91   3285676     209.69\n",
      "100  1482682      706.2\n",
      "108  3282098      706.2\n",
      "116  2060055      528.4\n",
      "124  3308661     216.8.\n",
      "132  3282164     216.8.\n",
      "140  3308663     216.8.\n",
      "152  2342269     216.8.\n",
      "160  1966006     216.8.\n",
      "175  3067720     702.8.\n",
      "183  2423282      706.2\n",
      "191  1353056     709.9.\n",
      "207  1409219     216.8.\n",
      "215  2122509     216.8.\n",
      "223  3312881     216.8.\n",
      "235  1509852     216.8.\n",
      "243  2607160     216.8.\n",
      "257  3131875     738.8.\n",
      "265  2454519      448.1\n",
      "273  3292946      706.2\n",
      "282  3306247      706.2\n",
      "290  1123244     216.8.\n",
      "298  3309040     216.8.\n",
      "306  1055837     216.8.\n",
      "318  1759129     216.8.\n",
      "330  2280485     216.8.\n",
      "345  2455537     707.9.\n",
      "355  2552003     172.9.\n",
      "365  2441048      45.71\n",
      "374  1740884     380.32\n",
      "383  1014762      706.2\n",
      "411  3148518     216.8.\n",
      "419  3263892     216.8.\n",
      "431  2422739     216.8.\n",
      "459  3174432     216.8.\n",
      "469  1341224     172.3.\n",
      "477  2127260     216.8.\n",
      "485  1146609     216.8.\n",
      "493  1509656     216.8.\n",
      "504  3285460     891.0,\n",
      "520       55      949.0\n",
      "524  3126414        147\n",
      "536  1084012     752.47\n"
     ]
    }
   ],
   "source": [
    "df_plastica = preprocesar(df_plastica)\n",
    "print(df_plastica.head(50))"
   ]
  },
  {
   "cell_type": "code",
   "execution_count": null,
   "metadata": {},
   "outputs": [],
   "source": []
  },
  {
   "cell_type": "code",
   "execution_count": null,
   "metadata": {},
   "outputs": [],
   "source": []
  }
 ],
 "metadata": {
  "kernelspec": {
   "display_name": "base",
   "language": "python",
   "name": "python3"
  },
  "language_info": {
   "codemirror_mode": {
    "name": "ipython",
    "version": 3
   },
   "file_extension": ".py",
   "mimetype": "text/x-python",
   "name": "python",
   "nbconvert_exporter": "python",
   "pygments_lexer": "ipython3",
   "version": "3.8.8"
  },
  "orig_nbformat": 4,
  "vscode": {
   "interpreter": {
    "hash": "bf3af929399e33db1e41ad617b916306dbfe2416bfce8a87b7312facdc25c496"
   }
  }
 },
 "nbformat": 4,
 "nbformat_minor": 2
}
