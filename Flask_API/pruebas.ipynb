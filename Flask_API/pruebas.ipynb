{
 "cells": [
  {
   "cell_type": "code",
   "execution_count": 35,
   "metadata": {
    "collapsed": true,
    "ExecuteTime": {
     "end_time": "2023-06-05T17:55:11.317746100Z",
     "start_time": "2023-06-05T17:55:11.310277500Z"
    }
   },
   "outputs": [],
   "source": [
    "from sklearn.tree import DecisionTreeRegressor\n",
    "import joblib\n",
    "import pandas as pd"
   ]
  },
  {
   "cell_type": "code",
   "execution_count": 36,
   "outputs": [],
   "source": [
    "# Cargamos archivo\n",
    "df = pd.read_csv('../Datos/Listados_Preprocesados/ListadoInterv_Preprocesado.csv', sep=',', encoding='ISO-8859-1')"
   ],
   "metadata": {
    "collapsed": false,
    "ExecuteTime": {
     "end_time": "2023-06-05T17:55:11.365503100Z",
     "start_time": "2023-06-05T17:55:11.320745700Z"
    }
   }
  },
  {
   "cell_type": "code",
   "execution_count": 37,
   "outputs": [],
   "source": [
    "df = df.drop(['DURACIÓN'], axis=1)"
   ],
   "metadata": {
    "collapsed": false,
    "ExecuteTime": {
     "end_time": "2023-06-05T17:55:11.380570700Z",
     "start_time": "2023-06-05T17:55:11.367503700Z"
    }
   }
  },
  {
   "cell_type": "code",
   "execution_count": 38,
   "outputs": [],
   "source": [
    "# Seleccionamos una muestra de 200 registros\n",
    "df = df.sample(n=200, random_state=1)\n",
    "# Codificamos: Cirugía Menor = 0; Cirugía Mayor = 1\n",
    "df['TIPO'] = df['TIPO'].replace([0, 1],['Menor', 'Mayor'])\n",
    "# Codificamos: Mañana = 0; Tarde = 1\n",
    "df['TURNO'] = df['TURNO'].replace([0, 1],['Mañana', 'Tarde'] )\n",
    "# Codificamos: Actividad Ordinaria = 0; Continuidad Asistencial = 1\n",
    "df['CARÁCTER ECONÓMICO'] = df['CARÁCTER ECONÓMICO'].replace(\n",
    "    [0, 1],['Actividad Ordinaria', 'Continuidad Asistencial']\n",
    "    )\n",
    "# Lo guardamos en un archivo csv\n",
    "df.to_csv('toy_dataset.csv', index=False)"
   ],
   "metadata": {
    "collapsed": false,
    "ExecuteTime": {
     "end_time": "2023-06-05T17:55:11.404418500Z",
     "start_time": "2023-06-05T17:55:11.385572700Z"
    }
   }
  },
  {
   "cell_type": "code",
   "execution_count": 38,
   "outputs": [],
   "source": [],
   "metadata": {
    "collapsed": false,
    "ExecuteTime": {
     "end_time": "2023-06-05T17:55:11.413420200Z",
     "start_time": "2023-06-05T17:55:11.398405700Z"
    }
   }
  }
 ],
 "metadata": {
  "kernelspec": {
   "display_name": "Python 3",
   "language": "python",
   "name": "python3"
  },
  "language_info": {
   "codemirror_mode": {
    "name": "ipython",
    "version": 2
   },
   "file_extension": ".py",
   "mimetype": "text/x-python",
   "name": "python",
   "nbconvert_exporter": "python",
   "pygments_lexer": "ipython2",
   "version": "2.7.6"
  }
 },
 "nbformat": 4,
 "nbformat_minor": 0
}
