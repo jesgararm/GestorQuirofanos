{
 "cells": [
  {
   "attachments": {},
   "cell_type": "markdown",
   "metadata": {},
   "source": [
    "# Modelo de regresión lineal para la predicción de la duración de los quirófanos.\n",
    " ## Análisis del rendimiento del modelo de regresión lineal.\n",
    " \n",
    " ### Trabajo de Fin de Grado - Universidad de Burgos\n",
    " #### Jesús García Armario"
   ]
  },
  {
   "cell_type": "code",
   "execution_count": 1,
   "metadata": {},
   "outputs": [],
   "source": [
    "# Imports necesarios\n",
    "import numpy as np\n",
    "from linearReg import LinearReg\n",
    "import pandas as pd"
   ]
  },
  {
   "cell_type": "code",
   "execution_count": 2,
   "metadata": {},
   "outputs": [],
   "source": [
    "# Leemos el listado preprocesado de datos\n",
    "data = pd.read_excel('../../Datos/Listados_Preprocesados/ListadoInterv_Preprocesado_Codificado.xlsx')"
   ]
  },
  {
   "cell_type": "code",
   "execution_count": 3,
   "metadata": {},
   "outputs": [],
   "source": [
    "# Separamos los datos en X e Y\n",
    "# Y será la columna de duración de la intervención\n",
    "# X será el resto de columnas\n",
    "X = data.drop(['DURACIÓN'], axis=1)\n",
    "Y = data['DURACIÓN']"
   ]
  },
  {
   "cell_type": "code",
   "execution_count": 4,
   "metadata": {},
   "outputs": [
    {
     "data": {
      "text/plain": [
       "GridSearchCV(cv=5, estimator=LinearRegression(),\n",
       "             param_grid={'copy_X': [True, False],\n",
       "                         'fit_intercept': [True, False],\n",
       "                         'n_jobs': [None, 1, 2, 3, 4, 5, 6, 7, 8, 9, 10],\n",
       "                         'normalize': [True, False]})"
      ]
     },
     "execution_count": 4,
     "metadata": {},
     "output_type": "execute_result"
    }
   ],
   "source": [
    "# Usamos un método de GridSearch para encontrar los mejores parámetros para el modelo\n",
    "# de regresión lineal\n",
    "from sklearn.model_selection import GridSearchCV\n",
    "from sklearn.linear_model import LinearRegression\n",
    "# Definimos los parámetros que queremos probar\n",
    "parameters = {'fit_intercept': [True, False], 'normalize': [True, False], 'copy_X': [True, False],'n_jobs': [None, 1, 2, 3, 4, 5, 6, 7, 8, 9, 10]}\n",
    "# Creamos el objeto GridSearchCV\n",
    "reg = GridSearchCV(LinearRegression(), parameters, cv=5)\n",
    "# Entrenamos el modelo\n",
    "reg.fit(X, Y)"
   ]
  },
  {
   "cell_type": "code",
   "execution_count": 5,
   "metadata": {},
   "outputs": [],
   "source": [
    "# Entrenamos el modelo con los parámetros encontrados\n",
    "model = LinearReg(data=X, target=Y, n_jobs=reg.best_params_['n_jobs'], fit_intercept=reg.best_params_['fit_intercept'], copy_X=reg.best_params_['copy_X'], test_size=0.2, random_state=42)"
   ]
  },
  {
   "cell_type": "code",
   "execution_count": 6,
   "metadata": {},
   "outputs": [
    {
     "name": "stdout",
     "output_type": "stream",
     "text": [
      "MSE:  184860890.4104718\n",
      "R2:  -0.0004368904279083985\n",
      "Cross Validation MSE:  55708172.97067258\n",
      "Cross Validation R2:  -0.0006940798030707906\n",
      "Cross Validation RMSE:  7463.7907909233745\n"
     ]
    }
   ],
   "source": [
    "# Mostramos los resultados\n",
    "print('MSE: ', model.getMSE())\n",
    "print('R2: ', model.getR2())\n",
    "print('Cross Validation MSE: ', model.getCrossValMSE())\n",
    "print('Cross Validation R2: ', model.getCrossValR2())\n",
    "print('Cross Validation RMSE: ', model.getCrossValRMSE())"
   ]
  },
  {
   "cell_type": "code",
   "execution_count": 26,
   "metadata": {},
   "outputs": [
    {
     "data": {
      "image/png": "[encoded data removed]",
      "text/plain": [
       "<Figure size 432x288 with 1 Axes>"
      ]
     },
     "metadata": {
      "needs_background": "light"
     },
     "output_type": "display_data"
    }
   ],
   "source": [
    "# Representamos gráficamente los resultados de la predicción\n",
    "import matplotlib.pyplot as plt\n",
    "plt.scatter(model.y_test, model.y_pred, color='black')\n",
    "plt.plot(model.y_test, model.y_test, color='blue', linewidth=3)\n",
    "plt.show()"
   ]
  },
  {
   "cell_type": "code",
   "execution_count": 21,
   "metadata": {},
   "outputs": [],
   "source": [
    "# Cargamos los datos del dataset ampliado\n",
    "data = pd.read_excel('../../Datos/Listados_Preprocesados/ListadoInterv_Preprocesado_PLASTICA_Codificado.xlsx')\n",
    "# Eliminamos las filas que NO son números en Código diagnóstico\n",
    "data = data[data['Código diagnóstico'].apply(lambda x: isinstance(x, (int, float)))]\n",
    "# Convertimos a float\n",
    "data['Código diagnóstico'] = data['Código diagnóstico'].astype(float)\n",
    "# Eliminamos nulos\n",
    "data = data.dropna()"
   ]
  },
  {
   "cell_type": "code",
   "execution_count": 22,
   "metadata": {},
   "outputs": [],
   "source": [
    "X = data.drop(['DURACIÓN'], axis=1)\n",
    "Y = data['DURACIÓN']"
   ]
  },
  {
   "cell_type": "code",
   "execution_count": 23,
   "metadata": {},
   "outputs": [
    {
     "data": {
      "text/plain": [
       "GridSearchCV(cv=5, estimator=LinearRegression(),\n",
       "             param_grid={'copy_X': [True, False],\n",
       "                         'fit_intercept': [True, False],\n",
       "                         'n_jobs': [None, 1, 2, 3, 4, 5, 6, 7, 8, 9, 10],\n",
       "                         'normalize': [True, False]})"
      ]
     },
     "execution_count": 23,
     "metadata": {},
     "output_type": "execute_result"
    }
   ],
   "source": [
    "parameters = {'fit_intercept': [True, False], 'normalize': [True, False], 'copy_X': [True, False],'n_jobs': [None, 1, 2, 3, 4, 5, 6, 7, 8, 9, 10]}\n",
    "# Creamos el objeto GridSearchCV\n",
    "reg = GridSearchCV(LinearRegression(), parameters, cv=5)\n",
    "# Entrenamos el modelo\n",
    "reg.fit(X, Y)"
   ]
  },
  {
   "cell_type": "code",
   "execution_count": 24,
   "metadata": {},
   "outputs": [],
   "source": [
    "# Entrenamos el modelo con los parámetros encontrados\n",
    "model_plastica = LinearReg(data=X, target=Y, n_jobs=reg.best_params_['n_jobs'], fit_intercept=reg.best_params_['fit_intercept'], copy_X=reg.best_params_['copy_X'], test_size=0.2, random_state=42)"
   ]
  },
  {
   "cell_type": "code",
   "execution_count": 27,
   "metadata": {},
   "outputs": [
    {
     "name": "stdout",
     "output_type": "stream",
     "text": [
      "MSE:  6812050.409644047\n",
      "R2:  -0.030465198097267665\n",
      "Cross Validation MSE:  10672395.980667038\n",
      "Cross Validation R2:  -0.019701336879798026\n",
      "Cross Validation RMSE:  3266.863324454673\n"
     ]
    }
   ],
   "source": [
    "# Mostramos los resultados\n",
    "print('MSE: ', model_plastica.getMSE())\n",
    "print('R2: ', model_plastica.getR2())\n",
    "print('Cross Validation MSE: ', model_plastica.getCrossValMSE())\n",
    "print('Cross Validation R2: ', model_plastica.getCrossValR2())\n",
    "print('Cross Validation RMSE: ', model_plastica.getCrossValRMSE())"
   ]
  },
  {
   "cell_type": "code",
   "execution_count": 28,
   "metadata": {},
   "outputs": [
    {
     "data": {
      "image/png": "[encoded data removed]",
      "text/plain": [
       "<Figure size 432x288 with 1 Axes>"
      ]
     },
     "metadata": {
      "needs_background": "light"
     },
     "output_type": "display_data"
    }
   ],
   "source": [
    "# Representamos gráficamente los resultados de la predicción\n",
    "import matplotlib.pyplot as plt\n",
    "plt.scatter(model_plastica.y_test, model_plastica.y_pred, color='black')\n",
    "plt.plot(model_plastica.y_test, model_plastica.y_test, color='blue', linewidth=3)\n",
    "plt.show()"
   ]
  },
  {
   "cell_type": "code",
   "execution_count": null,
   "metadata": {},
   "outputs": [],
   "source": []
  }
 ],
 "metadata": {
  "kernelspec": {
   "display_name": "base",
   "language": "python",
   "name": "python3"
  },
  "language_info": {
   "codemirror_mode": {
    "name": "ipython",
    "version": 3
   },
   "file_extension": ".py",
   "mimetype": "text/x-python",
   "name": "python",
   "nbconvert_exporter": "python",
   "pygments_lexer": "ipython3",
   "version": "3.8.8"
  },
  "orig_nbformat": 4
 },
 "nbformat": 4,
 "nbformat_minor": 2
}
