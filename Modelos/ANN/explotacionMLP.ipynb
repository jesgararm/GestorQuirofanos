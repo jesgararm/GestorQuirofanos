{
 "cells": [
  {
   "attachments": {},
   "cell_type": "markdown",
   "metadata": {},
   "source": [
    "# Modelo de Perceptrón Multicapa para la predicción de la duración de los quirófanos.\n",
    " ## Análisis del rendimiento del modelo.\n",
    " \n",
    " ### Trabajo de Fin de Grado - Universidad de Burgos\n",
    " #### Jesús García Armario"
   ]
  },
  {
   "cell_type": "code",
   "execution_count": 1,
   "metadata": {},
   "outputs": [],
   "source": [
    "# Imports\n",
    "import pandas as pd\n",
    "import numpy as np\n",
    "import matplotlib.pyplot as plt\n",
    "from MLP import MLP\n",
    "import sys\n",
    "sys.path.append('../')\n",
    "import Utils.common as common"
   ]
  },
  {
   "cell_type": "code",
   "execution_count": 2,
   "metadata": {},
   "outputs": [],
   "source": [
    "# Leemos los datos \n",
    "data = common.FileToDataframe('../../Datos/Listados_Preprocesados/ListadoInterv_Preprocesado_Codificado.xlsx')\n",
    "X, Y = common.divideData(data)"
   ]
  },
  {
   "cell_type": "code",
   "execution_count": 3,
   "metadata": {},
   "outputs": [
    {
     "name": "stderr",
     "output_type": "stream",
     "text": [
      "c:\\ProgramData\\Anaconda3\\lib\\site-packages\\sklearn\\model_selection\\_search.py:969: UserWarning: One or more of the test scores are non-finite: [-0.00172077 -0.00171134 -0.00710759 -0.00032045 -0.00016838 -0.0017029\n",
      " -0.00083583 -0.00031731 -0.00340535 -0.00233721 -0.00286047 -0.00065159\n",
      " -0.00085646 -0.00232273 -0.00091168 -0.0006416  -0.00416078 -0.00308586\n",
      " -0.01194432 -0.00123671 -0.00016138 -0.00313908 -0.00083925 -0.00122702\n",
      " -0.005162   -0.00172161 -0.00102422 -0.00032576 -0.00108179 -0.00172049\n",
      " -0.00084246 -0.0003234  -0.00126413 -0.00228165 -0.00234407 -0.00063557\n",
      " -0.00092663 -0.00228564 -0.00083355 -0.00063239 -0.00981038 -0.0030963\n",
      " -0.00101977 -0.00125162 -0.00081692 -0.00311598 -0.00083706 -0.0012495\n",
      "         nan -0.00917897         nan -0.04850365         nan -0.00488154\n",
      "         nan -0.02666269         nan -0.00649955         nan -0.02454662\n",
      "         nan -0.00417234         nan -0.02706473         nan -0.00613578\n",
      "         nan -0.01427954         nan -0.00572019         nan -0.01282401\n",
      "         nan -0.00510936         nan -0.01614348         nan -0.00416466\n",
      "         nan -0.02552201         nan -0.00369498         nan -0.02677255\n",
      "         nan -0.00540184         nan -0.0234644          nan -0.00509992\n",
      "         nan -0.01224604         nan -0.00456843         nan -0.0140092 ]\n",
      "  warnings.warn(\n",
      "c:\\ProgramData\\Anaconda3\\lib\\site-packages\\sklearn\\neural_network\\_multilayer_perceptron.py:692: ConvergenceWarning: Stochastic Optimizer: Maximum iterations (50) reached and the optimization hasn't converged yet.\n",
      "  warnings.warn(\n",
      "c:\\ProgramData\\Anaconda3\\lib\\site-packages\\sklearn\\neural_network\\_multilayer_perceptron.py:692: ConvergenceWarning: Stochastic Optimizer: Maximum iterations (50) reached and the optimization hasn't converged yet.\n",
      "  warnings.warn(\n",
      "c:\\Users\\Jesus\\OneDrive\\Ingeniería\\Cuarto\\TFG\\GestorQuirofanos\\Modelos\\ANN\\MLP.py:38: RuntimeWarning: divide by zero encountered in divide\n",
      "  self.error = np.mean(np.abs((self.y_test - self.y_pred) / self.y_test)) * 100\n"
     ]
    }
   ],
   "source": [
    "# Importamos MLPRegressor\n",
    "model = MLP(X, Y)"
   ]
  },
  {
   "cell_type": "code",
   "execution_count": 4,
   "metadata": {},
   "outputs": [
    {
     "name": "stdout",
     "output_type": "stream",
     "text": [
      "MSE:  184808324.66147748\n",
      "MAE:  412.00776570252026\n",
      "RMSE:  13594.422557117954\n"
     ]
    }
   ],
   "source": [
    "# Mostar los resultados\n",
    "print('MSE: ', model.getMSE())\n",
    "print('MAE: ', model.getMAE())\n",
    "print('RMSE: ', model.getRMSE())"
   ]
  },
  {
   "cell_type": "code",
   "execution_count": 5,
   "metadata": {},
   "outputs": [],
   "source": [
    "# Exportamos el modelo\n",
    "model.saveModel('MLP.pkl')"
   ]
  },
  {
   "cell_type": "code",
   "execution_count": 6,
   "metadata": {},
   "outputs": [
    {
     "name": "stderr",
     "output_type": "stream",
     "text": [
      "c:\\Users\\Jesus\\OneDrive\\Ingeniería\\Cuarto\\TFG\\GestorQuirofanos\\Modelos\\ANN\\..\\Utils\\common.py:25: SettingWithCopyWarning: \n",
      "A value is trying to be set on a copy of a slice from a DataFrame.\n",
      "Try using .loc[row_indexer,col_indexer] = value instead\n",
      "\n",
      "See the caveats in the documentation: https://pandas.pydata.org/pandas-docs/stable/user_guide/indexing.html#returning-a-view-versus-a-copy\n",
      "  data['Código diagnóstico'] = data['Código diagnóstico'].astype(float)\n"
     ]
    }
   ],
   "source": [
    "# Importamos los datos ampliados\n",
    "data = common.FileToDataframe('../../Datos/Listados_Preprocesados/ListadoInterv_Preprocesado_PLASTICA_Codificado.xlsx')\n",
    "X, Y = common.divideDataAmpli(data)"
   ]
  },
  {
   "cell_type": "code",
   "execution_count": 7,
   "metadata": {},
   "outputs": [
    {
     "name": "stderr",
     "output_type": "stream",
     "text": [
      "c:\\ProgramData\\Anaconda3\\lib\\site-packages\\sklearn\\model_selection\\_search.py:969: UserWarning: One or more of the test scores are non-finite: [-5.06416775e+00 -3.15126524e-01 -4.67272378e+00 -2.34611758e-01\n",
      " -5.45943434e+00 -3.12612375e-01 -5.52754695e+00 -2.42000879e-01\n",
      " -5.69176730e+00 -3.45138233e-01 -6.10821157e+00 -2.74195763e-01\n",
      " -5.54128641e+00 -3.43107168e-01 -5.49637800e+00 -2.70154515e-01\n",
      " -5.07138884e+00 -3.70255266e-01 -5.91208242e+00 -3.13419764e-01\n",
      " -5.34796990e+00 -3.68804429e-01 -5.50424558e+00 -3.09579345e-01\n",
      " -4.15233524e+00 -3.20550639e-01 -4.21189420e+00 -2.34458871e-01\n",
      " -5.12470940e+00 -3.22685215e-01 -5.50282751e+00 -2.38233156e-01\n",
      " -5.02254214e+00 -3.36406301e-01 -4.44673590e+00 -2.67864952e-01\n",
      " -5.55842361e+00 -3.34135808e-01 -5.50687582e+00 -2.76675661e-01\n",
      " -5.29687423e+00 -3.68105827e-01 -5.09603890e+00 -3.12340049e-01\n",
      " -5.42325749e+00 -3.77121117e-01 -5.53412945e+00 -3.10212813e-01\n",
      "             nan -3.36891942e+01             nan -5.87701491e+01\n",
      "             nan -3.87702539e+02             nan -4.64893936e+01\n",
      "             nan -1.67114461e+02             nan -2.74303179e+02\n",
      "             nan -3.78603434e+03             nan -1.60271631e+02\n",
      "             nan -1.08459878e+01             nan -6.31677972e+02\n",
      "             nan -2.55307305e+01             nan -5.40966630e+02\n",
      "             nan -1.92424642e+02             nan -1.22558505e+02\n",
      "             nan -1.04502961e+02             nan -9.57445385e+01\n",
      "             nan -4.48382390e+01             nan -1.28167033e+02\n",
      "             nan -1.77010889e+01             nan -3.95953039e+02\n",
      "             nan -1.01476190e+02             nan -3.23179537e+02\n",
      "             nan -5.10144645e+00             nan -1.62340275e+02]\n",
      "  warnings.warn(\n",
      "c:\\ProgramData\\Anaconda3\\lib\\site-packages\\sklearn\\neural_network\\_multilayer_perceptron.py:692: ConvergenceWarning: Stochastic Optimizer: Maximum iterations (100) reached and the optimization hasn't converged yet.\n",
      "  warnings.warn(\n",
      "c:\\ProgramData\\Anaconda3\\lib\\site-packages\\sklearn\\neural_network\\_multilayer_perceptron.py:692: ConvergenceWarning: Stochastic Optimizer: Maximum iterations (100) reached and the optimization hasn't converged yet.\n",
      "  warnings.warn(\n"
     ]
    }
   ],
   "source": [
    "model = MLP(X, Y)"
   ]
  },
  {
   "cell_type": "code",
   "execution_count": 8,
   "metadata": {},
   "outputs": [
    {
     "name": "stdout",
     "output_type": "stream",
     "text": [
      "MSE:  6652894.006762142\n",
      "MAE:  208.93085650451658\n",
      "RMSE:  2579.320454453487\n"
     ]
    }
   ],
   "source": [
    "# Mostar los resultados\n",
    "print('MSE: ', model.getMSE())\n",
    "print('MAE: ', model.getMAE())\n",
    "print('RMSE: ', model.getRMSE())"
   ]
  },
  {
   "cell_type": "code",
   "execution_count": 9,
   "metadata": {},
   "outputs": [],
   "source": [
    "# Exportamos el modelo\n",
    "model.saveModel('MLP_Plastica.pkl')"
   ]
  },
  {
   "cell_type": "code",
   "execution_count": null,
   "metadata": {},
   "outputs": [],
   "source": []
  }
 ],
 "metadata": {
  "kernelspec": {
   "display_name": "base",
   "language": "python",
   "name": "python3"
  },
  "language_info": {
   "codemirror_mode": {
    "name": "ipython",
    "version": 3
   },
   "file_extension": ".py",
   "mimetype": "text/x-python",
   "name": "python",
   "nbconvert_exporter": "python",
   "pygments_lexer": "ipython3",
   "version": "3.9.13"
  },
  "orig_nbformat": 4
 },
 "nbformat": 4,
 "nbformat_minor": 2
}
