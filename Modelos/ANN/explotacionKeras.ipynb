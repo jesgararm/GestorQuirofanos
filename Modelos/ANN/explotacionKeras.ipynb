{
 "cells": [
  {
   "attachments": {},
   "cell_type": "markdown",
   "metadata": {},
   "source": [
    "# Modelo de Perceptrón Multicapa en Tensorflow para la predicción de la duración de los quirófanos.\n",
    " ## Análisis del rendimiento del modelo.\n",
    " \n",
    " ### Trabajo de Fin de Grado - Universidad de Burgos\n",
    " #### Jesús García Armario"
   ]
  },
  {
   "cell_type": "code",
   "execution_count": 1,
   "metadata": {},
   "outputs": [],
   "source": [
    "# Imports\n",
    "import pandas as pd\n",
    "import numpy as np\n",
    "import matplotlib.pyplot as plt\n",
    "import sys\n",
    "sys.path.append('../')\n",
    "from Utils import common\n",
    "from kerasNeural import KerasNeural"
   ]
  },
  {
   "cell_type": "code",
   "execution_count": 2,
   "metadata": {},
   "outputs": [],
   "source": [
    "data = common.FileToDataframe('../../Datos/Listados_Preprocesados/ListadoInterv_Preprocesado_Codificado.xlsx')\n",
    "X, Y = common.divideData(data)"
   ]
  },
  {
   "cell_type": "code",
   "execution_count": 3,
   "metadata": {},
   "outputs": [
    {
     "ename": "FailedPreconditionError",
     "evalue": "keras\\gestorQuirofanos is not a directory",
     "output_type": "error",
     "traceback": [
      "\u001b[1;31m---------------------------------------------------------------------------\u001b[0m",
      "\u001b[1;31mFailedPreconditionError\u001b[0m                   Traceback (most recent call last)",
      "Cell \u001b[1;32mIn[3], line 1\u001b[0m\n\u001b[1;32m----> 1\u001b[0m model \u001b[39m=\u001b[39m KerasNeural(X,Y)\n",
      "File \u001b[1;32mc:\\Users\\Jesus\\OneDrive\\Ingeniería\\Cuarto\\TFG\\GestorQuirofanos\\Modelos\\ANN\\kerasNeural.py:49\u001b[0m, in \u001b[0;36mKerasNeural.__init__\u001b[1;34m(self, X, Y)\u001b[0m\n\u001b[0;32m     47\u001b[0m X_train, X_test, Y_train, Y_test \u001b[39m=\u001b[39m train_test_split(X, Y, test_size\u001b[39m=\u001b[39m\u001b[39m0.2\u001b[39m, random_state\u001b[39m=\u001b[39m\u001b[39m42\u001b[39m)\n\u001b[0;32m     48\u001b[0m \u001b[39mself\u001b[39m\u001b[39m.\u001b[39mtuner \u001b[39m=\u001b[39m get_Tuner()\n\u001b[1;32m---> 49\u001b[0m \u001b[39mself\u001b[39m\u001b[39m.\u001b[39mmodel \u001b[39m=\u001b[39m trainModel(X_train, Y_train, \u001b[39mself\u001b[39m\u001b[39m.\u001b[39mtuner)\n\u001b[0;32m     50\u001b[0m \u001b[39mself\u001b[39m\u001b[39m.\u001b[39mY_test \u001b[39m=\u001b[39m Y_test\n\u001b[0;32m     51\u001b[0m \u001b[39mself\u001b[39m\u001b[39m.\u001b[39mY_pred \u001b[39m=\u001b[39m \u001b[39mself\u001b[39m\u001b[39m.\u001b[39mmodel\u001b[39m.\u001b[39mpredict(X_test)\n",
      "File \u001b[1;32mc:\\Users\\Jesus\\OneDrive\\Ingeniería\\Cuarto\\TFG\\GestorQuirofanos\\Modelos\\ANN\\kerasNeural.py:39\u001b[0m, in \u001b[0;36mtrainModel\u001b[1;34m(X, Y, tuner)\u001b[0m\n\u001b[0;32m     37\u001b[0m \u001b[39mdef\u001b[39;00m \u001b[39mtrainModel\u001b[39m(X, Y, tuner):\n\u001b[0;32m     38\u001b[0m     \u001b[39m# Entrenamos modelo\u001b[39;00m\n\u001b[1;32m---> 39\u001b[0m     tuner\u001b[39m.\u001b[39msearch(X, Y, epochs\u001b[39m=\u001b[39m\u001b[39m5\u001b[39m, validation_split\u001b[39m=\u001b[39m\u001b[39m0.2\u001b[39m)\n\u001b[0;32m     40\u001b[0m     \u001b[39m# Guardamos el mejor modelo\u001b[39;00m\n\u001b[0;32m     41\u001b[0m     best_model \u001b[39m=\u001b[39m tuner\u001b[39m.\u001b[39mget_best_models(num_models\u001b[39m=\u001b[39m\u001b[39m1\u001b[39m)[\u001b[39m0\u001b[39m]\n",
      "File \u001b[1;32mc:\\ProgramData\\Anaconda3\\envs\\md\\Lib\\site-packages\\keras_tuner\\engine\\base_tuner.py:220\u001b[0m, in \u001b[0;36mBaseTuner.search\u001b[1;34m(self, *fit_args, **fit_kwargs)\u001b[0m\n\u001b[0;32m    218\u001b[0m \u001b[39mwhile\u001b[39;00m \u001b[39mTrue\u001b[39;00m:\n\u001b[0;32m    219\u001b[0m     \u001b[39mself\u001b[39m\u001b[39m.\u001b[39mpre_create_trial()\n\u001b[1;32m--> 220\u001b[0m     trial \u001b[39m=\u001b[39m \u001b[39mself\u001b[39m\u001b[39m.\u001b[39moracle\u001b[39m.\u001b[39mcreate_trial(\u001b[39mself\u001b[39m\u001b[39m.\u001b[39mtuner_id)\n\u001b[0;32m    221\u001b[0m     \u001b[39mif\u001b[39;00m trial\u001b[39m.\u001b[39mstatus \u001b[39m==\u001b[39m trial_module\u001b[39m.\u001b[39mTrialStatus\u001b[39m.\u001b[39mSTOPPED:\n\u001b[0;32m    222\u001b[0m         \u001b[39m# Oracle triggered exit.\u001b[39;00m\n\u001b[0;32m    223\u001b[0m         tf\u001b[39m.\u001b[39mget_logger()\u001b[39m.\u001b[39minfo(\u001b[39m\"\u001b[39m\u001b[39mOracle triggered exit\u001b[39m\u001b[39m\"\u001b[39m)\n",
      "File \u001b[1;32mc:\\ProgramData\\Anaconda3\\envs\\md\\Lib\\site-packages\\keras_tuner\\engine\\oracle.py:107\u001b[0m, in \u001b[0;36msynchronized.<locals>.wrapped_func\u001b[1;34m(*args, **kwargs)\u001b[0m\n\u001b[0;32m    105\u001b[0m     LOCKS[oracle]\u001b[39m.\u001b[39macquire()\n\u001b[0;32m    106\u001b[0m     THREADS[oracle] \u001b[39m=\u001b[39m thread_name\n\u001b[1;32m--> 107\u001b[0m ret_val \u001b[39m=\u001b[39m func(\u001b[39m*\u001b[39margs, \u001b[39m*\u001b[39m\u001b[39m*\u001b[39mkwargs)\n\u001b[0;32m    108\u001b[0m \u001b[39mif\u001b[39;00m need_acquire:\n\u001b[0;32m    109\u001b[0m     THREADS[oracle] \u001b[39m=\u001b[39m \u001b[39mNone\u001b[39;00m\n",
      "File \u001b[1;32mc:\\ProgramData\\Anaconda3\\envs\\md\\Lib\\site-packages\\keras_tuner\\engine\\oracle.py:343\u001b[0m, in \u001b[0;36mOracle.create_trial\u001b[1;34m(self, tuner_id)\u001b[0m\n\u001b[0;32m    341\u001b[0m     \u001b[39mself\u001b[39m\u001b[39m.\u001b[39mtrials[trial_id] \u001b[39m=\u001b[39m trial\n\u001b[0;32m    342\u001b[0m     \u001b[39mself\u001b[39m\u001b[39m.\u001b[39mstart_order\u001b[39m.\u001b[39mappend(trial_id)\n\u001b[1;32m--> 343\u001b[0m     \u001b[39mself\u001b[39m\u001b[39m.\u001b[39m_save_trial(trial)\n\u001b[0;32m    344\u001b[0m     \u001b[39mself\u001b[39m\u001b[39m.\u001b[39msave()\n\u001b[0;32m    346\u001b[0m \u001b[39mreturn\u001b[39;00m trial\n",
      "File \u001b[1;32mc:\\ProgramData\\Anaconda3\\envs\\md\\Lib\\site-packages\\keras_tuner\\engine\\oracle.py:640\u001b[0m, in \u001b[0;36mOracle._save_trial\u001b[1;34m(self, trial)\u001b[0m\n\u001b[0;32m    637\u001b[0m \u001b[39mdef\u001b[39;00m \u001b[39m_save_trial\u001b[39m(\u001b[39mself\u001b[39m, trial):\n\u001b[0;32m    638\u001b[0m     \u001b[39m# Write trial status to trial directory\u001b[39;00m\n\u001b[0;32m    639\u001b[0m     trial_id \u001b[39m=\u001b[39m trial\u001b[39m.\u001b[39mtrial_id\n\u001b[1;32m--> 640\u001b[0m     trial\u001b[39m.\u001b[39msave(os\u001b[39m.\u001b[39mpath\u001b[39m.\u001b[39mjoin(\u001b[39mself\u001b[39m\u001b[39m.\u001b[39m_get_trial_dir(trial_id), \u001b[39m\"\u001b[39m\u001b[39mtrial.json\u001b[39m\u001b[39m\"\u001b[39m))\n",
      "File \u001b[1;32mc:\\ProgramData\\Anaconda3\\envs\\md\\Lib\\site-packages\\keras_tuner\\engine\\oracle.py:634\u001b[0m, in \u001b[0;36mOracle._get_trial_dir\u001b[1;34m(self, trial_id)\u001b[0m\n\u001b[0;32m    632\u001b[0m \u001b[39mdef\u001b[39;00m \u001b[39m_get_trial_dir\u001b[39m(\u001b[39mself\u001b[39m, trial_id):\n\u001b[0;32m    633\u001b[0m     dirname \u001b[39m=\u001b[39m os\u001b[39m.\u001b[39mpath\u001b[39m.\u001b[39mjoin(\u001b[39mself\u001b[39m\u001b[39m.\u001b[39m_project_dir, \u001b[39mf\u001b[39m\u001b[39m\"\u001b[39m\u001b[39mtrial_\u001b[39m\u001b[39m{\u001b[39;00m\u001b[39mstr\u001b[39m(trial_id)\u001b[39m}\u001b[39;00m\u001b[39m\"\u001b[39m)\n\u001b[1;32m--> 634\u001b[0m     utils\u001b[39m.\u001b[39mcreate_directory(dirname)\n\u001b[0;32m    635\u001b[0m     \u001b[39mreturn\u001b[39;00m dirname\n",
      "File \u001b[1;32mc:\\ProgramData\\Anaconda3\\envs\\md\\Lib\\site-packages\\keras_tuner\\utils.py:46\u001b[0m, in \u001b[0;36mcreate_directory\u001b[1;34m(path, remove_existing)\u001b[0m\n\u001b[0;32m     43\u001b[0m \u001b[39mdef\u001b[39;00m \u001b[39mcreate_directory\u001b[39m(path, remove_existing\u001b[39m=\u001b[39m\u001b[39mFalse\u001b[39;00m):\n\u001b[0;32m     44\u001b[0m     \u001b[39m# Create the directory if it doesn't exist.\u001b[39;00m\n\u001b[0;32m     45\u001b[0m     \u001b[39mif\u001b[39;00m \u001b[39mnot\u001b[39;00m tf\u001b[39m.\u001b[39mio\u001b[39m.\u001b[39mgfile\u001b[39m.\u001b[39mexists(path):\n\u001b[1;32m---> 46\u001b[0m         tf\u001b[39m.\u001b[39mio\u001b[39m.\u001b[39mgfile\u001b[39m.\u001b[39mmakedirs(path)\n\u001b[0;32m     48\u001b[0m     \u001b[39m# If it does exist, and remove_existing is specified,\u001b[39;00m\n\u001b[0;32m     49\u001b[0m     \u001b[39m# the directory will be removed and recreated.\u001b[39;00m\n\u001b[0;32m     50\u001b[0m     \u001b[39melif\u001b[39;00m remove_existing:\n",
      "File \u001b[1;32mc:\\ProgramData\\Anaconda3\\envs\\md\\Lib\\site-packages\\tensorflow\\python\\lib\\io\\file_io.py:513\u001b[0m, in \u001b[0;36mrecursive_create_dir_v2\u001b[1;34m(path)\u001b[0m\n\u001b[0;32m    501\u001b[0m \u001b[39m@tf_export\u001b[39m(\u001b[39m\"\u001b[39m\u001b[39mio.gfile.makedirs\u001b[39m\u001b[39m\"\u001b[39m)\n\u001b[0;32m    502\u001b[0m \u001b[39mdef\u001b[39;00m \u001b[39mrecursive_create_dir_v2\u001b[39m(path):\n\u001b[0;32m    503\u001b[0m   \u001b[39m\"\"\"Creates a directory and all parent/intermediate directories.\u001b[39;00m\n\u001b[0;32m    504\u001b[0m \n\u001b[0;32m    505\u001b[0m \u001b[39m  It succeeds if path already exists and is writable.\u001b[39;00m\n\u001b[1;32m   (...)\u001b[0m\n\u001b[0;32m    511\u001b[0m \u001b[39m    errors.OpError: If the operation fails.\u001b[39;00m\n\u001b[0;32m    512\u001b[0m \u001b[39m  \"\"\"\u001b[39;00m\n\u001b[1;32m--> 513\u001b[0m   _pywrap_file_io\u001b[39m.\u001b[39mRecursivelyCreateDir(compat\u001b[39m.\u001b[39mpath_to_bytes(path))\n",
      "\u001b[1;31mFailedPreconditionError\u001b[0m: keras\\gestorQuirofanos is not a directory"
     ]
    }
   ],
   "source": [
    "model = KerasNeural(X,Y)"
   ]
  },
  {
   "cell_type": "code",
   "execution_count": null,
   "metadata": {},
   "outputs": [],
   "source": []
  }
 ],
 "metadata": {
  "kernelspec": {
   "display_name": "base",
   "language": "python",
   "name": "python3"
  },
  "language_info": {
   "codemirror_mode": {
    "name": "ipython",
    "version": 3
   },
   "file_extension": ".py",
   "mimetype": "text/x-python",
   "name": "python",
   "nbconvert_exporter": "python",
   "pygments_lexer": "ipython3",
   "version": "3.11.2"
  },
  "orig_nbformat": 4
 },
 "nbformat": 4,
 "nbformat_minor": 2
}
