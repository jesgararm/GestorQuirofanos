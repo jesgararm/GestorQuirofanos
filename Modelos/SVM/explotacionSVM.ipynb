{
 "cells": [
  {
   "attachments": {},
   "cell_type": "markdown",
   "metadata": {},
   "source": [
    "# Modelo de SVR para la predicción de la duración de los quirófanos.\n",
    " ## Análisis del rendimiento del modelo.\n",
    " \n",
    " ### Trabajo de Fin de Grado - Universidad de Burgos\n",
    " #### Jesús García Armario"
   ]
  },
  {
   "cell_type": "code",
   "execution_count": 1,
   "metadata": {
    "ExecuteTime": {
     "end_time": "2023-06-08T10:44:22.644469300Z",
     "start_time": "2023-06-08T10:44:20.565173500Z"
    }
   },
   "outputs": [],
   "source": [
    "# Imports\n",
    "from svm import SVM\n",
    "import pandas as pd\n",
    "import numpy as np\n",
    "import sys\n",
    "sys.path.append('../')\n",
    "import Utils.common as common"
   ]
  },
  {
   "cell_type": "code",
   "execution_count": 3,
   "metadata": {
    "ExecuteTime": {
     "end_time": "2023-06-08T10:45:17.953532Z",
     "start_time": "2023-06-08T10:45:15.279006500Z"
    }
   },
   "outputs": [],
   "source": [
    "# Carga de datos\n",
    "data = common.FileToDataframe('../../Datos/Listados_Preprocesados/ListadoInterv_Preprocesado_Codificado.xlsx')\n",
    "data = common.eliminarOutliers(data)\n",
    "X, Y = common.divideData(data)"
   ]
  },
  {
   "cell_type": "code",
   "execution_count": 4,
   "metadata": {
    "ExecuteTime": {
     "end_time": "2023-06-08T10:45:48.933991Z",
     "start_time": "2023-06-08T10:45:19.739451600Z"
    }
   },
   "outputs": [],
   "source": [
    "model = SVM(X, Y)"
   ]
  },
  {
   "cell_type": "code",
   "execution_count": 5,
   "metadata": {
    "ExecuteTime": {
     "end_time": "2023-06-08T10:45:54.928254700Z",
     "start_time": "2023-06-08T10:45:54.905484200Z"
    }
   },
   "outputs": [
    {
     "name": "stdout",
     "output_type": "stream",
     "text": [
      "MSE:  3217.648693061053\n",
      "MAE:  41.02527225842179\n",
      "RMSE:  56.724321882778405\n"
     ]
    }
   ],
   "source": [
    "# Comprobación de las métricas\n",
    "print('MSE: ', model.get_MSE())\n",
    "print('MAE: ', model.get_MAE())\n",
    "print('RMSE: ', model.get_RMSE())"
   ]
  },
  {
   "cell_type": "code",
   "execution_count": 6,
   "metadata": {
    "ExecuteTime": {
     "end_time": "2023-06-08T10:46:13.839911500Z",
     "start_time": "2023-06-08T10:46:13.556368500Z"
    }
   },
   "outputs": [],
   "source": [
    "# Cargamos el dataframe ampliado\n",
    "data = common.FileToDataframe('../../Datos/Listados_Preprocesados/ListadoInterv_Preprocesado_PLASTICA_Codificado.xlsx')"
   ]
  },
  {
   "cell_type": "code",
   "execution_count": 7,
   "metadata": {
    "ExecuteTime": {
     "end_time": "2023-06-08T10:48:33.935702400Z",
     "start_time": "2023-06-08T10:48:33.895649700Z"
    }
   },
   "outputs": [
    {
     "name": "stderr",
     "output_type": "stream",
     "text": [
      "C:\\Users\\Jesus\\OneDrive\\Ingeniería\\Cuarto\\TFG\\GestorQuirofanos\\Modelos\\SVM\\..\\Utils\\common.py:27: SettingWithCopyWarning: \n",
      "A value is trying to be set on a copy of a slice from a DataFrame.\n",
      "Try using .loc[row_indexer,col_indexer] = value instead\n",
      "\n",
      "See the caveats in the documentation: https://pandas.pydata.org/pandas-docs/stable/user_guide/indexing.html#returning-a-view-versus-a-copy\n",
      "  data['Código diagnóstico'] = data['Código diagnóstico'].astype(float)\n"
     ]
    }
   ],
   "source": [
    "data = common.eliminarOutliers(data)\n",
    "X, Y = common.divideDataAmpli(data)"
   ]
  },
  {
   "cell_type": "code",
   "execution_count": 8,
   "metadata": {
    "ExecuteTime": {
     "end_time": "2023-06-08T10:48:36.673364400Z",
     "start_time": "2023-06-08T10:48:36.561345900Z"
    }
   },
   "outputs": [],
   "source": [
    "model = SVM(X, Y)"
   ]
  },
  {
   "cell_type": "code",
   "execution_count": 9,
   "metadata": {
    "ExecuteTime": {
     "end_time": "2023-06-08T10:48:38.070507500Z",
     "start_time": "2023-06-08T10:48:38.065847700Z"
    }
   },
   "outputs": [
    {
     "name": "stdout",
     "output_type": "stream",
     "text": [
      "MSE:  3718.7572079421666\n",
      "MAE:  44.6397116934071\n",
      "RMSE:  60.98161368758756\n"
     ]
    }
   ],
   "source": [
    "# Comprobación de las métricas\n",
    "print('MSE: ', model.get_MSE())\n",
    "print('MAE: ', model.get_MAE())\n",
    "print('RMSE: ', model.get_RMSE())"
   ]
  }
 ],
 "metadata": {
  "kernelspec": {
   "display_name": "base",
   "language": "python",
   "name": "python3"
  },
  "language_info": {
   "codemirror_mode": {
    "name": "ipython",
    "version": 3
   },
   "file_extension": ".py",
   "mimetype": "text/x-python",
   "name": "python",
   "nbconvert_exporter": "python",
   "pygments_lexer": "ipython3",
   "version": "3.9.13"
  },
  "orig_nbformat": 4
 },
 "nbformat": 4,
 "nbformat_minor": 2
}
