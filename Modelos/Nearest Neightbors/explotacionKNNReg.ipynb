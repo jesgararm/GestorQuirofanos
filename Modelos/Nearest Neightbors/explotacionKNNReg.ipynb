{
 "cells": [
  {
   "attachments": {},
   "cell_type": "markdown",
   "metadata": {},
   "source": [
    "# Modelo de K-Nearest Neightbors para la predicción de la duración de los quirófanos.\n",
    " ## Análisis del rendimiento del modelo KNN.\n",
    " \n",
    " ### Trabajo de Fin de Grado - Universidad de Burgos\n",
    " #### Jesús García Armario"
   ]
  },
  {
   "cell_type": "code",
   "execution_count": 2,
   "metadata": {},
   "outputs": [],
   "source": [
    "# Imports necesarios\n",
    "import pandas as pd\n",
    "from knnReg import KNNReg\n",
    "import numpy as np\n",
    "import sys\n",
    "sys.path.append('..\\\\')\n",
    "import Utils.common as common"
   ]
  },
  {
   "cell_type": "code",
   "execution_count": null,
   "metadata": {},
   "outputs": [],
   "source": []
  }
 ],
 "metadata": {
  "kernelspec": {
   "display_name": "Python 3",
   "language": "python",
   "name": "python3"
  },
  "language_info": {
   "codemirror_mode": {
    "name": "ipython",
    "version": 3
   },
   "file_extension": ".py",
   "mimetype": "text/x-python",
   "name": "python",
   "nbconvert_exporter": "python",
   "pygments_lexer": "ipython3",
   "version": "3.11.0"
  },
  "orig_nbformat": 4
 },
 "nbformat": 4,
 "nbformat_minor": 2
}
