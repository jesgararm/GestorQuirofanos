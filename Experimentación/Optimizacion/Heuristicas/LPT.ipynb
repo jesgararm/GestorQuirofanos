{
 "cells": [
  {
   "attachments": {},
   "cell_type": "markdown",
   "metadata": {},
   "source": [
    "## Trabajo Fin de Grado\n",
    "### Gestor de Quirófanos\n",
    "### Implementación de Heurísticas LPT+ y EDD+ para asignación de quirófanos\n",
    "\n",
    "#### Autor: Jesús García Armario"
   ]
  },
  {
   "cell_type": "code",
   "execution_count": null,
   "metadata": {
    "ExecuteTime": {
     "end_time": "2023-05-10T21:54:00.064543Z",
     "start_time": "2023-05-10T21:53:59.988475Z"
    }
   },
   "outputs": [],
   "source": [
    "# Imports\n",
    "import numpy as np\n",
    "import pandas as pd\n",
    "from Utils import ActoQuirurgico, Quirofano, Heuristicas\n",
    "import matplotlib.pyplot as plt\n",
    "import math\n",
    "import time"
   ]
  },
  {
   "cell_type": "code",
   "execution_count": 2,
   "metadata": {
    "ExecuteTime": {
     "end_time": "2023-05-10T21:54:00.344772Z",
     "start_time": "2023-05-10T21:54:00.012777Z"
    }
   },
   "outputs": [],
   "source": [
    "# Importamos el listado preprocesado de una especialidad para las pruebas\n",
    "filename = '..\\\\..\\\\Datos\\\\Listados_Preprocesados\\\\ListadoInterv_Preprocesado_MAXILOFACIAL.xlsx'\n",
    "df = pd.read_excel(filename)"
   ]
  },
  {
   "cell_type": "code",
   "execution_count": 3,
   "metadata": {
    "ExecuteTime": {
     "end_time": "2023-05-10T21:54:00.362414Z",
     "start_time": "2023-05-10T21:54:00.350520Z"
    }
   },
   "outputs": [],
   "source": [
    "# Seleccionamos una muestra aleatoria de 100 pacientes\n",
    "df = df.sample(n=100, random_state=1)\n",
    "# Nos quedamos sólo con el NHC, Ponderación y duración\n",
    "df = df[['NHC', 'PONDERACIÓN', 'DURACIÓN']]\n",
    "df['DURACIÓN'] = df['DURACIÓN'] + 25\n",
    "df['DURACIÓN'] = df['DURACIÓN'].apply(lambda x: math.ceil(x/30))"
   ]
  },
  {
   "cell_type": "code",
   "execution_count": 4,
   "metadata": {
    "ExecuteTime": {
     "end_time": "2023-05-10T21:54:00.407163Z",
     "start_time": "2023-05-10T21:54:00.362414Z"
    }
   },
   "outputs": [],
   "source": [
    "# Creamos un set de actos quirúrgicos\n",
    "actos_pendientes = list()\n",
    "i = 0\n",
    "for elemento in df.itertuples():\n",
    "    actos_pendientes.append(ActoQuirurgico(i, elemento[3], elemento[1], elemento[2]))\n",
    "    i += 1\n"
   ]
  },
  {
   "cell_type": "code",
   "execution_count": 5,
   "metadata": {},
   "outputs": [],
   "source": [
    "modelo = Heuristicas(actos_pendientes, 3,5,16)\n",
    "asignacion_LPT, actos_pendientes_LPT = modelo.ejecutaHeuristica(\"LPT\")"
   ]
  },
  {
   "cell_type": "code",
   "execution_count": 6,
   "metadata": {},
   "outputs": [
    {
     "name": "stdout",
     "output_type": "stream",
     "text": [
      "Numero de actos quirúrgicos sin asignar:  51\n",
      "Tiempo de trabajo de cada quirófano:  [14, 13, 14, 14, 14, 13, 14, 13, 13, 13, 13, 12, 13, 13, 13]\n",
      "Tiempo total de trabajo:  199\n",
      "Tiempo medio de trabajo:  13.266666666666667\n",
      "Tiempo libre de cada quirófano:  [2, 3, 2, 2, 2, 3, 2, 3, 3, 3, 3, 4, 3, 3, 3]\n",
      "Tiempo libre total:  41\n",
      "Suma de prioridades:  839\n"
     ]
    }
   ],
   "source": [
    "print(\"Numero de actos quirúrgicos sin asignar: \", len(actos_pendientes_LPT))\n",
    "# Obtenemos el tiempo de trabajo de cada quirófano\n",
    "tiempos = []\n",
    "for i in range(len(asignacion_LPT)):\n",
    "    for j in range(len(asignacion_LPT[i])):\n",
    "        tiempos.append(asignacion_LPT[i][j].getTiempoOcupado())\n",
    "print(\"Tiempo de trabajo de cada quirófano: \", tiempos)\n",
    "print(\"Tiempo total de trabajo: \", sum(tiempos))\n",
    "print(\"Tiempo medio de trabajo: \", sum(tiempos)/len(tiempos))\n",
    "print(\"Tiempo libre de cada quirófano: \", [quir.getTiempoLibre() for quirofano in asignacion_LPT for quir in quirofano])\n",
    "print(\"Tiempo libre total: \", sum([quir.getTiempoLibre() for quirofano in asignacion_LPT for quir in quirofano]))\n",
    "print(\"Suma de prioridades: \", sum([acto.getPrioridad() for quirofano in asignacion_LPT for quir in quirofano for acto in quir.getActos()]))"
   ]
  },
  {
   "cell_type": "code",
   "execution_count": 7,
   "metadata": {},
   "outputs": [
    {
     "name": "stdout",
     "output_type": "stream",
     "text": [
      "Numero de actos quirúrgicos sin asignar:  53\n",
      "Tiempo de trabajo de cada quirófano:  [11, 12, 11, 12, 11, 11, 11, 11, 10, 10, 14, 11, 10, 11, 11]\n",
      "Tiempo total de trabajo:  167\n",
      "Tiempo medio de trabajo:  11.133333333333333\n",
      "Tiempo libre de cada quirófano:  [5, 4, 5, 4, 5, 5, 5, 5, 6, 6, 2, 5, 6, 5, 5]\n",
      "Tiempo libre total:  73\n",
      "Suma de prioridades:  969\n"
     ]
    }
   ],
   "source": [
    "asignacion_LPTEDD, actos_pendientes_LPTEDD = modelo.ejecutaHeuristica(\"LPTEDD\")\n",
    "print(\"Numero de actos quirúrgicos sin asignar: \", len(actos_pendientes_LPTEDD))\n",
    "# Obtenemos el tiempo de trabajo de cada quirófano\n",
    "tiempos = []\n",
    "for i in range(len(asignacion_LPTEDD)):\n",
    "    for j in range(len(asignacion_LPTEDD[i])):\n",
    "        tiempos.append(asignacion_LPTEDD[i][j].getTiempoOcupado())\n",
    "print(\"Tiempo de trabajo de cada quirófano: \", tiempos)\n",
    "print(\"Tiempo total de trabajo: \", sum(tiempos))\n",
    "print(\"Tiempo medio de trabajo: \", sum(tiempos)/len(tiempos))\n",
    "print(\"Tiempo libre de cada quirófano: \", [quir.getTiempoLibre() for quirofano in asignacion_LPTEDD for quir in quirofano])\n",
    "print(\"Tiempo libre total: \", sum([quir.getTiempoLibre() for quirofano in asignacion_LPTEDD for quir in quirofano]))\n",
    "print(\"Suma de prioridades: \", sum([acto.getPrioridad() for quirofano in asignacion_LPTEDD for quir in quirofano for acto in quir.getActos()]))"
   ]
  }
 ],
 "metadata": {
  "kernelspec": {
   "display_name": "Python 3",
   "language": "python",
   "name": "python3"
  },
  "language_info": {
   "codemirror_mode": {
    "name": "ipython",
    "version": 3
   },
   "file_extension": ".py",
   "mimetype": "text/x-python",
   "name": "python",
   "nbconvert_exporter": "python",
   "pygments_lexer": "ipython3",
   "version": "3.9.13"
  },
  "orig_nbformat": 4,
  "vscode": {
   "interpreter": {
    "hash": "c261aea317cc0286b3b3261fbba9abdec21eaa57589985bb7a274bf54d6cc0a7"
   }
  }
 },
 "nbformat": 4,
 "nbformat_minor": 2
}
