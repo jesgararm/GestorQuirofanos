{
 "cells": [
  {
   "cell_type": "code",
   "execution_count": 1,
   "outputs": [],
   "source": [
    "# Imports necesarios\n",
    "import matplotlib.pyplot as plt\n",
    "import seaborn as sns\n",
    "from randomForestClas import RandomForestClas\n",
    "import sys\n",
    "sys.path.append('../')\n",
    "import Utils.common as common"
   ],
   "metadata": {
    "collapsed": false,
    "ExecuteTime": {
     "start_time": "2023-04-18T22:44:13.967076Z",
     "end_time": "2023-04-18T22:44:14.125024Z"
    }
   }
  },
  {
   "cell_type": "code",
   "execution_count": 2,
   "metadata": {
    "collapsed": true,
    "ExecuteTime": {
     "start_time": "2023-04-18T22:44:15.261629Z",
     "end_time": "2023-04-18T22:44:18.366252Z"
    }
   },
   "outputs": [],
   "source": [
    "data = common.FileToDataframe('../../Datos/Listados_Preprocesados/ListadoInterv_Preprocesado_Codificado.xlsx')\n",
    "data = common.etiquetarDatos(data)\n",
    "X, Y = common.divideData(data)"
   ]
  },
  {
   "cell_type": "code",
   "execution_count": 3,
   "outputs": [
    {
     "name": "stderr",
     "output_type": "stream",
     "text": [
      "C:\\ProgramData\\Anaconda3\\lib\\site-packages\\sklearn\\metrics\\_classification.py:1318: UndefinedMetricWarning: Precision and F-score are ill-defined and being set to 0.0 in labels with no predicted samples. Use `zero_division` parameter to control this behavior.\n",
      "  _warn_prf(average, modifier, msg_start, len(result))\n",
      "C:\\ProgramData\\Anaconda3\\lib\\site-packages\\sklearn\\metrics\\_classification.py:1318: UndefinedMetricWarning: Precision and F-score are ill-defined and being set to 0.0 in labels with no predicted samples. Use `zero_division` parameter to control this behavior.\n",
      "  _warn_prf(average, modifier, msg_start, len(result))\n",
      "C:\\ProgramData\\Anaconda3\\lib\\site-packages\\sklearn\\metrics\\_classification.py:1318: UndefinedMetricWarning: Precision and F-score are ill-defined and being set to 0.0 in labels with no predicted samples. Use `zero_division` parameter to control this behavior.\n",
      "  _warn_prf(average, modifier, msg_start, len(result))\n"
     ]
    }
   ],
   "source": [
    "# Creamos el modelo\n",
    "model = RandomForestClas(X, Y)"
   ],
   "metadata": {
    "collapsed": false,
    "ExecuteTime": {
     "start_time": "2023-04-18T22:44:19.575090Z",
     "end_time": "2023-04-18T22:49:06.373420Z"
    }
   }
  },
  {
   "cell_type": "code",
   "execution_count": 6,
   "outputs": [
    {
     "name": "stdout",
     "output_type": "stream",
     "text": [
      "              precision    recall  f1-score   support\n",
      "\n",
      "           0       0.71      0.70      0.70      1043\n",
      "           1       0.47      0.77      0.58      1810\n",
      "           2       0.39      0.25      0.31      1192\n",
      "           3       0.34      0.06      0.10       485\n",
      "           4       0.00      0.00      0.00       192\n",
      "           5       0.56      0.32      0.41       377\n",
      "\n",
      "    accuracy                           0.50      5099\n",
      "   macro avg       0.41      0.35      0.35      5099\n",
      "weighted avg       0.47      0.50      0.46      5099\n",
      "\n"
     ]
    }
   ],
   "source": [
    "# Mostramos la matriz de confusión\n",
    "print(model.getClassificationReport())"
   ],
   "metadata": {
    "collapsed": false,
    "ExecuteTime": {
     "start_time": "2023-04-18T22:56:01.272695Z",
     "end_time": "2023-04-18T22:56:01.290927Z"
    }
   }
  },
  {
   "cell_type": "code",
   "execution_count": 7,
   "outputs": [],
   "source": [
    "# Exportamos el modelo\n",
    "model.exportModel('RandomForestClas.pkl')"
   ],
   "metadata": {
    "collapsed": false,
    "ExecuteTime": {
     "start_time": "2023-04-18T22:59:29.194076Z",
     "end_time": "2023-04-18T22:59:29.233557Z"
    }
   }
  },
  {
   "cell_type": "code",
   "execution_count": null,
   "outputs": [],
   "source": [],
   "metadata": {
    "collapsed": false
   }
  }
 ],
 "metadata": {
  "kernelspec": {
   "display_name": "Python 3",
   "language": "python",
   "name": "python3"
  },
  "language_info": {
   "codemirror_mode": {
    "name": "ipython",
    "version": 2
   },
   "file_extension": ".py",
   "mimetype": "text/x-python",
   "name": "python",
   "nbconvert_exporter": "python",
   "pygments_lexer": "ipython2",
   "version": "2.7.6"
  }
 },
 "nbformat": 4,
 "nbformat_minor": 0
}
