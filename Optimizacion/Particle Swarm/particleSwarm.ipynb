{
 "cells": [
  {
   "attachments": {},
   "cell_type": "markdown",
   "metadata": {},
   "source": [
    "## Trabajo Fin de Grado\n",
    "### Gestor de Quirófanos\n",
    "### Implementación de Algoritmo Particle Swarm para optimización del orden de las intervenciones quirúrgicas\n",
    "\n",
    "#### Autor: Jesús García Armario"
   ]
  },
  {
   "cell_type": "code",
   "execution_count": 2,
   "metadata": {},
   "outputs": [],
   "source": [
    "# Imports necesarios\n",
    "import numpy as np\n",
    "import matplotlib.pyplot as plt\n",
    "import random\n",
    "import math\n",
    "import pandas as pd\n",
    "import sys\n",
    "sys.path.append('../')\n",
    "from Heuristicas.Utils import Quirofano, ActoQuirurgico"
   ]
  },
  {
   "cell_type": "code",
   "execution_count": 3,
   "metadata": {},
   "outputs": [],
   "source": [
    "# Importamos el listado preprocesado de una especialidad para las pruebas\n",
    "filename = '..\\\\..\\\\Datos\\\\Listados_Preprocesados\\\\ListadoInterv_Preprocesado_MAXILOFACIAL.xlsx'\n",
    "df = pd.read_excel(filename)\n",
    "# Seleccionamos una muestra aleatoria de 100 pacientes\n",
    "df = df.sample(n=100, random_state=1)\n",
    "# Nos quedamos sólo con el NHC, Ponderación y duración\n",
    "df = df[['NHC', 'PONDERACIÓN', 'DURACIÓN']]\n",
    "# Sumamos a la duración 25 minutos por paciente para tener en cuenta el tiempo de preparación\n",
    "df['DURACIÓN'] = df['DURACIÓN'] + 25\n",
    "ventana = 30\n",
    "# Dividimos la duración entre la ventana y redondeamos hacia arriba\n",
    "df['DURACIÓN'] = df['DURACIÓN'].apply(lambda x: math.ceil(x/ventana))\n",
    "# Creamos un set de actos quirúrgicos\n",
    "actos_pendientes = list()\n",
    "i = 0\n",
    "for elemento in df.itertuples():\n",
    "    actos_pendientes.append(ActoQuirurgico(i, elemento[3], elemento[1], elemento[2]))\n",
    "    i += 1"
   ]
  },
  {
   "cell_type": "code",
   "execution_count": 4,
   "metadata": {},
   "outputs": [],
   "source": [
    "# Creamos 100 partículas válidas\n",
    "def crear_particula(tiempos, quirofanos, dias, actos_pendientes):\n",
    "    actos = actos_pendientes.copy()\n",
    "    particula = []\n",
    "    # Creamos una particula aleatoria\n",
    "    for i in range(dias):\n",
    "        for j in range(quirofanos):\n",
    "            T = tiempos\n",
    "            while T > 0:\n",
    "                if len(actos) == 0:\n",
    "                    particula.append('V')\n",
    "                    T -= 1\n",
    "                else:\n",
    "                    acto = random.choice(actos)\n",
    "                    intentos = 0\n",
    "                    while acto.getDuracion() > T:\n",
    "                        acto = random.choice(actos)\n",
    "                        intentos += 1\n",
    "                        if intentos > len(actos):\n",
    "                            particula.append('V')\n",
    "                            T -= 1\n",
    "                            break\n",
    "                    particula.append(acto.getId())\n",
    "                    actos.remove(acto)\n",
    "                    T -= acto.getDuracion()\n",
    "            particula.append('A')\n",
    "        particula.append('B')\n",
    "    return particula\n",
    "\n",
    "# Creamos una población de 100 partículas válidas\n",
    "def crear_poblacion(tiempos, quirofanos, dias, actos_pendientes, n):\n",
    "    poblacion = []\n",
    "    for i in range(n):\n",
    "        poblacion.append(crear_particula(tiempos, quirofanos, dias, actos_pendientes))\n",
    "    return poblacion\n",
    "\n",
    "poblacion = crear_poblacion(tiempos = 16, quirofanos = 3, dias = 5, actos_pendientes = actos_pendientes, n = 100)"
   ]
  }
 ],
 "metadata": {
  "kernelspec": {
   "display_name": "base",
   "language": "python",
   "name": "python3"
  },
  "language_info": {
   "codemirror_mode": {
    "name": "ipython",
    "version": 3
   },
   "file_extension": ".py",
   "mimetype": "text/x-python",
   "name": "python",
   "nbconvert_exporter": "python",
   "pygments_lexer": "ipython3",
   "version": "3.8.8"
  },
  "orig_nbformat": 4
 },
 "nbformat": 4,
 "nbformat_minor": 2
}
