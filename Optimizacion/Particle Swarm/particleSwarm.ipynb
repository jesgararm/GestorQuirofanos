{
 "cells": [
  {
   "attachments": {},
   "cell_type": "markdown",
   "metadata": {},
   "source": [
    "## Trabajo Fin de Grado\n",
    "### Gestor de Quirófanos\n",
    "### Implementación de Algoritmo Particle Swarm para optimización del orden de las intervenciones quirúrgicas\n",
    "\n",
    "#### Autor: Jesús García Armario"
   ]
  },
  {
   "cell_type": "code",
   "execution_count": 79,
   "metadata": {},
   "outputs": [],
   "source": [
    "# Imports necesarios\n",
    "import numpy as np\n",
    "import matplotlib.pyplot as plt\n",
    "import random\n",
    "import math\n",
    "import pandas as pd\n",
    "import sys\n",
    "sys.path.append('../')\n",
    "from Heuristicas.Utils import Quirofano, ActoQuirurgico\n",
    "from Genético.utilsGenetico import cromosomaAleatorio, evaluar, validar, distance, cruce, mutacion"
   ]
  },
  {
   "cell_type": "code",
   "execution_count": 80,
   "metadata": {},
   "outputs": [],
   "source": [
    "# Importamos el listado preprocesado de una especialidad para las pruebas\n",
    "filename = '..\\\\..\\\\Datos\\\\Listados_Preprocesados\\\\ListadoInterv_Preprocesado_MAXILOFACIAL.xlsx'\n",
    "df = pd.read_excel(filename)\n",
    "# Seleccionamos una muestra aleatoria de 100 pacientes\n",
    "df = df.sample(n=100, random_state=1)\n",
    "# Nos quedamos sólo con el NHC, Ponderación y duración\n",
    "df = df[['NHC', 'PONDERACIÓN', 'DURACIÓN']]\n",
    "# Sumamos a la duración 25 minutos por paciente para tener en cuenta el tiempo de preparación\n",
    "df['DURACIÓN'] = df['DURACIÓN'] + 25\n",
    "ventana = 30\n",
    "# Dividimos la duración entre la ventana y redondeamos hacia arriba\n",
    "df['DURACIÓN'] = df['DURACIÓN'].apply(lambda x: math.ceil(x/ventana))\n",
    "# Creamos un set de actos quirúrgicos\n",
    "actos_pendientes = list()\n",
    "i = 0\n",
    "for elemento in df.itertuples():\n",
    "    actos_pendientes.append(ActoQuirurgico(i, elemento[3], elemento[1], elemento[2]))\n",
    "    i += 1"
   ]
  },
  {
   "cell_type": "code",
   "execution_count": 81,
   "metadata": {},
   "outputs": [],
   "source": [
    "# Creamos una población de 100 partículas válidas\n",
    "def crear_poblacion(tiempos, quirofanos, dias, actos_pendientes, n):\n",
    "    poblacion = []\n",
    "    for i in range(n):\n",
    "        poblacion.append(cromosomaAleatorio(tiempos, quirofanos, dias, actos_pendientes))\n",
    "    return poblacion"
   ]
  },
  {
   "cell_type": "code",
   "execution_count": 82,
   "metadata": {},
   "outputs": [],
   "source": [
    "# Iniciamos las velocidades de las partículas\n",
    "def iniciar_velocidades(poblacion):\n",
    "    pop = []\n",
    "    for part in poblacion:\n",
    "        particula = {}\n",
    "        particula['cromosoma'] = part\n",
    "        particula['velocidad'] = 0\n",
    "        pop.append(particula)\n",
    "    return pop"
   ]
  },
  {
   "cell_type": "code",
   "execution_count": 83,
   "metadata": {},
   "outputs": [],
   "source": [
    "\n",
    "# Evaluamos a cada partícula\n",
    "def evaluar_poblacion(poblacion, tiempos = 16, quirofanos = 3, dias = 5, actos_pendientes = actos_pendientes):\n",
    "    for part in poblacion:\n",
    "        part['fitness'] = evaluar(part['cromosoma'], tiempos, quirofanos, dias, actos_pendientes)\n",
    "    return poblacion\n",
    "\n",
    "# Inicializamos la mejor partícula\n",
    "def mejor_particula(poblacion):\n",
    "    mejor = poblacion[0]\n",
    "    for part in poblacion:\n",
    "        if part['fitness'] < mejor['fitness']:\n",
    "            mejor = part\n",
    "    return mejor\n",
    "\n",
    "# Inicializamos la personal best de cada partícula\n",
    "def personal_best(poblacion):\n",
    "    for part in poblacion:\n",
    "        part['personal_best'] = part['cromosoma']\n",
    "        part['fitness_personal_best'] = part['fitness']\n",
    "    return poblacion"
   ]
  },
  {
   "cell_type": "code",
   "execution_count": 84,
   "metadata": {},
   "outputs": [
    {
     "name": "stdout",
     "output_type": "stream",
     "text": [
      "Mejor solución inicial:  {'cromosoma': [59, 55, 97, 'A', 46, 43, 63, 62, 75, 'A', 13, 57, 95, 24, 93, 9, 77, 'A', 'B', 91, 40, 67, 14, 76, 'A', 1, 21, 99, 92, 23, 'V', 51, 'A', 74, 45, 27, 88, 0, 'A', 'B', 37, 96, 31, 38, 'V', 19, 'A', 86, 47, 87, 79, 22, 'A', 42, 72, 65, 18, 'A', 'B', 70, 58, 64, 16, 'A', 5, 15, 54, 29, 'A', 7, 60, 33, 17, 'A', 'B', 2, 4, 80, 83, 8, 'A', 73, 34, 56, 68, 'A', 12, 48, 35, 85, 30, 82, 'A', 'B'], 'velocidad': 0, 'fitness': (0.002335968479988713,), 'personal_best': [59, 55, 97, 'A', 46, 43, 63, 62, 75, 'A', 13, 57, 95, 24, 93, 9, 77, 'A', 'B', 91, 40, 67, 14, 76, 'A', 1, 21, 99, 92, 23, 'V', 51, 'A', 74, 45, 27, 88, 0, 'A', 'B', 37, 96, 31, 38, 'V', 19, 'A', 86, 47, 87, 79, 22, 'A', 42, 72, 65, 18, 'A', 'B', 70, 58, 64, 16, 'A', 5, 15, 54, 29, 'A', 7, 60, 33, 17, 'A', 'B', 2, 4, 80, 83, 8, 'A', 73, 34, 56, 68, 'A', 12, 48, 35, 85, 30, 82, 'A', 'B'], 'fitness_personal_best': (0.002335968479988713,)}\n"
     ]
    },
    {
     "ename": "KeyError",
     "evalue": "'f'",
     "output_type": "error",
     "traceback": [
      "\u001b[1;31m---------------------------------------------------------------------------\u001b[0m",
      "\u001b[1;31mKeyError\u001b[0m                                  Traceback (most recent call last)",
      "\u001b[1;32m~\\AppData\\Local\\Temp\\ipykernel_13792\\3936226181.py\u001b[0m in \u001b[0;36m<module>\u001b[1;34m\u001b[0m\n\u001b[0;32m     36\u001b[0m     \u001b[1;32mfor\u001b[0m \u001b[0mpart\u001b[0m \u001b[1;32min\u001b[0m \u001b[0mpoblacion\u001b[0m\u001b[1;33m:\u001b[0m\u001b[1;33m\u001b[0m\u001b[1;33m\u001b[0m\u001b[0m\n\u001b[0;32m     37\u001b[0m         \u001b[1;31m# Actualizamos la velocidad\u001b[0m\u001b[1;33m\u001b[0m\u001b[1;33m\u001b[0m\u001b[0m\n\u001b[1;32m---> 38\u001b[1;33m         \u001b[0mpart\u001b[0m\u001b[1;33m[\u001b[0m\u001b[1;34m'velocidad'\u001b[0m\u001b[1;33m]\u001b[0m \u001b[1;33m=\u001b[0m \u001b[0mw\u001b[0m \u001b[1;33m*\u001b[0m \u001b[0mpart\u001b[0m\u001b[1;33m[\u001b[0m\u001b[1;34m'velocidad'\u001b[0m\u001b[1;33m]\u001b[0m \u001b[1;33m+\u001b[0m \u001b[0mc1\u001b[0m \u001b[1;33m*\u001b[0m \u001b[0mrandom\u001b[0m\u001b[1;33m.\u001b[0m\u001b[0mrandom\u001b[0m\u001b[1;33m(\u001b[0m\u001b[1;33m)\u001b[0m \u001b[1;33m*\u001b[0m \u001b[1;33m(\u001b[0m\u001b[0mmejor\u001b[0m\u001b[1;33m[\u001b[0m\u001b[1;34m'fitness'\u001b[0m\u001b[1;33m]\u001b[0m\u001b[1;33m[\u001b[0m\u001b[1;36m0\u001b[0m\u001b[1;33m]\u001b[0m \u001b[1;33m-\u001b[0m \u001b[0mpart\u001b[0m\u001b[1;33m[\u001b[0m\u001b[1;34m'fitness'\u001b[0m\u001b[1;33m]\u001b[0m\u001b[1;33m[\u001b[0m\u001b[1;36m0\u001b[0m\u001b[1;33m]\u001b[0m\u001b[1;33m)\u001b[0m \u001b[1;33m+\u001b[0m \u001b[0mc2\u001b[0m \u001b[1;33m*\u001b[0m \u001b[0mrandom\u001b[0m\u001b[1;33m.\u001b[0m\u001b[0mrandom\u001b[0m\u001b[1;33m(\u001b[0m\u001b[1;33m)\u001b[0m \u001b[1;33m*\u001b[0m \u001b[1;33m(\u001b[0m\u001b[0mmejor_global\u001b[0m\u001b[1;33m[\u001b[0m\u001b[1;34m'fitness'\u001b[0m\u001b[1;33m]\u001b[0m\u001b[1;33m[\u001b[0m\u001b[1;36m0\u001b[0m\u001b[1;33m]\u001b[0m \u001b[1;33m-\u001b[0m \u001b[0mpart\u001b[0m\u001b[1;33m[\u001b[0m\u001b[1;34m'fitness'\u001b[0m\u001b[1;33m[\u001b[0m\u001b[1;36m0\u001b[0m\u001b[1;33m]\u001b[0m\u001b[1;33m]\u001b[0m\u001b[1;33m)\u001b[0m\u001b[1;33m\u001b[0m\u001b[1;33m\u001b[0m\u001b[0m\n\u001b[0m\u001b[0;32m     39\u001b[0m         \u001b[1;31m# Actualizamos la posición\u001b[0m\u001b[1;33m\u001b[0m\u001b[1;33m\u001b[0m\u001b[0m\n\u001b[0;32m     40\u001b[0m         \u001b[0mpart\u001b[0m\u001b[1;33m[\u001b[0m\u001b[1;34m'fitness'\u001b[0m\u001b[1;33m]\u001b[0m \u001b[1;33m=\u001b[0m \u001b[0mpart\u001b[0m\u001b[1;33m[\u001b[0m\u001b[1;34m'fitness'\u001b[0m\u001b[1;33m]\u001b[0m \u001b[1;33m+\u001b[0m \u001b[0mpart\u001b[0m\u001b[1;33m[\u001b[0m\u001b[1;34m'velocidad'\u001b[0m\u001b[1;33m]\u001b[0m\u001b[1;33m\u001b[0m\u001b[1;33m\u001b[0m\u001b[0m\n",
      "\u001b[1;31mKeyError\u001b[0m: 'f'"
     ]
    }
   ],
   "source": [
    "# Creamos la población inicial\n",
    "poblacion = crear_poblacion(16, 3, 5, actos_pendientes, 100)\n",
    "# Iniciamos las velocidades\n",
    "poblacion = iniciar_velocidades(poblacion)\n",
    "# Evaluamos la población\n",
    "poblacion = evaluar_poblacion(poblacion)\n",
    "# Inicializamos la mejor partícula\n",
    "mejor = mejor_particula(poblacion)\n",
    "# Inicializamos la personal best de cada partícula\n",
    "poblacion = personal_best(poblacion)\n",
    "# Inicializamos los parámetros\n",
    "w = 0.9\n",
    "c1 = 0.5\n",
    "c2 = 0.3\n",
    "mejor_global = mejor\n",
    "# Inicializamos el contador de iteraciones\n",
    "iteraciones = 0\n",
    "# Inicializamos el contador de iteraciones sin mejora\n",
    "iteraciones_sin_mejora = 0\n",
    "# Inicializamos el número máximo de iteraciones sin mejora\n",
    "max_iteraciones_sin_mejora = 100\n",
    "# Inicializamos el número máximo de iteraciones\n",
    "max_iteraciones = 1000\n",
    "\n",
    "print('Mejor solución inicial: ', mejor_global)\n",
    "\n",
    "# Iniciamos el bucle\n",
    "while iteraciones < max_iteraciones and iteraciones_sin_mejora < max_iteraciones_sin_mejora:\n",
    "    # Actualizamos la mejor partícula global\n",
    "    if mejor['fitness'][0] < mejor_global['fitness'][0]:\n",
    "        mejor_global = mejor\n",
    "        iteraciones_sin_mejora = 0\n",
    "    else:\n",
    "        iteraciones_sin_mejora += 1\n",
    "    # Actualizamos las velocidades y posiciones\n",
    "    for part in poblacion:\n",
    "        # Actualizamos la velocidad\n",
    "        part['velocidad'] = w * part['velocidad'] + c1 * random.random() * (mejor['fitness'][0] - part['fitness'][0]) + c2 * random.random() * (mejor_global['fitness'][0] - part['fitness'[0]])\n",
    "        # Actualizamos la posición\n",
    "        part['fitness'] = part['fitness'] + part['velocidad']\n",
    "        # Realizamos la mutación\n",
    "        part['cromosoma'] = mutacion(part['cromosoma'])\n",
    "    # Seleccionamos los individuos a cruzar\n",
    "    # Serán los mejores de la población\n",
    "    poblacion = sorted(poblacion, key = lambda i: i['fitness'])\n",
    "    # Cruzamos los dos mejores\n",
    "    poblacion[0]['cromosoma'], poblacion[1]['cromosoma'] = cruce(poblacion[0]['cromosoma'], poblacion[1]['cromosoma'])\n",
    "    # Evaluamos a los nuevos individuos\n",
    "    poblacion[0]['fitness'] = evaluar(poblacion[0]['cromosoma'])\n",
    "    poblacion[1]['fitness'] = evaluar(poblacion[1]['cromosoma'])\n",
    "    # Actualizamos la personal best de cada partícula\n",
    "    for part in poblacion:\n",
    "        if part['fitness'] < part['fitness_personal_best']:\n",
    "            part['personal_best'] = part['cromosoma']\n",
    "            part['fitness_personal_best'] = part['fitness']\n",
    "\n",
    "    # Actualizamos la mejor partícula\n",
    "    mejor = mejor_particula(poblacion)\n",
    "    # Actualizamos el contador de iteraciones\n",
    "    iteraciones += 1\n",
    "\n",
    "# Mostramos el resultado\n",
    "print('Mejor solución: ', mejor_global['cromosoma'])\n",
    "print('Fitness: ', mejor_global['fitness'])\n",
    "print('Iteraciones: ', iteraciones)\n"
   ]
  },
  {
   "cell_type": "code",
   "execution_count": null,
   "metadata": {},
   "outputs": [],
   "source": []
  }
 ],
 "metadata": {
  "kernelspec": {
   "display_name": "base",
   "language": "python",
   "name": "python3"
  },
  "language_info": {
   "codemirror_mode": {
    "name": "ipython",
    "version": 3
   },
   "file_extension": ".py",
   "mimetype": "text/x-python",
   "name": "python",
   "nbconvert_exporter": "python",
   "pygments_lexer": "ipython3",
   "version": "3.9.13"
  },
  "orig_nbformat": 4
 },
 "nbformat": 4,
 "nbformat_minor": 2
}
