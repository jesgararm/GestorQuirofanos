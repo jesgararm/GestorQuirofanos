{
 "cells": [
  {
   "attachments": {},
   "cell_type": "markdown",
   "metadata": {},
   "source": [
    "## Trabajo Fin de Grado\n",
    "### Gestor de Quirófanos\n",
    "### Implementación de Algoritmo Particle Swarm para optimización del orden de las intervenciones quirúrgicas\n",
    "\n",
    "#### Autor: Jesús García Armario"
   ]
  },
  {
   "cell_type": "code",
   "execution_count": 43,
   "metadata": {},
   "outputs": [],
   "source": [
    "# Imports necesarios\n",
    "import numpy as np\n",
    "import matplotlib.pyplot as plt\n",
    "import random\n",
    "import math\n",
    "import pandas as pd\n",
    "import sys\n",
    "sys.path.append('../')\n",
    "from Heuristicas.Utils import Quirofano, ActoQuirurgico\n",
    "from Genético.utilsGenetico import cromosomaAleatorio, evaluar, validar, distance, cruce, mutacion"
   ]
  },
  {
   "cell_type": "code",
   "execution_count": 44,
   "metadata": {},
   "outputs": [],
   "source": [
    "# Importamos el listado preprocesado de una especialidad para las pruebas\n",
    "filename = '..\\\\..\\\\Datos\\\\Listados_Preprocesados\\\\ListadoInterv_Preprocesado_MAXILOFACIAL.xlsx'\n",
    "df = pd.read_excel(filename)\n",
    "# Seleccionamos una muestra aleatoria de 100 pacientes\n",
    "df = df.sample(n=100, random_state=1)\n",
    "# Nos quedamos sólo con el NHC, Ponderación y duración\n",
    "df = df[['NHC', 'PONDERACIÓN', 'DURACIÓN']]\n",
    "# Sumamos a la duración 25 minutos por paciente para tener en cuenta el tiempo de preparación\n",
    "df['DURACIÓN'] = df['DURACIÓN'] + 25\n",
    "ventana = 30\n",
    "# Dividimos la duración entre la ventana y redondeamos hacia arriba\n",
    "df['DURACIÓN'] = df['DURACIÓN'].apply(lambda x: math.ceil(x/ventana))\n",
    "# Creamos un set de actos quirúrgicos\n",
    "actos_pendientes = list()\n",
    "i = 0\n",
    "for elemento in df.itertuples():\n",
    "    actos_pendientes.append(ActoQuirurgico(i, elemento[3], elemento[1], elemento[2]))\n",
    "    i += 1"
   ]
  },
  {
   "cell_type": "code",
   "execution_count": 45,
   "metadata": {},
   "outputs": [],
   "source": [
    "# Creamos una población de 100 partículas válidas\n",
    "def crear_poblacion(tiempos, quirofanos, dias, actos_pendientes, n):\n",
    "    poblacion = []\n",
    "    for i in range(n):\n",
    "        poblacion.append({'cromosoma': cromosomaAleatorio(tiempos, quirofanos, dias, actos_pendientes), 'fitness': 0, 'velocidad': random.randint(2,n), 'personal_best': None, 'fitness_personal_best': 0})\n",
    "    return poblacion"
   ]
  },
  {
   "cell_type": "code",
   "execution_count": 46,
   "metadata": {},
   "outputs": [],
   "source": [
    "\n",
    "# Evaluamos a cada partícula\n",
    "def evaluar_poblacion(poblacion, tiempos = 16, quirofanos = 3, dias = 5, actos_pendientes = actos_pendientes):\n",
    "    for part in poblacion:\n",
    "        part['fitness'] = evaluar(part['cromosoma'], tiempos, quirofanos, dias, actos_pendientes)[0]\n",
    "    return poblacion\n",
    "\n",
    "# Inicializamos la mejor partícula\n",
    "def mejor_particula(poblacion):\n",
    "    pop = sorted(poblacion, key=lambda k: k['fitness'])\n",
    "    return pop[0]\n",
    "\n",
    "# Inicializamos la personal best de cada partícula\n",
    "def personal_best(poblacion):\n",
    "    for part in poblacion:\n",
    "        part['personal_best'] = part['cromosoma']\n",
    "        part['fitness_personal_best'] = part['fitness']\n",
    "    return poblacion"
   ]
  },
  {
   "cell_type": "code",
   "execution_count": 47,
   "metadata": {},
   "outputs": [
    {
     "name": "stdout",
     "output_type": "stream",
     "text": [
      "Mejor solución inicial:  {'cromosoma': [48, 2, 11, 23, 37, 'A', 0, 92, 30, 74, 79, 44, 84, 'V', 22, 'A', 95, 85, 8, 54, 'A', 'B', 75, 34, 'V', 45, 'A', 41, 1, 89, 35, 'A', 57, 6, 40, 93, 'A', 'B', 82, 68, 24, 67, 53, 96, 5, 'A', 28, 19, 18, 43, 33, 29, 42, 'V', 27, 'A', 63, 60, 21, 13, 51, 59, 'V', 86, 'A', 'B', 88, 9, 69, 64, 'A', 32, 97, 'V', 76, 'A', 72, 10, 77, 15, 'A', 'B', 81, 47, 16, 'A', 87, 65, 46, 39, 'A', 80, 14, 26, 25, 12, 90, 70, 'A', 'B'], 'fitness': 1, 'velocidad': 81, 'personal_best': [48, 2, 11, 23, 37, 'A', 0, 92, 30, 74, 79, 44, 84, 'V', 22, 'A', 95, 85, 8, 54, 'A', 'B', 75, 34, 'V', 45, 'A', 41, 1, 89, 35, 'A', 57, 6, 40, 93, 'A', 'B', 82, 68, 24, 67, 53, 96, 5, 'A', 28, 19, 18, 43, 33, 29, 42, 'V', 27, 'A', 63, 60, 21, 13, 51, 59, 'V', 86, 'A', 'B', 88, 9, 69, 64, 'A', 32, 97, 'V', 76, 'A', 72, 10, 77, 15, 'A', 'B', 81, 47, 16, 'A', 87, 65, 46, 39, 'A', 80, 14, 26, 25, 12, 90, 70, 'A', 'B'], 'fitness_personal_best': 1}\n",
      "Mejor solución:  [6, 86, 79, 51, 38, 69, 'A', 62, 64, 68, 'V', 'A', 73, 34, 80, 53, 'A', 'B', 2, 32, 51, 61, 'V', 6, 'A', 95, 58, 86, 82, 24, 'A', 60, 3, 'V', 96, 'A', 'B', 92, 56, 11, 97, 'V', 'A', 68, 31, 47, 27, 'A', 49, 50, 57, 85, 25, 5, 'A', 'B', 88, 'V', 'A', 65, 45, 89, 55, 'A', 88, 52, 0, 92, 'A', 'B', 'V', 20, 9, 65, 60, 17, 'A', 45, 'V', 21, 70, 'A', 33, 72, 67, 25, 23, 90, 'A', 'B']\n",
      "Fitness:  0.00017809064617836873\n",
      "Iteraciones:  111\n",
      "Evaluación del mejor:  9\n"
     ]
    }
   ],
   "source": [
    "# Creamos la población inicial\n",
    "poblacion = crear_poblacion(16, 3, 5, actos_pendientes, 100)\n",
    "# Evaluamos la población\n",
    "poblacion = evaluar_poblacion(poblacion)\n",
    "# Inicializamos la mejor partícula\n",
    "mejor = mejor_particula(poblacion)\n",
    "# Inicializamos la personal best de cada partícula\n",
    "poblacion = personal_best(poblacion)\n",
    "# Inicializamos los parámetros\n",
    "w = 0.9\n",
    "c1 = 0.5\n",
    "c2 = 0.3\n",
    "mejor_global = mejor\n",
    "# Inicializamos el contador de iteraciones\n",
    "iteraciones = 0\n",
    "# Inicializamos el contador de iteraciones sin mejora\n",
    "iteraciones_sin_mejora = 0\n",
    "# Inicializamos el número máximo de iteraciones sin mejora\n",
    "max_iteraciones_sin_mejora = 100\n",
    "# Inicializamos el número máximo de iteraciones\n",
    "max_iteraciones = 1000\n",
    "\n",
    "print('Mejor solución inicial: ', mejor_global)\n",
    "\n",
    "# Iniciamos el bucle\n",
    "while iteraciones < max_iteraciones and iteraciones_sin_mejora < max_iteraciones_sin_mejora:\n",
    "    # Actualizamos la mejor partícula global\n",
    "    if mejor['fitness'] < mejor_global['fitness']:\n",
    "        mejor_global = mejor\n",
    "        iteraciones_sin_mejora = 0\n",
    "    else:\n",
    "        iteraciones_sin_mejora += 1\n",
    "    # Actualizamos las velocidades y posiciones\n",
    "    for part in poblacion:\n",
    "        # Actualizamos la velocidad\n",
    "        part['velocidad'] = w * part['velocidad'] + c1 * random.random() * (mejor['fitness'] - part['fitness']) + c2 * random.random() * (mejor_global['fitness'] - part['fitness'])\n",
    "        # Actualizamos la posición\n",
    "        part['fitness'] = part['fitness'] + part['velocidad']\n",
    "        # Si es negativa, volvemos al mejor valor personal\n",
    "        if part['fitness'] < 0:\n",
    "            part['fitness'] = part['fitness_personal_best']\n",
    "            part['cromosoma'] = part['personal_best']\n",
    "        else:\n",
    "            # Realizamos la mutación\n",
    "            part['cromosoma'] = mutacion(part['cromosoma'])\n",
    "    # Seleccionamos los individuos a cruzar\n",
    "    # Serán los mejores de la población\n",
    "    poblacion = sorted(poblacion, key = lambda i: i['fitness'])\n",
    "    # Cruzamos a dos individuos al azar\n",
    "    individuos = random.choices(poblacion, k=2)\n",
    "    hijo1, hijo2 = cruce(individuos[0]['cromosoma'], individuos[1]['cromosoma'])\n",
    "    # Evaluamos a los nuevos individuos\n",
    "    hijo1_fit= evaluar(hijo1, 16, 3, 5, actos_pendientes)[0]\n",
    "    hijo2_fit= evaluar(hijo2, 16, 3, 5, actos_pendientes)[0]\n",
    "    # Sustituimos los dos peores de la población por los nuevos individuos\n",
    "    poblacion[-1]['cromosoma'] = hijo1\n",
    "    poblacion[-1]['fitness'] = hijo1_fit\n",
    "    poblacion[-2]['cromosoma'] = hijo2\n",
    "    poblacion[-2]['fitness'] = hijo2_fit\n",
    "    # Actualizamos la personal best de cada partícula\n",
    "    for part in poblacion:\n",
    "        if part['fitness'] < part['fitness_personal_best']:\n",
    "            part['personal_best'] = part['cromosoma']\n",
    "            part['fitness_personal_best'] = part['fitness']\n",
    "\n",
    "    # Actualizamos la mejor partícula\n",
    "    mejor = mejor_particula(poblacion)\n",
    "    # Actualizamos el contador de iteraciones\n",
    "    iteraciones += 1\n",
    "\n",
    "# Mostramos el resultado\n",
    "print('Mejor solución: ', mejor_global['cromosoma'])\n",
    "print('Fitness: ', mejor_global['fitness'])\n",
    "print('Iteraciones: ', iteraciones)\n",
    "print('Evaluación del mejor: ', evaluar(mejor_global['cromosoma'], 16, 3, 5, actos_pendientes)[0])"
   ]
  },
  {
   "cell_type": "code",
   "execution_count": null,
   "metadata": {},
   "outputs": [],
   "source": []
  }
 ],
 "metadata": {
  "kernelspec": {
   "display_name": "base",
   "language": "python",
   "name": "python3"
  },
  "language_info": {
   "codemirror_mode": {
    "name": "ipython",
    "version": 3
   },
   "file_extension": ".py",
   "mimetype": "text/x-python",
   "name": "python",
   "nbconvert_exporter": "python",
   "pygments_lexer": "ipython3",
   "version": "3.9.13"
  },
  "orig_nbformat": 4
 },
 "nbformat": 4,
 "nbformat_minor": 2
}
