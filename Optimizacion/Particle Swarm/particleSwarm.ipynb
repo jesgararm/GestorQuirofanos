{
 "cells": [
  {
   "attachments": {},
   "cell_type": "markdown",
   "metadata": {},
   "source": [
    "## Trabajo Fin de Grado\n",
    "### Gestor de Quirófanos\n",
    "### Implementación de Algoritmo Particle Swarm para optimización del orden de las intervenciones quirúrgicas\n",
    "\n",
    "#### Autor: Jesús García Armario"
   ]
  },
  {
   "cell_type": "code",
   "execution_count": 47,
   "metadata": {},
   "outputs": [],
   "source": [
    "# Imports necesarios\n",
    "import numpy as np\n",
    "import matplotlib.pyplot as plt\n",
    "import random\n",
    "import math\n",
    "import pandas as pd\n",
    "import sys\n",
    "sys.path.append('../')\n",
    "from Heuristicas.Utils import Quirofano, ActoQuirurgico\n",
    "from Genético.utilsGenetico import cromosomaAleatorio, evaluar, validar, distance, cruce, mutacion"
   ]
  },
  {
   "cell_type": "code",
   "execution_count": 48,
   "metadata": {},
   "outputs": [],
   "source": [
    "# Importamos el listado preprocesado de una especialidad para las pruebas\n",
    "filename = '..\\\\..\\\\Datos\\\\Listados_Preprocesados\\\\ListadoInterv_Preprocesado_MAXILOFACIAL.xlsx'\n",
    "df = pd.read_excel(filename)\n",
    "# Seleccionamos una muestra aleatoria de 100 pacientes\n",
    "df = df.sample(n=100, random_state=1)\n",
    "# Nos quedamos sólo con el NHC, Ponderación y duración\n",
    "df = df[['NHC', 'PONDERACIÓN', 'DURACIÓN']]\n",
    "# Sumamos a la duración 25 minutos por paciente para tener en cuenta el tiempo de preparación\n",
    "df['DURACIÓN'] = df['DURACIÓN'] + 25\n",
    "ventana = 30\n",
    "# Dividimos la duración entre la ventana y redondeamos hacia arriba\n",
    "df['DURACIÓN'] = df['DURACIÓN'].apply(lambda x: math.ceil(x/ventana))\n",
    "# Creamos un set de actos quirúrgicos\n",
    "actos_pendientes = list()\n",
    "i = 0\n",
    "for elemento in df.itertuples():\n",
    "    actos_pendientes.append(ActoQuirurgico(i, elemento[3], elemento[1], elemento[2]))\n",
    "    i += 1"
   ]
  },
  {
   "cell_type": "code",
   "execution_count": 49,
   "metadata": {},
   "outputs": [],
   "source": [
    "# Creamos una población de 100 partículas válidas\n",
    "def crear_poblacion(tiempos, quirofanos, dias, actos_pendientes, n):\n",
    "    poblacion = []\n",
    "    for i in range(n):\n",
    "        poblacion.append(cromosomaAleatorio(tiempos, quirofanos, dias, actos_pendientes))\n",
    "    return poblacion"
   ]
  },
  {
   "cell_type": "code",
   "execution_count": 50,
   "metadata": {},
   "outputs": [],
   "source": [
    "# Iniciamos las velocidades de las partículas\n",
    "def iniciar_velocidades(poblacion):\n",
    "    pop = []\n",
    "    for part in poblacion:\n",
    "        particula = {}\n",
    "        particula['cromosoma'] = part\n",
    "        particula['velocidad'] = np.random.randint(2, len(part)) * 0.5\n",
    "        pop.append(particula)\n",
    "    return pop"
   ]
  },
  {
   "cell_type": "code",
   "execution_count": 54,
   "metadata": {},
   "outputs": [],
   "source": [
    "\n",
    "# Evaluamos a cada partícula\n",
    "def evaluar_poblacion(poblacion, tiempos = 16, quirofanos = 3, dias = 5, actos_pendientes = actos_pendientes):\n",
    "    for part in poblacion:\n",
    "        part['fitness'] = evaluar(part['cromosoma'], tiempos, quirofanos, dias, actos_pendientes)\n",
    "    return poblacion\n",
    "\n",
    "# Inicializamos la mejor partícula\n",
    "def mejor_particula(poblacion):\n",
    "    mejor = poblacion[0]\n",
    "    for part in poblacion:\n",
    "        if part['fitness'] < mejor['fitness']:\n",
    "            mejor = part\n",
    "    return mejor"
   ]
  },
  {
   "cell_type": "code",
   "execution_count": 57,
   "metadata": {},
   "outputs": [
    {
     "ename": "KeyError",
     "evalue": "'f'",
     "output_type": "error",
     "traceback": [
      "\u001b[1;31m---------------------------------------------------------------------------\u001b[0m",
      "\u001b[1;31mKeyError\u001b[0m                                  Traceback (most recent call last)",
      "\u001b[1;32m~\\AppData\\Local\\Temp\\ipykernel_13792\\148206912.py\u001b[0m in \u001b[0;36m<module>\u001b[1;34m\u001b[0m\n\u001b[0;32m     40\u001b[0m     \u001b[1;32mfor\u001b[0m \u001b[0mpart\u001b[0m \u001b[1;32min\u001b[0m \u001b[0mpoblacion\u001b[0m\u001b[1;33m:\u001b[0m\u001b[1;33m\u001b[0m\u001b[1;33m\u001b[0m\u001b[0m\n\u001b[0;32m     41\u001b[0m         \u001b[1;31m# Actualizamos la velocidad\u001b[0m\u001b[1;33m\u001b[0m\u001b[1;33m\u001b[0m\u001b[0m\n\u001b[1;32m---> 42\u001b[1;33m         \u001b[0mpart\u001b[0m\u001b[1;33m[\u001b[0m\u001b[1;34m'velocidad'\u001b[0m\u001b[1;33m]\u001b[0m \u001b[1;33m=\u001b[0m \u001b[0mw\u001b[0m \u001b[1;33m*\u001b[0m \u001b[0mpart\u001b[0m\u001b[1;33m[\u001b[0m\u001b[1;34m'velocidad'\u001b[0m\u001b[1;33m]\u001b[0m \u001b[1;33m+\u001b[0m \u001b[0mc1\u001b[0m \u001b[1;33m*\u001b[0m \u001b[0mrandom\u001b[0m\u001b[1;33m.\u001b[0m\u001b[0mrandom\u001b[0m\u001b[1;33m(\u001b[0m\u001b[1;33m)\u001b[0m \u001b[1;33m*\u001b[0m \u001b[1;33m(\u001b[0m\u001b[0mmejor\u001b[0m\u001b[1;33m[\u001b[0m\u001b[1;34m'fitness'\u001b[0m\u001b[1;33m]\u001b[0m\u001b[1;33m[\u001b[0m\u001b[1;36m0\u001b[0m\u001b[1;33m]\u001b[0m \u001b[1;33m-\u001b[0m \u001b[0mpart\u001b[0m\u001b[1;33m[\u001b[0m\u001b[1;34m'fitness'\u001b[0m\u001b[1;33m]\u001b[0m\u001b[1;33m[\u001b[0m\u001b[1;36m0\u001b[0m\u001b[1;33m]\u001b[0m\u001b[1;33m)\u001b[0m \u001b[1;33m+\u001b[0m \u001b[0mc2\u001b[0m \u001b[1;33m*\u001b[0m \u001b[0mrandom\u001b[0m\u001b[1;33m.\u001b[0m\u001b[0mrandom\u001b[0m\u001b[1;33m(\u001b[0m\u001b[1;33m)\u001b[0m \u001b[1;33m*\u001b[0m \u001b[1;33m(\u001b[0m\u001b[0mmejor_global\u001b[0m\u001b[1;33m[\u001b[0m\u001b[1;34m'fitness'\u001b[0m\u001b[1;33m]\u001b[0m\u001b[1;33m[\u001b[0m\u001b[1;36m0\u001b[0m\u001b[1;33m]\u001b[0m \u001b[1;33m-\u001b[0m \u001b[0mpart\u001b[0m\u001b[1;33m[\u001b[0m\u001b[1;34m'fitness'\u001b[0m\u001b[1;33m[\u001b[0m\u001b[1;36m0\u001b[0m\u001b[1;33m]\u001b[0m\u001b[1;33m]\u001b[0m\u001b[1;33m)\u001b[0m\u001b[1;33m\u001b[0m\u001b[1;33m\u001b[0m\u001b[0m\n\u001b[0m\u001b[0;32m     43\u001b[0m         \u001b[1;31m# Comprobamos si empeora la solución\u001b[0m\u001b[1;33m\u001b[0m\u001b[1;33m\u001b[0m\u001b[0m\n\u001b[0;32m     44\u001b[0m         \u001b[1;32mif\u001b[0m \u001b[0mpart\u001b[0m\u001b[1;33m[\u001b[0m\u001b[1;34m'velocidad'\u001b[0m\u001b[1;33m]\u001b[0m \u001b[1;33m<\u001b[0m \u001b[1;36m0\u001b[0m\u001b[1;33m:\u001b[0m\u001b[1;33m\u001b[0m\u001b[1;33m\u001b[0m\u001b[0m\n",
      "\u001b[1;31mKeyError\u001b[0m: 'f'"
     ]
    }
   ],
   "source": [
    "# Creamos la población inicial\n",
    "poblacion = crear_poblacion(16, 3, 5, actos_pendientes, 100)\n",
    "# Iniciamos las velocidades\n",
    "poblacion = iniciar_velocidades(poblacion)\n",
    "# Evaluamos la población\n",
    "poblacion = evaluar_poblacion(poblacion)\n",
    "# Inicializamos la mejor partícula\n",
    "mejor = mejor_particula(poblacion)\n",
    "\n",
    "# Inicializamos los parámetros\n",
    "w = 0.9\n",
    "c1 = 0.5\n",
    "c2 = 0.3\n",
    "# Inicializamos el mejor global\n",
    "mejor_global = mejor\n",
    "\n",
    "# Inicializamos el contador de iteraciones\n",
    "iteraciones = 0\n",
    "# Inicializamos el contador de iteraciones sin mejora\n",
    "iteraciones_sin_mejora = 0\n",
    "# Inicializamos el número máximo de iteraciones sin mejora\n",
    "max_iteraciones_sin_mejora = 100\n",
    "# Inicializamos el número máximo de iteraciones\n",
    "max_iteraciones = 1000\n",
    "\n",
    "# Inicializamos el vector de fitness\n",
    "fitness = []\n",
    "# Inicializamos el vector de fitness de la mejor partícula\n",
    "fitness_mejor = []\n",
    "\n",
    "# Iniciamos el bucle\n",
    "while iteraciones < max_iteraciones and iteraciones_sin_mejora < max_iteraciones_sin_mejora:\n",
    "    # Actualizamos la mejor partícula global\n",
    "    if mejor['fitness'][0] < mejor_global['fitness'][0]:\n",
    "        mejor_global = mejor\n",
    "        iteraciones_sin_mejora = 0\n",
    "    else:\n",
    "        iteraciones_sin_mejora += 1\n",
    "    # Actualizamos las velocidades y posiciones\n",
    "    for part in poblacion:\n",
    "        # Actualizamos la velocidad\n",
    "        part['velocidad'] = w * part['velocidad'] + c1 * random.random() * (mejor['fitness'][0] - part['fitness'][0]) + c2 * random.random() * (mejor_global['fitness'][0] - part['fitness'[0]])\n",
    "        # Comprobamos si empeora la solución\n",
    "        if part['velocidad'] < 0:\n",
    "            part['velocidad'] = 0\n",
    "        # Actualizamos la posición\n",
    "        part['fitness'] = part['fitness'] + part['velocidad']\n",
    "    # Evaluamos la población\n",
    "    poblacion = evaluar_poblacion(poblacion)\n",
    "    # Actualizamos la mejor partícula\n",
    "    mejor = mejor_particula(poblacion)\n",
    "    # Actualizamos el contador de iteraciones\n",
    "    iteraciones += 1\n",
    "    # Guardamos el fitness de la mejor partícula\n",
    "    fitness_mejor.append(mejor['fitness'])\n",
    "    # Guardamos el fitness medio de la población\n",
    "    fitness.append(np.mean([part['fitness'] for part in poblacion]))\n",
    "\n",
    "# Mostramos el resultado\n",
    "print('Mejor solución: ', mejor_global['cromosoma'])\n",
    "print('Fitness: ', mejor_global['fitness'])\n",
    "print('Iteraciones: ', iteraciones)\n"
   ]
  },
  {
   "cell_type": "code",
   "execution_count": null,
   "metadata": {},
   "outputs": [],
   "source": []
  }
 ],
 "metadata": {
  "kernelspec": {
   "display_name": "base",
   "language": "python",
   "name": "python3"
  },
  "language_info": {
   "codemirror_mode": {
    "name": "ipython",
    "version": 3
   },
   "file_extension": ".py",
   "mimetype": "text/x-python",
   "name": "python",
   "nbconvert_exporter": "python",
   "pygments_lexer": "ipython3",
   "version": "3.9.13"
  },
  "orig_nbformat": 4
 },
 "nbformat": 4,
 "nbformat_minor": 2
}
