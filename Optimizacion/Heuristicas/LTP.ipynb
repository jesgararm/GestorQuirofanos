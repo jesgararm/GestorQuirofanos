{
 "cells": [
  {
   "attachments": {},
   "cell_type": "markdown",
   "metadata": {},
   "source": [
    "## Trabajo Fin de Grado\n",
    "### Gestor de Quirófanos\n",
    "### Implementación de Heurística LPT+ para asignación de quirófanos\n",
    "\n",
    "#### Autor: Jesús García Armario"
   ]
  },
  {
   "cell_type": "code",
   "execution_count": 6,
   "metadata": {},
   "outputs": [],
   "source": [
    "# Imports\n",
    "import numpy as np\n",
    "import pandas as pd\n",
    "from Utils import ActoQuirurgico, Quirofano"
   ]
  },
  {
   "cell_type": "code",
   "execution_count": 4,
   "metadata": {},
   "outputs": [],
   "source": [
    "# Importamos el listado preprocesado de una especialidad para las pruebas\n",
    "filename = '..\\\\..\\\\Datos\\\\Listados_Preprocesados\\\\ListadoInterv_Preprocesado_MAXILOFACIAL.xlsx'\n",
    "df = pd.read_excel(filename)"
   ]
  },
  {
   "cell_type": "code",
   "execution_count": 7,
   "metadata": {},
   "outputs": [],
   "source": [
    "# Seleccionamos una muestra aleatoria de 100 pacientes\n",
    "df = df.sample(n=100, random_state=1)\n",
    "# Nos quedamos sólo con el NHC, Ponderación y duración\n",
    "df = df[['NHC', 'PONDERACIÓN', 'DURACIÓN']]\n"
   ]
  },
  {
   "cell_type": "code",
   "execution_count": 8,
   "metadata": {},
   "outputs": [],
   "source": [
    "# Creamos un set de actos quirúrgicos\n",
    "actos_pendientes = set()\n",
    "i = 0\n",
    "for elemento in df.itertuples():\n",
    "    actos_pendientes.add(ActoQuirurgico(i, elemento[2], elemento[0], elemento[1]))\n",
    "    i += 1\n"
   ]
  },
  {
   "cell_type": "code",
   "execution_count": 12,
   "metadata": {},
   "outputs": [
    {
     "name": "stdout",
     "output_type": "stream",
     "text": [
      "Número de actos quirúrgicos:  100\n"
     ]
    }
   ],
   "source": [
    "print (\"Número de actos quirúrgicos: \", len(actos_pendientes))\n",
    "def ordenaPacientes(actos_pendientes : set):\n",
    "    # Dividimos la prioridad en deciles, y ordenamos por duración dentro de cada decil\n",
    "    for acto in actos_pendientes:\n",
    "        acto.prioridad = int(acto.prioridad / 10)\n",
    "    actos_pendientes = sorted(actos_pendientes, key=lambda acto: acto.getPrioridad(), reverse=True) # type: ignore\n",
    "    actos_pendientes = sorted(actos_pendientes, key=lambda acto: acto.getDuracion(), reverse=True) # type: ignore\n",
    "    return actos_pendientes"
   ]
  },
  {
   "cell_type": "code",
   "execution_count": null,
   "metadata": {},
   "outputs": [],
   "source": [
    "# Función que asigna un acto quirúrgico a un quirófano siguiendo el criterio LTP\n",
    "def LTP(actos_pendientes, n_quirofanos, dias, tiempo):\n",
    "    # Primero ordenamos los actos quirúrgicos por duración y prioridad\n",
    "    actos_pendientes = ordenaPacientes(actos_pendientes)\n",
    "    # Creamos una lista de quirófanos, cada uno con su día y tiempo de trabajo\n",
    "    quirofanos = [n_quirofanos][dias]\n",
    "    for i in range(n_quirofanos):\n",
    "        for j in range(dias):\n",
    "            quirofanos[i][j] = Quirofano(i, j, tiempo)\n",
    "    # Creamos una matriz de tiempos de trabajo\n",
    "    tiempos = np.zeros((n_quirofanos, dias))\n",
    "    "
   ]
  }
 ],
 "metadata": {
  "kernelspec": {
   "display_name": "Python 3",
   "language": "python",
   "name": "python3"
  },
  "language_info": {
   "codemirror_mode": {
    "name": "ipython",
    "version": 3
   },
   "file_extension": ".py",
   "mimetype": "text/x-python",
   "name": "python",
   "nbconvert_exporter": "python",
   "pygments_lexer": "ipython3",
   "version": "3.11.0"
  },
  "orig_nbformat": 4,
  "vscode": {
   "interpreter": {
    "hash": "c261aea317cc0286b3b3261fbba9abdec21eaa57589985bb7a274bf54d6cc0a7"
   }
  }
 },
 "nbformat": 4,
 "nbformat_minor": 2
}
