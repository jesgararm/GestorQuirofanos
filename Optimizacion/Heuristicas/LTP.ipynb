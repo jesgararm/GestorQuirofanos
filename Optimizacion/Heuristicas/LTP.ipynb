{
 "cells": [
  {
   "attachments": {},
   "cell_type": "markdown",
   "metadata": {},
   "source": [
    "## Trabajo Fin de Grado\n",
    "### Gestor de Quirófanos\n",
    "### Implementación de Heurística LPT+ para asignación de quirófanos\n",
    "\n",
    "#### Autor: Jesús García Armario"
   ]
  },
  {
   "cell_type": "code",
   "execution_count": 27,
   "metadata": {},
   "outputs": [],
   "source": [
    "# Imports\n",
    "import numpy as np\n",
    "import pandas as pd\n",
    "from Utils import ActoQuirurgico, Quirofano"
   ]
  },
  {
   "cell_type": "code",
   "execution_count": 28,
   "metadata": {},
   "outputs": [],
   "source": [
    "# Importamos el listado preprocesado de una especialidad para las pruebas\n",
    "filename = '..\\\\..\\\\Datos\\\\Listados_Preprocesados\\\\ListadoInterv_Preprocesado_MAXILOFACIAL.xlsx'\n",
    "df = pd.read_excel(filename)"
   ]
  },
  {
   "cell_type": "code",
   "execution_count": 29,
   "metadata": {},
   "outputs": [],
   "source": [
    "# Seleccionamos una muestra aleatoria de 100 pacientes\n",
    "df = df.sample(n=100, random_state=1)\n",
    "# Nos quedamos sólo con el NHC, Ponderación y duración\n",
    "df = df[['NHC', 'PONDERACIÓN', 'DURACIÓN']]"
   ]
  },
  {
   "cell_type": "code",
   "execution_count": 30,
   "metadata": {},
   "outputs": [],
   "source": [
    "# Creamos un set de actos quirúrgicos\n",
    "actos_pendientes = set()\n",
    "i = 0\n",
    "for elemento in df.itertuples():\n",
    "    actos_pendientes.add(ActoQuirurgico(i, elemento[2], elemento[0], elemento[1]))\n",
    "    i += 1\n"
   ]
  },
  {
   "cell_type": "code",
   "execution_count": 31,
   "metadata": {},
   "outputs": [
    {
     "name": "stdout",
     "output_type": "stream",
     "text": [
      "Número de actos quirúrgicos:  100\n",
      "Número de actos quirúrgicos:  90\n",
      "Pacientes ordenados por prioridad y duración: \n",
      "Paciente:  2691  Prioridad:  3574487  Duración:  57\n",
      "Paciente:  2750  Prioridad:  3588910  Duración:  35\n",
      "Paciente:  2564  Prioridad:  3537939  Duración:  0\n",
      "Paciente:  2698  Prioridad:  3575060  Duración:  0\n",
      "Paciente:  2664  Prioridad:  3567265  Duración:  0\n",
      "Paciente:  2563  Prioridad:  3537080  Duración:  0\n",
      "Paciente:  2635  Prioridad:  3560457  Duración:  0\n",
      "Paciente:  2805  Prioridad:  3600500  Duración:  0\n",
      "Paciente:  2823  Prioridad:  3604122  Duración:  0\n",
      "Paciente:  2738  Prioridad:  3585618  Duración:  0\n",
      "Paciente:  2115  Prioridad:  3312452  Duración:  115\n",
      "Paciente:  2135  Prioridad:  3324062  Duración:  68\n",
      "Paciente:  2284  Prioridad:  3409369  Duración:  29\n",
      "Paciente:  2542  Prioridad:  3529956  Duración:  28\n",
      "Paciente:  2290  Prioridad:  3412840  Duración:  15\n",
      "Paciente:  2226  Prioridad:  3380120  Duración:  0\n",
      "Paciente:  2387  Prioridad:  3459096  Duración:  0\n",
      "Paciente:  2196  Prioridad:  3364452  Duración:  0\n",
      "Paciente:  2411  Prioridad:  3469311  Duración:  0\n",
      "Paciente:  2161  Prioridad:  3344514  Duración:  0\n",
      "Paciente:  1946  Prioridad:  3178140  Duración:  133\n",
      "Paciente:  1934  Prioridad:  3168931  Duración:  119\n",
      "Paciente:  2001  Prioridad:  3218713  Duración:  62\n",
      "Paciente:  2039  Prioridad:  3259100  Duración:  10\n",
      "Paciente:  1943  Prioridad:  3176121  Duración:  0\n",
      "Paciente:  2064  Prioridad:  3275402  Duración:  0\n",
      "Paciente:  1911  Prioridad:  3135426  Duración:  0\n",
      "Paciente:  2065  Prioridad:  3276331  Duración:  0\n",
      "Paciente:  2073  Prioridad:  3281737  Duración:  0\n",
      "Paciente:  2068  Prioridad:  3278849  Duración:  0\n",
      "Paciente:  1716  Prioridad:  2521547  Duración:  107\n",
      "Paciente:  1723  Prioridad:  2531492  Duración:  0\n",
      "Paciente:  1652  Prioridad:  2460517  Duración:  0\n",
      "Paciente:  1668  Prioridad:  2473712  Duración:  0\n",
      "Paciente:  1663  Prioridad:  2467906  Duración:  0\n",
      "Paciente:  1816  Prioridad:  3003861  Duración:  0\n",
      "Paciente:  1777  Prioridad:  2585643  Duración:  0\n",
      "Paciente:  1644  Prioridad:  2452007  Duración:  0\n",
      "Paciente:  1613  Prioridad:  2422655  Duración:  0\n",
      "Paciente:  1695  Prioridad:  2504330  Duración:  0\n",
      "Paciente:  1490  Prioridad:  2306732  Duración:  103\n",
      "Paciente:  1144  Prioridad:  1997000  Duración:  85\n",
      "Paciente:  1448  Prioridad:  2277999  Duración:  39\n",
      "Paciente:  1596  Prioridad:  2402957  Duración:  11\n",
      "Paciente:  1467  Prioridad:  2287003  Duración:  0\n",
      "Paciente:  1149  Prioridad:  2003709  Duración:  0\n",
      "Paciente:  1218  Prioridad:  2065341  Duración:  0\n",
      "Paciente:  1151  Prioridad:  2005091  Duración:  0\n",
      "Paciente:  1273  Prioridad:  2114544  Duración:  0\n",
      "Paciente:  1477  Prioridad:  2294388  Duración:  0\n",
      "Paciente:  961  Prioridad:  1861475  Duración:  91\n",
      "Paciente:  1051  Prioridad:  1928486  Duración:  0\n",
      "Paciente:  1073  Prioridad:  1941744  Duración:  0\n",
      "Paciente:  1016  Prioridad:  1898845  Duración:  0\n",
      "Paciente:  933  Prioridad:  1837556  Duración:  0\n",
      "Paciente:  1080  Prioridad:  1947228  Duración:  0\n",
      "Paciente:  987  Prioridad:  1878521  Duración:  0\n",
      "Paciente:  1032  Prioridad:  1916354  Duración:  0\n",
      "Paciente:  1100  Prioridad:  1961437  Duración:  0\n",
      "Paciente:  994  Prioridad:  1884561  Duración:  0\n",
      "Paciente:  783  Prioridad:  1717935  Duración:  156\n",
      "Paciente:  896  Prioridad:  1800024  Duración:  0\n",
      "Paciente:  829  Prioridad:  1752250  Duración:  0\n",
      "Paciente:  713  Prioridad:  1650490  Duración:  0\n",
      "Paciente:  589  Prioridad:  1531109  Duración:  0\n",
      "Paciente:  876  Prioridad:  1785432  Duración:  0\n",
      "Paciente:  598  Prioridad:  1537053  Duración:  0\n",
      "Paciente:  921  Prioridad:  1826659  Duración:  0\n",
      "Paciente:  771  Prioridad:  1705664  Duración:  0\n",
      "Paciente:  899  Prioridad:  1805429  Duración:  0\n",
      "Paciente:  351  Prioridad:  1331852  Duración:  118\n",
      "Paciente:  442  Prioridad:  1414772  Duración:  12\n",
      "Paciente:  486  Prioridad:  1455315  Duración:  0\n",
      "Paciente:  368  Prioridad:  1346295  Duración:  0\n",
      "Paciente:  340  Prioridad:  1321447  Duración:  0\n",
      "Paciente:  255  Prioridad:  1238862  Duración:  0\n",
      "Paciente:  517  Prioridad:  1470424  Duración:  0\n",
      "Paciente:  349  Prioridad:  1330791  Duración:  0\n",
      "Paciente:  540  Prioridad:  1492068  Duración:  0\n",
      "Paciente:  535  Prioridad:  1487473  Duración:  0\n",
      "Paciente:  75  Prioridad:  1063308  Duración:  21\n",
      "Paciente:  171  Prioridad:  1171549  Duración:  20\n",
      "Paciente:  7  Prioridad:  1009272  Duración:  0\n",
      "Paciente:  126  Prioridad:  1128482  Duración:  0\n",
      "Paciente:  13  Prioridad:  1014614  Duración:  0\n",
      "Paciente:  45  Prioridad:  1040004  Duración:  0\n",
      "Paciente:  28  Prioridad:  1026280  Duración:  0\n",
      "Paciente:  161  Prioridad:  1164872  Duración:  0\n",
      "Paciente:  3  Prioridad:  1002833  Duración:  0\n",
      "Paciente:  205  Prioridad:  1202481  Duración:  0\n"
     ]
    }
   ],
   "source": [
    "print (\"Número de actos quirúrgicos: \", len(actos_pendientes))\n",
    "def ordenaPacientes(actos_pendientes : set):\n",
    "    # Calculamos los deciles de la ponderación\n",
    "    deciles = np.percentile([acto.getPrioridad() for acto in actos_pendientes], np.arange(0, 100, 10))\n",
    "    # Creamos un diccionario con los deciles y los pacientes que pertenecen a cada uno\n",
    "    diccionario = {}\n",
    "    for i in range(0, len(deciles)-1):\n",
    "        diccionario[i] = set()\n",
    "    for acto in actos_pendientes:\n",
    "        for i in range(0, len(deciles)-1):\n",
    "            if acto.getPrioridad() >= deciles[i] and acto.getPrioridad() < deciles[i+1]:\n",
    "                diccionario[i].add(acto)\n",
    "                break\n",
    "    # Ordenamos los pacientes de cada decil por duración de mayor a menor\n",
    "    for i in range(0, len(deciles)-1):\n",
    "        diccionario[i] = sorted(diccionario[i], key=lambda acto: acto.getDuracion(), reverse=True)\n",
    "    # Creamos una lista con los pacientes ordenados de mayor decil a menor\n",
    "    actos_pendientes = []\n",
    "    for i in range(len(diccionario)-1, -1, -1):\n",
    "        actos_pendientes += diccionario[i]\n",
    "    return actos_pendientes\n",
    "\n",
    "actos_pendientes = ordenaPacientes(actos_pendientes)\n",
    "print (\"Número de actos quirúrgicos: \", len(actos_pendientes))\n",
    "print(\"Pacientes ordenados por prioridad y duración: \")\n",
    "for acto in actos_pendientes:\n",
    "    print(\"Paciente: \", acto.getIdPaciente(), \" Prioridad: \", acto.getPrioridad(), \" Duración: \", acto.getDuracion())\n"
   ]
  },
  {
   "cell_type": "code",
   "execution_count": 32,
   "metadata": {},
   "outputs": [],
   "source": [
    "# Función que asigna un acto quirúrgico a un quirófano siguiendo el criterio LTP\n",
    "def LTP(actos_pendientes, n_quirofanos, dias, tiempo):\n",
    "    # Primero ordenamos los actos quirúrgicos por duración y prioridad\n",
    "    actos_pendientes = ordenaPacientes(actos_pendientes)\n",
    "    # Creamos una lista de quirófanos, cada uno con su día y tiempo de trabajo\n",
    "    quirofanos = [n_quirofanos][dias]\n",
    "    for i in range(n_quirofanos):\n",
    "        for j in range(dias):\n",
    "            quirofanos[i][j] = Quirofano(i, j, tiempo)\n",
    "    # Creamos una matriz de tiempos de trabajo\n",
    "    tiempos = np.zeros((n_quirofanos, dias))"
   ]
  }
 ],
 "metadata": {
  "kernelspec": {
   "display_name": "Python 3",
   "language": "python",
   "name": "python3"
  },
  "language_info": {
   "codemirror_mode": {
    "name": "ipython",
    "version": 3
   },
   "file_extension": ".py",
   "mimetype": "text/x-python",
   "name": "python",
   "nbconvert_exporter": "python",
   "pygments_lexer": "ipython3",
   "version": "3.9.13"
  },
  "orig_nbformat": 4,
  "vscode": {
   "interpreter": {
    "hash": "c261aea317cc0286b3b3261fbba9abdec21eaa57589985bb7a274bf54d6cc0a7"
   }
  }
 },
 "nbformat": 4,
 "nbformat_minor": 2
}
