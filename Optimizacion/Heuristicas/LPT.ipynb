{
 "cells": [
  {
   "attachments": {},
   "cell_type": "markdown",
   "metadata": {},
   "source": [
    "## Trabajo Fin de Grado\n",
    "### Gestor de Quirófanos\n",
    "### Implementación de Heurísticas LPT+ y EDD+ para asignación de quirófanos\n",
    "\n",
    "#### Autor: Jesús García Armario"
   ]
  },
  {
   "cell_type": "code",
   "execution_count": 1,
   "metadata": {
    "ExecuteTime": {
     "end_time": "2023-05-10T21:54:00.064543Z",
     "start_time": "2023-05-10T21:53:59.988475Z"
    }
   },
   "outputs": [],
   "source": [
    "# Imports\n",
    "import numpy as np\n",
    "import pandas as pd\n",
    "from Utils import ActoQuirurgico, Quirofano, Heuristicas\n",
    "import matplotlib.pyplot as plt\n",
    "import math"
   ]
  },
  {
   "cell_type": "code",
   "execution_count": 2,
   "metadata": {
    "ExecuteTime": {
     "end_time": "2023-05-10T21:54:00.344772Z",
     "start_time": "2023-05-10T21:54:00.012777Z"
    }
   },
   "outputs": [],
   "source": [
    "# Importamos el listado preprocesado de una especialidad para las pruebas\n",
    "filename = '..\\\\..\\\\Datos\\\\Listados_Preprocesados\\\\ListadoInterv_Preprocesado_MAXILOFACIAL.xlsx'\n",
    "df = pd.read_excel(filename)"
   ]
  },
  {
   "cell_type": "code",
   "execution_count": 3,
   "metadata": {
    "ExecuteTime": {
     "end_time": "2023-05-10T21:54:00.362414Z",
     "start_time": "2023-05-10T21:54:00.350520Z"
    }
   },
   "outputs": [],
   "source": [
    "# Seleccionamos una muestra aleatoria de 100 pacientes\n",
    "df = df.sample(n=100, random_state=1)\n",
    "# Nos quedamos sólo con el NHC, Ponderación y duración\n",
    "df = df[['NHC', 'PONDERACIÓN', 'DURACIÓN']]\n",
    "df['DURACIÓN'] = df['DURACIÓN'] + 25\n",
    "df['DURACIÓN'] = df['DURACIÓN'].apply(lambda x: math.ceil(x/30))"
   ]
  },
  {
   "cell_type": "code",
   "execution_count": 4,
   "metadata": {
    "ExecuteTime": {
     "end_time": "2023-05-10T21:54:00.407163Z",
     "start_time": "2023-05-10T21:54:00.362414Z"
    }
   },
   "outputs": [],
   "source": [
    "# Creamos un set de actos quirúrgicos\n",
    "actos_pendientes = list()\n",
    "i = 0\n",
    "for elemento in df.itertuples():\n",
    "    actos_pendientes.append(ActoQuirurgico(i, elemento[3], elemento[1], elemento[2]))\n",
    "    i += 1\n"
   ]
  },
  {
   "cell_type": "code",
   "execution_count": 5,
   "metadata": {},
   "outputs": [],
   "source": [
    "modelo = Heuristicas(actos_pendientes, 3,5,16)\n",
    "asignacion_LPT, actos_pendientes_LPT = modelo.ejecutaHeuristica(\"LPT\")"
   ]
  },
  {
   "cell_type": "code",
   "execution_count": 6,
   "metadata": {},
   "outputs": [
    {
     "name": "stdout",
     "output_type": "stream",
     "text": [
      "Numero de actos quirúrgicos sin asignar:  51\n",
      "Tiempo de trabajo de cada quirófano:  [11, 11, 10, 10, 10, 10, 10, 10, 10, 10, 12, 10, 10, 10, 10]\n",
      "Tiempo total de trabajo:  154\n",
      "Tiempo medio de trabajo:  10.266666666666667\n",
      "Tiempo libre de cada quirófano:  [5, 5, 6, 6, 6, 6, 6, 6, 6, 6, 4, 6, 6, 6, 6]\n",
      "Tiempo libre total:  86\n",
      "Suma de prioridades:  847\n"
     ]
    }
   ],
   "source": [
    "print(\"Numero de actos quirúrgicos sin asignar: \", len(actos_pendientes_LPT))\n",
    "# Obtenemos el tiempo de trabajo de cada quirófano\n",
    "tiempos = []\n",
    "for i in range(len(asignacion_LPT)):\n",
    "    for j in range(len(asignacion_LPT[i])):\n",
    "        tiempos.append(asignacion_LPT[i][j].getTiempoOcupado())\n",
    "print(\"Tiempo de trabajo de cada quirófano: \", tiempos)\n",
    "print(\"Tiempo total de trabajo: \", sum(tiempos))\n",
    "print(\"Tiempo medio de trabajo: \", sum(tiempos)/len(tiempos))\n",
    "print(\"Tiempo libre de cada quirófano: \", [quir.getTiempoLibre() for quirofano in asignacion_LPT for quir in quirofano])\n",
    "print(\"Tiempo libre total: \", sum([quir.getTiempoLibre() for quirofano in asignacion_LPT for quir in quirofano]))\n",
    "print(\"Suma de prioridades: \", sum([acto.getPrioridad() for quirofano in asignacion_LPT for quir in quirofano for acto in quir.getActos()]))"
   ]
  },
  {
   "cell_type": "code",
   "execution_count": 8,
   "metadata": {},
   "outputs": [
    {
     "name": "stdout",
     "output_type": "stream",
     "text": [
      "Numero de actos quirúrgicos sin asignar:  51\n",
      "Tiempo de trabajo de cada quirófano:  [9, 9, 15, 9, 10, 13, 8, 9, 13, 7, 10, 8, 7, 11, 7]\n",
      "Tiempo total de trabajo:  145\n",
      "Tiempo medio de trabajo:  9.666666666666666\n",
      "Tiempo libre de cada quirófano:  [7, 7, 1, 7, 6, 3, 8, 7, 3, 9, 6, 8, 9, 5, 9]\n",
      "Tiempo libre total:  95\n",
      "Suma de prioridades:  760\n"
     ]
    }
   ],
   "source": [
    "asignacion_LPTEDD, actos_pendientes_LPTEDD = modelo.ejecutaHeuristica(\"LPTEDD\")\n",
    "print(\"Numero de actos quirúrgicos sin asignar: \", len(actos_pendientes_LPTEDD))\n",
    "# Obtenemos el tiempo de trabajo de cada quirófano\n",
    "tiempos = []\n",
    "for i in range(len(asignacion_LPTEDD)):\n",
    "    for j in range(len(asignacion_LPTEDD[i])):\n",
    "        tiempos.append(asignacion_LPTEDD[i][j].getTiempoOcupado())\n",
    "print(\"Tiempo de trabajo de cada quirófano: \", tiempos)\n",
    "print(\"Tiempo total de trabajo: \", sum(tiempos))\n",
    "print(\"Tiempo medio de trabajo: \", sum(tiempos)/len(tiempos))\n",
    "print(\"Tiempo libre de cada quirófano: \", [quir.getTiempoLibre() for quirofano in asignacion_LPTEDD for quir in quirofano])\n",
    "print(\"Tiempo libre total: \", sum([quir.getTiempoLibre() for quirofano in asignacion_LPTEDD for quir in quirofano]))\n",
    "print(\"Suma de prioridades: \", sum([acto.getPrioridad() for quirofano in asignacion_LPTEDD for quir in quirofano for acto in quir.getActos()]))"
   ]
  },
  {
   "cell_type": "code",
   "execution_count": 9,
   "metadata": {
    "ExecuteTime": {
     "end_time": "2023-05-10T21:54:00.871618Z",
     "start_time": "2023-05-10T21:54:00.507515Z"
    },
    "collapsed": false
   },
   "outputs": [
    {
     "data": {
      "image/png": "[encoded data removed]",
      "text/plain": [
       "<Figure size 432x288 with 1 Axes>"
      ]
     },
     "metadata": {
      "needs_background": "light"
     },
     "output_type": "display_data"
    }
   ],
   "source": [
    "# Representamos gráficamente la asignación de actos quirúrgicos a quirófanos\n",
    "# Función que representa gráficamente la asignación de actos quirúrgicos a quirófanos\n",
    "def representacionAsignacion(asignacion):\n",
    "    # Creamos una lista de colores\n",
    "    colores = ['b', 'g', 'r', 'c', 'm', 'y', 'k', 'w']\n",
    "    # Creamos una lista de días\n",
    "    dias = ['Lunes', 'Martes', 'Miércoles', 'Jueves', 'Viernes']\n",
    "    # Creamos una lista de quirófanos a partir de la primera dimensión de la asignación\n",
    "    quirofanos = [i for i in range(len(asignacion))]\n",
    "    # Creamos un diccionario de días a partir de la segunda dimensión de la asignación\n",
    "    dias_dict = {i: dias[i] for i in range(len(asignacion[0]))}\n",
    "    # Accedemos a cada quirófano\n",
    "    for i in range(len(asignacion)):\n",
    "        # Accedemos a cada día\n",
    "        for j in range(len(asignacion[i])):\n",
    "            # Accedemos a cada acto quirúrgico\n",
    "            for acto in asignacion[i][j].getActos():\n",
    "                # Representamos el acto quirúrgico\n",
    "                plt.barh((i+1)*10, acto.getDuracion(), left=j*100, color=colores[acto.getPrioridad()%7])\n",
    "                # Añadimos el nombre del acto quirúrgico dentro de la barra\n",
    "                plt.text(j*100+acto.getDuracion()/2, (i+1)*10+1, acto.getIdPaciente(), ha='center', va='bottom')\n",
    "    # Añadimos el título\n",
    "    plt.title('Asignación de actos quirúrgicos a quirófanos')\n",
    "    # Añadimos el nombre de los ejes\n",
    "    plt.xlabel('Días')\n",
    "    plt.ylabel('Quirófanos')\n",
    "    # Añadimos los ticks de los ejes\n",
    "    plt.xticks([i*100+50 for i in range(len(dias))], dias)\n",
    "    plt.yticks([i*10+5 for i in range(len(quirofanos))], quirofanos)\n",
    "    # Mostramos la gráfica\n",
    "    plt.show()\n",
    "\n",
    "representacionAsignacion(asignacion_LPTEDD)\n"
   ]
  },
  {
   "cell_type": "code",
   "execution_count": null,
   "metadata": {},
   "outputs": [],
   "source": []
  }
 ],
 "metadata": {
  "kernelspec": {
   "display_name": "Python 3",
   "language": "python",
   "name": "python3"
  },
  "language_info": {
   "codemirror_mode": {
    "name": "ipython",
    "version": 3
   },
   "file_extension": ".py",
   "mimetype": "text/x-python",
   "name": "python",
   "nbconvert_exporter": "python",
   "pygments_lexer": "ipython3",
   "version": "3.8.8"
  },
  "orig_nbformat": 4,
  "vscode": {
   "interpreter": {
    "hash": "c261aea317cc0286b3b3261fbba9abdec21eaa57589985bb7a274bf54d6cc0a7"
   }
  }
 },
 "nbformat": 4,
 "nbformat_minor": 2
}
