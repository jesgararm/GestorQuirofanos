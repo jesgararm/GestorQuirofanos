{
 "cells": [
  {
   "attachments": {},
   "cell_type": "markdown",
   "metadata": {},
   "source": [
    "## Trabajo Fin de Grado\n",
    "### Gestor de Quirófanos\n",
    "### Implementación de Heurísticas LPT+ y EDD+ para asignación de quirófanos\n",
    "\n",
    "#### Autor: Jesús García Armario"
   ]
  },
  {
   "cell_type": "code",
   "execution_count": 45,
   "metadata": {
    "ExecuteTime": {
     "end_time": "2023-05-10T21:54:00.064543Z",
     "start_time": "2023-05-10T21:53:59.988475Z"
    }
   },
   "outputs": [],
   "source": [
    "# Imports\n",
    "import numpy as np\n",
    "import pandas as pd\n",
    "from Utils import ActoQuirurgico, Quirofano\n",
    "import matplotlib.pyplot as plt"
   ]
  },
  {
   "cell_type": "code",
   "execution_count": 46,
   "metadata": {
    "ExecuteTime": {
     "end_time": "2023-05-10T21:54:00.344772Z",
     "start_time": "2023-05-10T21:54:00.012777Z"
    }
   },
   "outputs": [],
   "source": [
    "# Importamos el listado preprocesado de una especialidad para las pruebas\n",
    "filename = '..\\\\..\\\\Datos\\\\Listados_Preprocesados\\\\ListadoInterv_Preprocesado_MAXILOFACIAL.xlsx'\n",
    "df = pd.read_excel(filename)"
   ]
  },
  {
   "cell_type": "code",
   "execution_count": 47,
   "metadata": {
    "ExecuteTime": {
     "end_time": "2023-05-10T21:54:00.362414Z",
     "start_time": "2023-05-10T21:54:00.350520Z"
    }
   },
   "outputs": [],
   "source": [
    "# Seleccionamos una muestra aleatoria de 100 pacientes\n",
    "df = df.sample(n=100, random_state=1)\n",
    "# Nos quedamos sólo con el NHC, Ponderación y duración\n",
    "df = df[['NHC', 'PONDERACIÓN', 'DURACIÓN']]"
   ]
  },
  {
   "cell_type": "code",
   "execution_count": 48,
   "metadata": {
    "ExecuteTime": {
     "end_time": "2023-05-10T21:54:00.407163Z",
     "start_time": "2023-05-10T21:54:00.362414Z"
    }
   },
   "outputs": [],
   "source": [
    "# Creamos un set de actos quirúrgicos\n",
    "actos_pendientes = list()\n",
    "i = 0\n",
    "for elemento in df.itertuples():\n",
    "    actos_pendientes.add(ActoQuirurgico(i, elemento[3], elemento[1], elemento[2]))\n",
    "    i += 1\n"
   ]
  },
  {
   "cell_type": "code",
   "execution_count": 49,
   "metadata": {
    "ExecuteTime": {
     "end_time": "2023-05-10T21:54:00.408235Z",
     "start_time": "2023-05-10T21:54:00.381238Z"
    }
   },
   "outputs": [],
   "source": [
    "# División protegida\n",
    "def protectedDivision(dividend, divisor):\n",
    "    if divisor == 0:\n",
    "        return dividend\n",
    "    else:\n",
    "        return dividend / divisor"
   ]
  },
  {
   "cell_type": "code",
   "execution_count": 50,
   "metadata": {
    "ExecuteTime": {
     "end_time": "2023-05-10T21:54:00.408731Z",
     "start_time": "2023-05-10T21:54:00.393085Z"
    }
   },
   "outputs": [
    {
     "name": "stdout",
     "output_type": "stream",
     "text": [
      "Número de actos quirúrgicos:  100\n"
     ]
    }
   ],
   "source": [
    "print (\"Número de actos quirúrgicos: \", len(actos_pendientes))\n",
    "def ordenaPacientesLPT(actos_pendientes : list):\n",
    "    # Calculamos los deciles de la ponderación\n",
    "    deciles = np.percentile([acto.getPrioridad() for acto in actos_pendientes], np.arange(0, 100, 10))\n",
    "    # Creamos un diccionario con los deciles y los pacientes que pertenecen a cada uno\n",
    "    diccionario = {}\n",
    "    for i in range(len(deciles)):\n",
    "        diccionario[i] = set()\n",
    "    for acto in actos_pendientes:\n",
    "        for i in range(len(deciles)-1):\n",
    "            if acto.getPrioridad() >= deciles[i] and acto.getPrioridad() < deciles[i+1]:\n",
    "                diccionario[i].add(acto)\n",
    "                break\n",
    "            # Si estamos en el último decil, incluimos todos los pacientes que tengan una ponderación mayor o igual\n",
    "            # al último decil\n",
    "            if i == len(deciles)-2:\n",
    "                diccionario[i+1].add(acto)\n",
    "                break\n",
    "    # Ordenamos los pacientes de cada decil por duración de mayor a menor\n",
    "    for i in range(len(deciles)):\n",
    "        diccionario[i] = sorted(diccionario[i], key=lambda acto: acto.getDuracion(), reverse=True)\n",
    "    # Creamos una lista con los pacientes ordenados de mayor decil a menor\n",
    "    actos_ordenados = []\n",
    "    for i in range(len(diccionario)-1, -1, -1):\n",
    "        actos_ordenados += diccionario[i]\n",
    "    return actos_ordenados\n",
    "\n",
    "def ordenaPacientesLPTEDD(actos_pendientes : set):\n",
    "    actos_ordenados = sorted(actos_pendientes, key=lambda acto: protectedDivision(acto.getPrioridad(), acto.getDuracion()), reverse=True)\n",
    "    return actos_ordenados\n"
   ]
  },
  {
   "cell_type": "code",
   "execution_count": 51,
   "metadata": {
    "ExecuteTime": {
     "end_time": "2023-05-10T21:54:00.432126Z",
     "start_time": "2023-05-10T21:54:00.416399Z"
    }
   },
   "outputs": [],
   "source": [
    "# Función que asigna un acto quirúrgico a un quirófano siguiendo el criterio LPT\n",
    "def LPT(actos_pendientes, n_quirofanos, dias, tiempo):\n",
    "    # Realizamos una copia de la lista de actos pendientes\n",
    "    actos_pendientes = actos_pendientes.copy()\n",
    "    # Primero ordenamos los actos quirúrgicos por duración y prioridad\n",
    "    actos_pendientes = ordenaPacientesLPT(actos_pendientes)\n",
    "    # Creamos una lista de quirófanos, cada uno con su día y tiempo de trabajo\n",
    "    quirofanos = []\n",
    "    for i in range(n_quirofanos):\n",
    "        quirofanos.append([])\n",
    "        for j in range(dias):\n",
    "            quirofanos[i].append(Quirofano(i, j,tiempo))\n",
    "    # Creamos una matriz de tiempos de trabajo\n",
    "    tiempos = np.zeros((n_quirofanos, dias))\n",
    "    # Asignamos a cada posición el tiempo de trabajo de cada quirófano\n",
    "    for i in range(n_quirofanos):\n",
    "        for j in range(dias):\n",
    "            tiempos[i][j] = quirofanos[i][j].getTiempoLibre()\n",
    "    # Asignamos los actos quirúrgicos\n",
    "    for acto in actos_pendientes:\n",
    "        # Buscamos el quirófano que tiene más tiempo disponible\n",
    "        maximo = np.max(tiempos)\n",
    "        if maximo < acto.getDuracion():\n",
    "            # Si el tiempo disponible es menor que la duración del acto, no se puede asignar\n",
    "            continue\n",
    "        # Buscamos el índice del quirófano que más tiempo disponible tiene\n",
    "        # En caso de que haya más de uno, nos quedamos con el primero\n",
    "        maximo_index = np.where(tiempos == maximo)\n",
    "        maximo_index = (maximo_index[0][0], maximo_index[1][0])\n",
    "        # Asignamos el acto quirúrgico al quirófano que menos tiempo tiene asignado\n",
    "        quirofanos[maximo_index[0]][maximo_index[1]].addActo(acto)\n",
    "        # Actualizamos el tiempo disponible del quirófano\n",
    "        tiempos[maximo_index[0]][maximo_index[1]] -= acto.getDuracion()\n",
    "        # Eliminamos el acto quirúrgico de la lista de actos pendientes\n",
    "        actos_pendientes.remove(acto)\n",
    "    return quirofanos, actos_pendientes"
   ]
  },
  {
   "cell_type": "code",
   "execution_count": 52,
   "metadata": {
    "ExecuteTime": {
     "end_time": "2023-05-10T21:54:00.539317Z",
     "start_time": "2023-05-10T21:54:00.433771Z"
    }
   },
   "outputs": [
    {
     "name": "stdout",
     "output_type": "stream",
     "text": [
      "Numero de actos quirúrgicos sin asignar:  51\n",
      "Tiempo de trabajo de cada quirófano:  [403, 402, 408, 407, 407, 405, 402, 404, 407, 404]\n",
      "Tiempo total de trabajo:  4049\n",
      "Tiempo medio de trabajo:  404.9\n",
      "Tiempo libre de cada quirófano:  [17, 18, 12, 13, 13, 15, 18, 16, 13, 16]\n",
      "Tiempo libre total:  151\n",
      "Suma de prioridades:  842\n"
     ]
    }
   ],
   "source": [
    "asignacion_LPT, actos_pendientes_LPT = LPT(actos_pendientes, 2, 5, 420)\n",
    "print(\"Numero de actos quirúrgicos sin asignar: \", len(actos_pendientes_LPT))\n",
    "# Obtenemos el tiempo de trabajo de cada quirófano\n",
    "tiempos = []\n",
    "for i in range(len(asignacion_LPT)):\n",
    "    for j in range(len(asignacion_LPT[i])):\n",
    "        tiempos.append(asignacion_LPT[i][j].getTiempoOcupado())\n",
    "print(\"Tiempo de trabajo de cada quirófano: \", tiempos)\n",
    "print(\"Tiempo total de trabajo: \", sum(tiempos))\n",
    "print(\"Tiempo medio de trabajo: \", sum(tiempos)/len(tiempos))\n",
    "print(\"Tiempo libre de cada quirófano: \", [quir.getTiempoLibre() for quirofano in asignacion_LPT for quir in quirofano])\n",
    "print(\"Tiempo libre total: \", sum([quir.getTiempoLibre() for quirofano in asignacion_LPT for quir in quirofano]))\n",
    "print(\"Suma de prioridades: \", sum([acto.getPrioridad() for quirofano in asignacion_LPT for quir in quirofano for acto in quir.getActos()]))"
   ]
  },
  {
   "cell_type": "code",
   "execution_count": 53,
   "metadata": {
    "ExecuteTime": {
     "end_time": "2023-05-10T21:54:00.539808Z",
     "start_time": "2023-05-10T21:54:00.463766Z"
    }
   },
   "outputs": [],
   "source": [
    "# Función que asigna un acto quirúrgico a un quirófano siguiendo el criterio LPT y EDD\n",
    "def LPTandEDD(actos_pendientes, n_quirofanos, dias, tiempo):\n",
    "    # Primero ordenamos los actos quirúrgicos por duración y prioridad\n",
    "    actos_pendientes = ordenaPacientesLPTEDD(actos_pendientes)\n",
    "    # Creamos una lista de quirófanos, cada uno con su día y tiempo de trabajo\n",
    "    quirofanos = []\n",
    "    for i in range(n_quirofanos):\n",
    "        quirofanos.append([])\n",
    "        for j in range(dias):\n",
    "            quirofanos[i].append(Quirofano(i, j,tiempo))\n",
    "    # Creamos una matriz de tiempos de trabajo\n",
    "    tiempos = np.zeros((n_quirofanos, dias))\n",
    "    # Asignamos a cada posición el tiempo de trabajo de cada quirófano\n",
    "    for i in range(n_quirofanos):\n",
    "        for j in range(dias):\n",
    "            tiempos[i][j] = quirofanos[i][j].getTiempoLibre()\n",
    "    # Asignamos los actos quirúrgicos\n",
    "    for acto in actos_pendientes:\n",
    "        # Buscamos el quirófano que tiene más tiempo disponible\n",
    "        maximo = np.max(tiempos)\n",
    "        if maximo < acto.getDuracion():\n",
    "            # Si el tiempo disponible es menor que la duración del acto, no se puede asignar\n",
    "            continue\n",
    "        # Buscamos el índice del quirófano que más tiempo disponible tiene\n",
    "        # En caso de que haya más de uno, nos quedamos con el primero\n",
    "        maximo_index = np.where(tiempos == maximo)\n",
    "        maximo_index = (maximo_index[0][0], maximo_index[1][0])\n",
    "        # Asignamos el acto quirúrgico al quirófano que menos tiempo tiene asignado\n",
    "        quirofanos[maximo_index[0]][maximo_index[1]].addActo(acto)\n",
    "        # Actualizamos el tiempo disponible del quirófano\n",
    "        tiempos[maximo_index[0]][maximo_index[1]] -= acto.getDuracion()\n",
    "        # Eliminamos el acto quirúrgico de la lista de actos pendientes\n",
    "        actos_pendientes.remove(acto)\n",
    "    return quirofanos, actos_pendientes"
   ]
  },
  {
   "cell_type": "code",
   "execution_count": 54,
   "metadata": {
    "ExecuteTime": {
     "end_time": "2023-05-10T21:54:00.573881Z",
     "start_time": "2023-05-10T21:54:00.478076Z"
    }
   },
   "outputs": [
    {
     "name": "stdout",
     "output_type": "stream",
     "text": [
      "Numero de actos quirúrgicos sin asignar:  51\n",
      "Tiempo de trabajo de cada quirófano:  [292, 283, 405, 332, 312, 340, 288, 288, 282, 410]\n",
      "Tiempo total de trabajo:  3232\n",
      "Tiempo medio de trabajo:  323.2\n",
      "Tiempo libre de cada quirófano:  [128, 137, 15, 88, 108, 80, 132, 132, 138, 10]\n",
      "Tiempo libre total:  968\n",
      "Suma de prioridades:  841\n"
     ]
    }
   ],
   "source": [
    "asignacion_LPTEDD, actos_pendientes_LPTEDD = LPTandEDD(actos_pendientes, 2, 5, 420)\n",
    "print(\"Numero de actos quirúrgicos sin asignar: \", len(actos_pendientes_LPTEDD))\n",
    "# Obtenemos el tiempo de trabajo de cada quirófano\n",
    "tiempos = []\n",
    "for i in range(len(asignacion_LPTEDD)):\n",
    "    for j in range(len(asignacion_LPTEDD[i])):\n",
    "        tiempos.append(asignacion_LPTEDD[i][j].getTiempoOcupado())\n",
    "print(\"Tiempo de trabajo de cada quirófano: \", tiempos)\n",
    "print(\"Tiempo total de trabajo: \", sum(tiempos))\n",
    "print(\"Tiempo medio de trabajo: \", sum(tiempos)/len(tiempos))\n",
    "print(\"Tiempo libre de cada quirófano: \", [quir.getTiempoLibre() for quirofano in asignacion_LPTEDD for quir in quirofano])\n",
    "print(\"Tiempo libre total: \", sum([quir.getTiempoLibre() for quirofano in asignacion_LPTEDD for quir in quirofano]))\n",
    "print(\"Suma de prioridades: \", sum([acto.getPrioridad() for quirofano in asignacion_LPTEDD for quir in quirofano for acto in quir.getActos()]))"
   ]
  },
  {
   "cell_type": "code",
   "execution_count": 55,
   "metadata": {
    "ExecuteTime": {
     "end_time": "2023-05-10T21:54:00.871618Z",
     "start_time": "2023-05-10T21:54:00.507515Z"
    },
    "collapsed": false
   },
   "outputs": [
    {
     "data": {
      "image/png": "[encoded data removed]",
      "text/plain": [
       "<Figure size 432x288 with 1 Axes>"
      ]
     },
     "metadata": {
      "needs_background": "light"
     },
     "output_type": "display_data"
    }
   ],
   "source": [
    "# Representamos gráficamente la asignación de actos quirúrgicos a quirófanos\n",
    "# Función que representa gráficamente la asignación de actos quirúrgicos a quirófanos\n",
    "def representacionAsignacion(asignacion):\n",
    "    # Creamos una lista de colores\n",
    "    colores = ['b', 'g', 'r', 'c', 'm', 'y', 'k', 'w']\n",
    "    # Creamos una lista de días\n",
    "    dias = ['Lunes', 'Martes', 'Miércoles', 'Jueves', 'Viernes']\n",
    "    # Creamos una lista de quirófanos a partir de la primera dimensión de la asignación\n",
    "    quirofanos = [i for i in range(len(asignacion))]\n",
    "    # Creamos un diccionario de días a partir de la segunda dimensión de la asignación\n",
    "    dias_dict = {i: dias[i] for i in range(len(asignacion[0]))}\n",
    "    # Accedemos a cada quirófano\n",
    "    for i in range(len(asignacion)):\n",
    "        # Accedemos a cada día\n",
    "        for j in range(len(asignacion[i])):\n",
    "            # Accedemos a cada acto quirúrgico\n",
    "            for acto in asignacion[i][j].getActos():\n",
    "                # Representamos el acto quirúrgico\n",
    "                plt.barh((i+1)*10, acto.getDuracion(), left=j*100, color=colores[acto.getPrioridad()%7])\n",
    "                # Añadimos el nombre del acto quirúrgico dentro de la barra\n",
    "                plt.text(j*100+acto.getDuracion()/2, (i+1)*10+1, acto.getIdPaciente(), ha='center', va='bottom')\n",
    "    # Añadimos el título\n",
    "    plt.title('Asignación de actos quirúrgicos a quirófanos')\n",
    "    # Añadimos el nombre de los ejes\n",
    "    plt.xlabel('Días')\n",
    "    plt.ylabel('Quirófanos')\n",
    "    # Añadimos los ticks de los ejes\n",
    "    plt.xticks([i*100+50 for i in range(len(dias))], dias)\n",
    "    plt.yticks([i*10+5 for i in range(len(quirofanos))], quirofanos)\n",
    "    # Mostramos la gráfica\n",
    "    plt.show()\n",
    "\n",
    "representacionAsignacion(asignacion_LPTEDD)\n"
   ]
  }
 ],
 "metadata": {
  "kernelspec": {
   "display_name": "Python 3",
   "language": "python",
   "name": "python3"
  },
  "language_info": {
   "codemirror_mode": {
    "name": "ipython",
    "version": 3
   },
   "file_extension": ".py",
   "mimetype": "text/x-python",
   "name": "python",
   "nbconvert_exporter": "python",
   "pygments_lexer": "ipython3",
   "version": "3.9.13"
  },
  "orig_nbformat": 4,
  "vscode": {
   "interpreter": {
    "hash": "c261aea317cc0286b3b3261fbba9abdec21eaa57589985bb7a274bf54d6cc0a7"
   }
  }
 },
 "nbformat": 4,
 "nbformat_minor": 2
}
