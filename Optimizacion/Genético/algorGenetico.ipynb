{
 "cells": [
  {
   "attachments": {},
   "cell_type": "markdown",
   "metadata": {},
   "source": [
    "## Trabajo Fin de Grado\n",
    "### Gestor de Quirófanos\n",
    "### Implementación de Algoritmo Genético para asignación de quirófanos\n",
    "\n",
    "#### Autor: Jesús García Armario"
   ]
  },
  {
   "cell_type": "code",
   "execution_count": 1,
   "metadata": {},
   "outputs": [],
   "source": [
    "# Imports necesarios\n",
    "import numpy as np\n",
    "import pandas as pd\n",
    "from deap import base, creator, tools, algorithms\n",
    "import sys\n",
    "sys.path.append('../')\n",
    "from Heuristicas.Utils import Quirofano, ActoQuirurgico\n",
    "import random\n",
    "import math\n",
    "import matplotlib.pyplot as plt"
   ]
  },
  {
   "cell_type": "code",
   "execution_count": 2,
   "metadata": {},
   "outputs": [],
   "source": [
    "# Importamos el listado preprocesado de una especialidad para las pruebas\n",
    "filename = '..\\\\..\\\\Datos\\\\Listados_Preprocesados\\\\ListadoInterv_Preprocesado_MAXILOFACIAL.xlsx'\n",
    "df = pd.read_excel(filename)\n",
    "# Seleccionamos una muestra aleatoria de 100 pacientes\n",
    "df = df.sample(n=100, random_state=1)\n",
    "# Nos quedamos sólo con el NHC, Ponderación y duración\n",
    "df = df[['NHC', 'PONDERACIÓN', 'DURACIÓN']]\n",
    "# Creamos un set de actos quirúrgicos\n",
    "actos_pendientes = list()\n",
    "i = 0\n",
    "for elemento in df.itertuples():\n",
    "    actos_pendientes.append(ActoQuirurgico(i, elemento[3], elemento[1], elemento[2]))\n",
    "    i += 1"
   ]
  },
  {
   "cell_type": "code",
   "execution_count": 3,
   "metadata": {},
   "outputs": [],
   "source": [
    "# Definimos un cromosoma como una lista de tamaño N\n",
    "# donde N es el número de slots temporales disponibles\n",
    "# El ID de la operación ocupará la posición del slot temporal o 0 si no se ha asignado\n",
    "# El cromosoma se codifica como una lista de enteros\n",
    "# Con separadores representados por caracteres especiales, siendo 'A' el separador de quirófanos\n",
    "# y 'B' el separador de días\n",
    "def cromosomaAleatorio(tiempos, quirofanos, dias, actos_pendientes):\n",
    "    actos_pendientes = actos_pendientes.copy()\n",
    "    cromosoma = []\n",
    "    # Generamos un cromosoma aleatorio\n",
    "    for i in range(dias):\n",
    "        for j in range(quirofanos):\n",
    "            # Seleccionamos un numero de intervenciones aleatorio para el slot\n",
    "            num_intervenciones = random.randint(1, tiempos)\n",
    "            # Seleccionamos las intervenciones aleatorias\n",
    "            intervenciones = random.sample(actos_pendientes, num_intervenciones)\n",
    "            # Las añadimos al cromosoma\n",
    "            for intervencion in intervenciones:\n",
    "                cromosoma.append(intervencion.getId())\n",
    "                actos_pendientes.remove(intervencion)\n",
    "            # Añadimos un separador de quirófanos\n",
    "            cromosoma.append('A')\n",
    "        # Añadimos un separador de días\n",
    "        cromosoma.append('B')\n",
    "    return cromosoma"
   ]
  },
  {
   "cell_type": "code",
   "execution_count": 4,
   "metadata": {},
   "outputs": [
    {
     "name": "stdout",
     "output_type": "stream",
     "text": [
      "[88, 95, 'A', 55, 21, 11, 'A', 'B', 57, 24, 0, 'A', 39, 16, 35, 'A', 'B']\n"
     ]
    }
   ],
   "source": [
    "print(cromosomaAleatorio(5, 2, 2, actos_pendientes))"
   ]
  },
  {
   "cell_type": "code",
   "execution_count": 5,
   "metadata": {},
   "outputs": [],
   "source": [
    "# Definimos al individuo\n",
    "creator.create(\"FitnessMax\", base.Fitness, weights=(1.0,))\n",
    "creator.create(\"Individual\", list, fitness=creator.FitnessMax)\n",
    "toolbox = base.Toolbox()\n",
    "toolbox.register(\"cromosoma\", cromosomaAleatorio, 16, 3, 5, actos_pendientes)\n",
    "toolbox.register(\"individual\", tools.initIterate, creator.Individual, toolbox.cromosoma)\n",
    "toolbox.register(\"poblacion\", tools.initRepeat, list, toolbox.individual)"
   ]
  },
  {
   "cell_type": "code",
   "execution_count": 5,
   "metadata": {},
   "outputs": [],
   "source": [
    "# Definimos la función de fitness\n",
    "def evaluar(individual):\n",
    "    # Calculamos el fitness como la suma de las ponderaciones de los actos quirúrgicos\n",
    "    # Dividida entre el número de pacientes pendientes de operar\n",
    "    fitness = 0\n",
    "    # Calculamos el fitness\n",
    "    for i in range(len(individual)):\n",
    "        if individual[i] != 'A' and individual[i] != 'B':\n",
    "            fitness += actos_pendientes[individual[i]].getPrioridad()\n",
    "    # Dividimos entre los slots temporales vacíos\n",
    "    pendientes_operar = len(actos_pendientes)\n",
    "    return fitness,"
   ]
  },
  {
   "cell_type": "code",
   "execution_count": 6,
   "metadata": {},
   "outputs": [],
   "source": [
    "def cruce(ind1, ind2):\n",
    "    # Obtenemos las posiciónes de los separadores A y B \n",
    "    posA = [i for i, x in enumerate(ind1) if x == 'A']\n",
    "    posB = [i for i, x in enumerate(ind1) if x == 'B']\n",
    "    # Obtenemos las posiciones de 0 de ambos padres\n",
    "    pos0_1 = [i for i, x in enumerate(ind1) if x == 0]\n",
    "    pos0_2 = [i for i, x in enumerate(ind2) if x == 0]\n",
    "    # Seleccionamos un día al azar\n",
    "    dia = random.randint(0, len(posB)-1)\n",
    "    # Seleccionamos un quirófano al azar del día seleccionado\n",
    "    quirofano = random.randint(posA[dia], posB[dia]-1)\n",
    "    # Seleccionamos un punto de corte al azar del día y quirófano seleccionados\n",
    "    puntoCorte = random.randint(pos0_1[quirofano], pos0_2[quirofano])\n",
    "    # Creamos los hijos\n",
    "    hijo1 = ind1[:posA[quirofano]] + ind2[posA[quirofano]:posB[dia]] + ind1[posB[dia]:]\n",
    "    hijo2 = ind2[:posA[quirofano]] + ind1[posA[quirofano]:posB[dia]] + ind2[posB[dia]:]\n",
    "    # Intercambiamos los genes de los puntos de corte\n",
    "    hijo1[pos0_1[puntoCorte]], hijo2[pos0_2[puntoCorte]] = hijo2[pos0_2[puntoCorte]], hijo1[pos0_1[puntoCorte]]\n",
    "    return hijo1, hijo2\n",
    "def mutacion(individual):\n",
    "    # Intercambia dos genes de posición\n",
    "    pos1 = random.randint(0, len(individual)-1)\n",
    "    pos2 = random.randint(0, len(individual)-1)\n",
    "    individual[pos1], individual[pos2] = individual[pos2], individual[pos1]\n",
    "    return individual"
   ]
  },
  {
   "cell_type": "code",
   "execution_count": 7,
   "metadata": {},
   "outputs": [],
   "source": [
    "toolbox.register(\"evaluate\", evaluar)\n",
    "toolbox.register(\"mate\", cruce)\n",
    "toolbox.register(\"mutate\", tools.mutShuffleIndexes, indpb=0.05)\n",
    "toolbox.register(\"select\", tools.selTournament, tournsize=3)"
   ]
  },
  {
   "cell_type": "code",
   "execution_count": 8,
   "metadata": {},
   "outputs": [
    {
     "ename": "IndexError",
     "evalue": "list index out of range",
     "output_type": "error",
     "traceback": [
      "\u001b[1;31m---------------------------------------------------------------------------\u001b[0m",
      "\u001b[1;31mIndexError\u001b[0m                                Traceback (most recent call last)",
      "\u001b[1;32m~\\AppData\\Local\\Temp\\ipykernel_15816\\3702289251.py\u001b[0m in \u001b[0;36m<module>\u001b[1;34m\u001b[0m\n\u001b[0;32m     39\u001b[0m     \u001b[1;32mfor\u001b[0m \u001b[0mchild1\u001b[0m\u001b[1;33m,\u001b[0m \u001b[0mchild2\u001b[0m \u001b[1;32min\u001b[0m \u001b[0mzip\u001b[0m\u001b[1;33m(\u001b[0m\u001b[0moffspring\u001b[0m\u001b[1;33m[\u001b[0m\u001b[1;33m:\u001b[0m\u001b[1;33m:\u001b[0m\u001b[1;36m2\u001b[0m\u001b[1;33m]\u001b[0m\u001b[1;33m,\u001b[0m \u001b[0moffspring\u001b[0m\u001b[1;33m[\u001b[0m\u001b[1;36m1\u001b[0m\u001b[1;33m:\u001b[0m\u001b[1;33m:\u001b[0m\u001b[1;36m2\u001b[0m\u001b[1;33m]\u001b[0m\u001b[1;33m)\u001b[0m\u001b[1;33m:\u001b[0m\u001b[1;33m\u001b[0m\u001b[1;33m\u001b[0m\u001b[0m\n\u001b[0;32m     40\u001b[0m         \u001b[1;32mif\u001b[0m \u001b[0mrandom\u001b[0m\u001b[1;33m.\u001b[0m\u001b[0mrandom\u001b[0m\u001b[1;33m(\u001b[0m\u001b[1;33m)\u001b[0m \u001b[1;33m<\u001b[0m \u001b[0mpCruce\u001b[0m\u001b[1;33m:\u001b[0m\u001b[1;33m\u001b[0m\u001b[1;33m\u001b[0m\u001b[0m\n\u001b[1;32m---> 41\u001b[1;33m             \u001b[0mtoolbox\u001b[0m\u001b[1;33m.\u001b[0m\u001b[0mmate\u001b[0m\u001b[1;33m(\u001b[0m\u001b[0mchild1\u001b[0m\u001b[1;33m,\u001b[0m \u001b[0mchild2\u001b[0m\u001b[1;33m)\u001b[0m\u001b[1;33m\u001b[0m\u001b[1;33m\u001b[0m\u001b[0m\n\u001b[0m\u001b[0;32m     42\u001b[0m             \u001b[1;32mdel\u001b[0m \u001b[0mchild1\u001b[0m\u001b[1;33m.\u001b[0m\u001b[0mfitness\u001b[0m\u001b[1;33m.\u001b[0m\u001b[0mvalues\u001b[0m\u001b[1;33m\u001b[0m\u001b[1;33m\u001b[0m\u001b[0m\n\u001b[0;32m     43\u001b[0m             \u001b[1;32mdel\u001b[0m \u001b[0mchild2\u001b[0m\u001b[1;33m.\u001b[0m\u001b[0mfitness\u001b[0m\u001b[1;33m.\u001b[0m\u001b[0mvalues\u001b[0m\u001b[1;33m\u001b[0m\u001b[1;33m\u001b[0m\u001b[0m\n",
      "\u001b[1;32m~\\AppData\\Local\\Temp\\ipykernel_15816\\3104578074.py\u001b[0m in \u001b[0;36mcruce\u001b[1;34m(ind1, ind2)\u001b[0m\n\u001b[0;32m     11\u001b[0m     \u001b[0mquirofano\u001b[0m \u001b[1;33m=\u001b[0m \u001b[0mrandom\u001b[0m\u001b[1;33m.\u001b[0m\u001b[0mrandint\u001b[0m\u001b[1;33m(\u001b[0m\u001b[0mposA\u001b[0m\u001b[1;33m[\u001b[0m\u001b[0mdia\u001b[0m\u001b[1;33m]\u001b[0m\u001b[1;33m,\u001b[0m \u001b[0mposB\u001b[0m\u001b[1;33m[\u001b[0m\u001b[0mdia\u001b[0m\u001b[1;33m]\u001b[0m\u001b[1;33m-\u001b[0m\u001b[1;36m1\u001b[0m\u001b[1;33m)\u001b[0m\u001b[1;33m\u001b[0m\u001b[1;33m\u001b[0m\u001b[0m\n\u001b[0;32m     12\u001b[0m     \u001b[1;31m# Seleccionamos un punto de corte al azar del día y quirófano seleccionados\u001b[0m\u001b[1;33m\u001b[0m\u001b[1;33m\u001b[0m\u001b[0m\n\u001b[1;32m---> 13\u001b[1;33m     \u001b[0mpuntoCorte\u001b[0m \u001b[1;33m=\u001b[0m \u001b[0mrandom\u001b[0m\u001b[1;33m.\u001b[0m\u001b[0mrandint\u001b[0m\u001b[1;33m(\u001b[0m\u001b[0mpos0_1\u001b[0m\u001b[1;33m[\u001b[0m\u001b[0mquirofano\u001b[0m\u001b[1;33m]\u001b[0m\u001b[1;33m,\u001b[0m \u001b[0mpos0_2\u001b[0m\u001b[1;33m[\u001b[0m\u001b[0mquirofano\u001b[0m\u001b[1;33m]\u001b[0m\u001b[1;33m)\u001b[0m\u001b[1;33m\u001b[0m\u001b[1;33m\u001b[0m\u001b[0m\n\u001b[0m\u001b[0;32m     14\u001b[0m     \u001b[1;31m# Creamos los hijos\u001b[0m\u001b[1;33m\u001b[0m\u001b[1;33m\u001b[0m\u001b[0m\n\u001b[0;32m     15\u001b[0m     \u001b[0mhijo1\u001b[0m \u001b[1;33m=\u001b[0m \u001b[0mind1\u001b[0m\u001b[1;33m[\u001b[0m\u001b[1;33m:\u001b[0m\u001b[0mposA\u001b[0m\u001b[1;33m[\u001b[0m\u001b[0mquirofano\u001b[0m\u001b[1;33m]\u001b[0m\u001b[1;33m]\u001b[0m \u001b[1;33m+\u001b[0m \u001b[0mind2\u001b[0m\u001b[1;33m[\u001b[0m\u001b[0mposA\u001b[0m\u001b[1;33m[\u001b[0m\u001b[0mquirofano\u001b[0m\u001b[1;33m]\u001b[0m\u001b[1;33m:\u001b[0m\u001b[0mposB\u001b[0m\u001b[1;33m[\u001b[0m\u001b[0mdia\u001b[0m\u001b[1;33m]\u001b[0m\u001b[1;33m]\u001b[0m \u001b[1;33m+\u001b[0m \u001b[0mind1\u001b[0m\u001b[1;33m[\u001b[0m\u001b[0mposB\u001b[0m\u001b[1;33m[\u001b[0m\u001b[0mdia\u001b[0m\u001b[1;33m]\u001b[0m\u001b[1;33m:\u001b[0m\u001b[1;33m]\u001b[0m\u001b[1;33m\u001b[0m\u001b[1;33m\u001b[0m\u001b[0m\n",
      "\u001b[1;31mIndexError\u001b[0m: list index out of range"
     ]
    }
   ],
   "source": [
    "# Definimos los parámetros del algoritmo\n",
    "# Tamaño de la población\n",
    "tPoblacion = 100\n",
    "# Probabilidad de cruce\n",
    "pCruce = 0.8\n",
    "# Probabilidad de mutación\n",
    "pMutacion = 0.2\n",
    "# Número de generaciones\n",
    "nGeneraciones = 1000\n",
    "# Creamos la población inicial\n",
    "poblacion = toolbox.poblacion(n=tPoblacion)\n",
    "# Evaluamos la población inicial\n",
    "fitnesses = list(map(toolbox.evaluate, poblacion))\n",
    "for ind, fit in zip(poblacion, fitnesses):\n",
    "    ind.fitness.values = fit\n",
    "# Guardamos el mejor individuo\n",
    "mejor = tools.selBest(poblacion, 1)[0]\n",
    "# Guardamos el mejor fitness\n",
    "mejorFitness = mejor.fitness.values[0]\n",
    "# Guardamos el fitness medio\n",
    "fitnessMedio = 0\n",
    "# Guardamos el fitness del peor individuo\n",
    "peorFitness = 0\n",
    "# Guardamos el fitness del mejor individuo de cada generación\n",
    "mejoresFitness = []\n",
    "# Guardamos el fitness medio de cada generación\n",
    "fitnessesMedios = []\n",
    "# Guardamos el fitness del peor individuo de cada generación\n",
    "peoresFitness = []\n",
    "# Guardamos el número de generaciones sin mejora\n",
    "nGeneracionesSinMejora = 0\n",
    "# Ejecutamos el algoritmo\n",
    "for i in range(nGeneraciones):\n",
    "    # Seleccionamos la siguiente generación\n",
    "    offspring = toolbox.select(poblacion, len(poblacion))\n",
    "    # Clonamos los individuos seleccionados\n",
    "    offspring = list(map(toolbox.clone, offspring))\n",
    "    # Aplicamos el cruce\n",
    "    for child1, child2 in zip(offspring[::2], offspring[1::2]):\n",
    "        if random.random() < pCruce:\n",
    "            toolbox.mate(child1, child2)\n",
    "            del child1.fitness.values\n",
    "            del child2.fitness.values\n",
    "    # Aplicamos la mutación\n",
    "    for mutant in offspring:\n",
    "        if random.random() < pMutacion:\n",
    "            toolbox.mutate(mutant)\n",
    "            del mutant.fitness.values\n",
    "    # Evaluamos los individuos con fitness inválido\n",
    "    invalid_ind = [ind for ind in offspring if not ind.fitness.valid]\n",
    "    fitnesses = map(toolbox.evaluate, invalid_ind)\n",
    "    for ind, fit in zip(invalid_ind, fitnesses):\n",
    "        ind.fitness.values = fit\n",
    "    # Reemplazamos la población por la nueva generación\n",
    "    poblacion[:] = offspring\n",
    "    # Guardamos el mejor individuo\n",
    "    mejor = tools.selBest(poblacion, 1)[0]\n",
    "    # Guardamos el mejor fitness\n",
    "    mejorFitness = max(mejorFitness, mejor.fitness.values[0])\n",
    "    # Guardamos el fitness medio\n",
    "    fitnessMedio = sum([ind.fitness.values[0] for ind in poblacion])/len(poblacion)\n",
    "    # Guardamos el fitness del peor individuo\n",
    "    peorFitness = min([ind.fitness.values[0] for ind in poblacion])\n",
    "    # Guardamos el fitness del mejor individuo de cada generación\n",
    "    mejoresFitness.append(mejorFitness)\n",
    "    # Guardamos el fitness medio de cada generación\n",
    "    fitnessesMedios.append(fitnessMedio)\n",
    "    # Guardamos el fitness del peor individuo de cada generación\n",
    "    peoresFitness.append(peorFitness)\n",
    "    # Si el mejor individuo no ha mejorado, incrementamos el contador\n",
    "    if len(mejoresFitness)>=2 and mejorFitness == mejoresFitness[-2]:\n",
    "        nGeneracionesSinMejora += 1\n",
    "    else:\n",
    "        nGeneracionesSinMejora = 0\n",
    "    # Si no ha habido mejora en las últimas 50 generaciones, paramos\n",
    "    if nGeneracionesSinMejora == 50:\n",
    "        break\n",
    "\n",
    "# Mostramos los resultados\n",
    "print(\"Mejor individuo: \", mejor)\n",
    "print(\"Mejor fitness: \", mejorFitness)\n",
    "print(\"Fitness medio: \", fitnessMedio)\n",
    "print(\"Peor fitness: \", peorFitness)\n",
    "# Mostramos la gráfica\n",
    "plt.plot(mejoresFitness, label=\"Mejor\")\n",
    "plt.plot(fitnessesMedios, label=\"Medio\")\n",
    "plt.plot(peoresFitness, label=\"Peor\")\n",
    "plt.legend()\n",
    "plt.show()"
   ]
  },
  {
   "cell_type": "code",
   "execution_count": null,
   "metadata": {},
   "outputs": [],
   "source": []
  }
 ],
 "metadata": {
  "kernelspec": {
   "display_name": "Python 3",
   "language": "python",
   "name": "python3"
  },
  "language_info": {
   "codemirror_mode": {
    "name": "ipython",
    "version": 3
   },
   "file_extension": ".py",
   "mimetype": "text/x-python",
   "name": "python",
   "nbconvert_exporter": "python",
   "pygments_lexer": "ipython3",
   "version": "3.9.13"
  },
  "orig_nbformat": 4
 },
 "nbformat": 4,
 "nbformat_minor": 2
}
