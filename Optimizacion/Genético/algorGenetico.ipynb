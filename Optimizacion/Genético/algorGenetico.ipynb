{
 "cells": [
  {
   "attachments": {},
   "cell_type": "markdown",
   "metadata": {},
   "source": [
    "## Trabajo Fin de Grado\n",
    "### Gestor de Quirófanos\n",
    "### Implementación de Algoritmo Genético para asignación de quirófanos\n",
    "\n",
    "#### Autor: Jesús García Armario"
   ]
  },
  {
   "cell_type": "code",
   "execution_count": 1,
   "metadata": {},
   "outputs": [],
   "source": [
    "# Imports necesarios\n",
    "import numpy as np\n",
    "import pandas as pd\n",
    "from deap import base, creator, tools, algorithms\n",
    "import sys\n",
    "sys.path.append('../')\n",
    "from Heuristicas.Utils import Quirofano, ActoQuirurgico\n",
    "import random\n",
    "import math"
   ]
  },
  {
   "cell_type": "code",
   "execution_count": 2,
   "metadata": {},
   "outputs": [],
   "source": [
    "# Importamos el listado preprocesado de una especialidad para las pruebas\n",
    "filename = '..\\\\..\\\\Datos\\\\Listados_Preprocesados\\\\ListadoInterv_Preprocesado_MAXILOFACIAL.xlsx'\n",
    "df = pd.read_excel(filename)\n",
    "# Seleccionamos una muestra aleatoria de 100 pacientes\n",
    "df = df.sample(n=100, random_state=1)\n",
    "# Nos quedamos sólo con el NHC, Ponderación y duración\n",
    "df = df[['NHC', 'PONDERACIÓN', 'DURACIÓN']]\n",
    "# Creamos un set de actos quirúrgicos\n",
    "actos_pendientes = list()\n",
    "i = 0\n",
    "for elemento in df.itertuples():\n",
    "    actos_pendientes.append(ActoQuirurgico(i, elemento[3], elemento[1], elemento[2]))\n",
    "    i += 1"
   ]
  },
  {
   "cell_type": "code",
   "execution_count": 3,
   "metadata": {},
   "outputs": [],
   "source": [
    "# Definimos un cromosoma como una lista de tamaño N\n",
    "# donde N es el número de slots temporales disponibles\n",
    "# El ID de la operación ocupará la posición del slot temporal o 0 si no se ha asignado\n",
    "# El cromosoma se codifica como una lista de enteros\n",
    "# Con separadores representados por caracteres especiales, siendo 'A' el separador de quirófanos\n",
    "# y 'B' el separador de días\n",
    "def cromosomaAleatorio(tiempos, quirofanos, dias, actos_pendientes, ventana):\n",
    "    cromosoma = []\n",
    "    for i in range(dias):\n",
    "        for j in range(quirofanos):\n",
    "            tDisponibles = tiempos\n",
    "            while tDisponibles > 0:\n",
    "                # Seleccionamos un elemento al azar de actos_pendientes\n",
    "                acto = random.choice(actos_pendientes)\n",
    "                T = math.ceil(acto.getDuracion()/ventana)\n",
    "                # Lo añadimos al cromosoma T veces\n",
    "                for l in range(T):\n",
    "                    cromosoma.append(acto.getId())\n",
    "                # Añadimos un separador de intervenciones\n",
    "                cromosoma.append(0)\n",
    "                # Avanzamos el puntero de tiempos\n",
    "                actos_pendientes.remove(acto)\n",
    "                tDisponibles -= (T + 1)\n",
    "            cromosoma.append('A')\n",
    "        cromosoma.append('B')\n",
    "    return cromosoma"
   ]
  },
  {
   "cell_type": "code",
   "execution_count": 4,
   "metadata": {},
   "outputs": [],
   "source": [
    "# Definimos al individuo\n",
    "creator.create(\"FitnessMax\", base.Fitness, weights=(1.0,))\n",
    "creator.create(\"Individual\", list, fitness=creator.FitnessMax)\n",
    "toolbox = base.Toolbox()\n",
    "toolbox.register(\"cromosoma\", cromosomaAleatorio, 16, 3, 5, actos_pendientes, 30)\n",
    "toolbox.register(\"individual\", tools.initIterate, creator.Individual, toolbox.cromosoma)\n",
    "toolbox.register(\"poblacion\", tools.initRepeat, list, toolbox.individual)"
   ]
  },
  {
   "cell_type": "code",
   "execution_count": 5,
   "metadata": {},
   "outputs": [],
   "source": [
    "# Definimos la función de fitness\n",
    "def evaluar(individual):\n",
    "    # Definimos los parámetros de la evaluación\n",
    "    # Número de quirófanos\n",
    "    nQuirofanos = 3\n",
    "    # Número de días\n",
    "    nDias = 5\n",
    "    # Número de slots temporales\n",
    "    nSlots = 16\n",
    "    # Ventana de tiempo\n",
    "    ventana = 30\n",
    "    # Definimos la lista de quirófanos\n",
    "    quirofanos = []\n",
    "    for i in range(nQuirofanos):\n",
    "        quirofanos.append(Quirofano(i, nDias, nSlots))\n",
    "    # Definimos la lista de actos quirúrgicos\n",
    "    actos = []\n",
    "    for i in range(len(individual)):\n",
    "        if individual[i] != 'A' and individual[i] != 'B':\n",
    "            actos.append(actos_pendientes[individual[i]])\n",
    "    # Asignamos los actos quirúrgicos a los quirófanos\n",
    "    for i in range(len(individual)):\n",
    "        if individual[i] != 'A' and individual[i] != 'B':\n",
    "            # Calculamos el día y el slot temporal\n",
    "            dia = i // nSlots\n",
    "            slot = i % nSlots\n",
    "            # Asignamos el acto quirúrgico al quirófano correspondiente\n",
    "            quirofanos[dia].addActo(actos_pendientes[individual[i]])\n",
    "    # Calculamos el fitness\n",
    "    fitness = 0\n",
    "    for quirofano in quirofanos:\n",
    "        for acto in quirofano.getActos():\n",
    "            fitness += acto.getPrioridad()\n",
    "    return fitness,"
   ]
  },
  {
   "cell_type": "code",
   "execution_count": 6,
   "metadata": {},
   "outputs": [],
   "source": [
    "def cruce(ind1, ind2):\n",
    "    # Obtenemos las posiciónes de los separadores\n",
    "    posA1 = ind1.index('A')\n",
    "    posA2 = ind2.index('A')\n",
    "    posB1 = ind1.index('B')\n",
    "    posB2 = ind2.index('B')\n",
    "    # Intercambiamos los cromosomas\n",
    "    ind1[posA1:posB1], ind2[posA2:posB2] = ind2[posA2:posB2], ind1[posA1:posB1]\n",
    "    return ind1, ind2"
   ]
  },
  {
   "cell_type": "code",
   "execution_count": 7,
   "metadata": {},
   "outputs": [],
   "source": [
    "toolbox.register(\"evaluate\", evaluar)\n",
    "toolbox.register(\"mate\", cruce)\n",
    "toolbox.register(\"mutate\", tools.mutShuffleIndexes, indpb=0.05)\n",
    "toolbox.register(\"select\", tools.selTournament, tournsize=3)"
   ]
  },
  {
   "cell_type": "code",
   "execution_count": 8,
   "metadata": {},
   "outputs": [
    {
     "ename": "IndexError",
     "evalue": "Cannot choose from an empty sequence",
     "output_type": "error",
     "traceback": [
      "\u001b[1;31m---------------------------------------------------------------------------\u001b[0m",
      "\u001b[1;31mIndexError\u001b[0m                                Traceback (most recent call last)",
      "Cell \u001b[1;32mIn[8], line 11\u001b[0m\n\u001b[0;32m      9\u001b[0m nGeneraciones \u001b[39m=\u001b[39m \u001b[39m100\u001b[39m\n\u001b[0;32m     10\u001b[0m \u001b[39m# Creamos la población inicial\u001b[39;00m\n\u001b[1;32m---> 11\u001b[0m poblacion \u001b[39m=\u001b[39m toolbox\u001b[39m.\u001b[39;49mpoblacion(n\u001b[39m=\u001b[39;49mtPoblacion)\n",
      "File \u001b[1;32mc:\\Python311\\Lib\\site-packages\\deap\\tools\\init.py:23\u001b[0m, in \u001b[0;36minitRepeat\u001b[1;34m(container, func, n)\u001b[0m\n\u001b[0;32m      1\u001b[0m \u001b[39mdef\u001b[39;00m \u001b[39minitRepeat\u001b[39m(container, func, n):\n\u001b[0;32m      2\u001b[0m \u001b[39m    \u001b[39m\u001b[39m\"\"\"Call the function *func* *n* times and return the results in a \u001b[39;00m\n\u001b[0;32m      3\u001b[0m \u001b[39m    container type `container`\u001b[39;00m\n\u001b[0;32m      4\u001b[0m \n\u001b[1;32m   (...)\u001b[0m\n\u001b[0;32m     21\u001b[0m \u001b[39m    See the :ref:`list-of-floats` and :ref:`population` tutorials for more examples.\u001b[39;00m\n\u001b[0;32m     22\u001b[0m \u001b[39m    \"\"\"\u001b[39;00m\n\u001b[1;32m---> 23\u001b[0m     \u001b[39mreturn\u001b[39;00m container(func() \u001b[39mfor\u001b[39;49;00m _ \u001b[39min\u001b[39;49;00m \u001b[39mrange\u001b[39;49m(n))\n",
      "File \u001b[1;32mc:\\Python311\\Lib\\site-packages\\deap\\tools\\init.py:23\u001b[0m, in \u001b[0;36m<genexpr>\u001b[1;34m(.0)\u001b[0m\n\u001b[0;32m      1\u001b[0m \u001b[39mdef\u001b[39;00m \u001b[39minitRepeat\u001b[39m(container, func, n):\n\u001b[0;32m      2\u001b[0m \u001b[39m    \u001b[39m\u001b[39m\"\"\"Call the function *func* *n* times and return the results in a \u001b[39;00m\n\u001b[0;32m      3\u001b[0m \u001b[39m    container type `container`\u001b[39;00m\n\u001b[0;32m      4\u001b[0m \n\u001b[1;32m   (...)\u001b[0m\n\u001b[0;32m     21\u001b[0m \u001b[39m    See the :ref:`list-of-floats` and :ref:`population` tutorials for more examples.\u001b[39;00m\n\u001b[0;32m     22\u001b[0m \u001b[39m    \"\"\"\u001b[39;00m\n\u001b[1;32m---> 23\u001b[0m     \u001b[39mreturn\u001b[39;00m container(func() \u001b[39mfor\u001b[39;00m _ \u001b[39min\u001b[39;00m \u001b[39mrange\u001b[39m(n))\n",
      "File \u001b[1;32mc:\\Python311\\Lib\\site-packages\\deap\\tools\\init.py:50\u001b[0m, in \u001b[0;36minitIterate\u001b[1;34m(container, generator)\u001b[0m\n\u001b[0;32m     25\u001b[0m \u001b[39mdef\u001b[39;00m \u001b[39minitIterate\u001b[39m(container, generator):\n\u001b[0;32m     26\u001b[0m \u001b[39m    \u001b[39m\u001b[39m\"\"\"Call the function *container* with an iterable as\u001b[39;00m\n\u001b[0;32m     27\u001b[0m \u001b[39m    its only argument. The iterable must be returned by\u001b[39;00m\n\u001b[0;32m     28\u001b[0m \u001b[39m    the method or the object *generator*.\u001b[39;00m\n\u001b[1;32m   (...)\u001b[0m\n\u001b[0;32m     48\u001b[0m \u001b[39m    more examples.\u001b[39;00m\n\u001b[0;32m     49\u001b[0m \u001b[39m    \"\"\"\u001b[39;00m\n\u001b[1;32m---> 50\u001b[0m     \u001b[39mreturn\u001b[39;00m container(generator())\n",
      "Cell \u001b[1;32mIn[3], line 14\u001b[0m, in \u001b[0;36mcromosomaAleatorio\u001b[1;34m(tiempos, quirofanos, dias, actos_pendientes, ventana)\u001b[0m\n\u001b[0;32m     11\u001b[0m tDisponibles \u001b[39m=\u001b[39m tiempos\n\u001b[0;32m     12\u001b[0m \u001b[39mwhile\u001b[39;00m tDisponibles \u001b[39m>\u001b[39m \u001b[39m0\u001b[39m:\n\u001b[0;32m     13\u001b[0m     \u001b[39m# Seleccionamos un elemento al azar de actos_pendientes\u001b[39;00m\n\u001b[1;32m---> 14\u001b[0m     acto \u001b[39m=\u001b[39m random\u001b[39m.\u001b[39;49mchoice(actos_pendientes)\n\u001b[0;32m     15\u001b[0m     T \u001b[39m=\u001b[39m math\u001b[39m.\u001b[39mceil(acto\u001b[39m.\u001b[39mgetDuracion()\u001b[39m/\u001b[39mventana)\n\u001b[0;32m     16\u001b[0m     \u001b[39m# Lo añadimos al cromosoma T veces\u001b[39;00m\n",
      "File \u001b[1;32mc:\\Python311\\Lib\\random.py:370\u001b[0m, in \u001b[0;36mRandom.choice\u001b[1;34m(self, seq)\u001b[0m\n\u001b[0;32m    368\u001b[0m \u001b[39m\u001b[39m\u001b[39m\"\"\"Choose a random element from a non-empty sequence.\"\"\"\u001b[39;00m\n\u001b[0;32m    369\u001b[0m \u001b[39mif\u001b[39;00m \u001b[39mnot\u001b[39;00m seq:\n\u001b[1;32m--> 370\u001b[0m     \u001b[39mraise\u001b[39;00m \u001b[39mIndexError\u001b[39;00m(\u001b[39m'\u001b[39m\u001b[39mCannot choose from an empty sequence\u001b[39m\u001b[39m'\u001b[39m)\n\u001b[0;32m    371\u001b[0m \u001b[39mreturn\u001b[39;00m seq[\u001b[39mself\u001b[39m\u001b[39m.\u001b[39m_randbelow(\u001b[39mlen\u001b[39m(seq))]\n",
      "\u001b[1;31mIndexError\u001b[0m: Cannot choose from an empty sequence"
     ]
    }
   ],
   "source": [
    "# Definimos los parámetros del algoritmo\n",
    "# Tamaño de la población\n",
    "tPoblacion = 100\n",
    "# Probabilidad de cruce\n",
    "pCruce = 0.8\n",
    "# Probabilidad de mutación\n",
    "pMutacion = 0.2\n",
    "# Número de generaciones\n",
    "nGeneraciones = 100\n",
    "# Creamos la población inicial\n",
    "poblacion = toolbox.poblacion(n=tPoblacion)"
   ]
  },
  {
   "cell_type": "code",
   "execution_count": null,
   "metadata": {},
   "outputs": [],
   "source": []
  }
 ],
 "metadata": {
  "kernelspec": {
   "display_name": "Python 3",
   "language": "python",
   "name": "python3"
  },
  "language_info": {
   "codemirror_mode": {
    "name": "ipython",
    "version": 3
   },
   "file_extension": ".py",
   "mimetype": "text/x-python",
   "name": "python",
   "nbconvert_exporter": "python",
   "pygments_lexer": "ipython3",
   "version": "3.11.0"
  },
  "orig_nbformat": 4
 },
 "nbformat": 4,
 "nbformat_minor": 2
}
