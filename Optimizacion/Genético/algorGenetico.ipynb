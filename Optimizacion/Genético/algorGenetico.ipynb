{
 "cells": [
  {
   "attachments": {},
   "cell_type": "markdown",
   "metadata": {},
   "source": [
    "## Trabajo Fin de Grado\n",
    "### Gestor de Quirófanos\n",
    "### Implementación de Algoritmo Genético para asignación de quirófanos\n",
    "\n",
    "#### Autor: Jesús García Armario"
   ]
  },
  {
   "cell_type": "code",
   "execution_count": 1,
   "metadata": {},
   "outputs": [],
   "source": [
    "# Imports necesarios\n",
    "import numpy as np\n",
    "import pandas as pd\n",
    "from deap import base, creator, tools, algorithms\n",
    "import sys\n",
    "sys.path.append('../')\n",
    "from Heuristicas.Utils import Quirofano, ActoQuirurgico\n",
    "import random\n",
    "import math\n",
    "import matplotlib.pyplot as plt"
   ]
  },
  {
   "cell_type": "code",
   "execution_count": 2,
   "metadata": {},
   "outputs": [],
   "source": [
    "# Importamos el listado preprocesado de una especialidad para las pruebas\n",
    "filename = '..\\\\..\\\\Datos\\\\Listados_Preprocesados\\\\ListadoInterv_Preprocesado_MAXILOFACIAL.xlsx'\n",
    "df = pd.read_excel(filename)\n",
    "# Seleccionamos una muestra aleatoria de 100 pacientes\n",
    "df = df.sample(n=100, random_state=1)\n",
    "# Nos quedamos sólo con el NHC, Ponderación y duración\n",
    "df = df[['NHC', 'PONDERACIÓN', 'DURACIÓN']]\n",
    "# Creamos un set de actos quirúrgicos\n",
    "actos_pendientes = list()\n",
    "i = 0\n",
    "for elemento in df.itertuples():\n",
    "    actos_pendientes.append(ActoQuirurgico(i, elemento[3], elemento[1], elemento[2]))\n",
    "    i += 1"
   ]
  },
  {
   "cell_type": "code",
   "execution_count": 3,
   "metadata": {},
   "outputs": [],
   "source": [
    "# Definimos un cromosoma como una lista de tamaño N\n",
    "# donde N es el número de slots temporales disponibles\n",
    "# El ID de la operación ocupará la posición del slot temporal o 0 si no se ha asignado\n",
    "# El cromosoma se codifica como una lista de enteros\n",
    "# Con separadores representados por caracteres especiales, siendo 'A' el separador de quirófanos\n",
    "# y 'B' el separador de días\n",
    "def cromosomaAleatorio(tiempos, quirofanos, dias, actos_pendientes, ventana):\n",
    "    actos_pendientes = actos_pendientes.copy()\n",
    "    cromosoma = []\n",
    "    for i in range(dias):\n",
    "        for j in range(quirofanos):\n",
    "            tDisponibles = tiempos\n",
    "            while tDisponibles > 0:\n",
    "                # Seleccionamos un elemento al azar de actos_pendientes\n",
    "                acto = random.choice(actos_pendientes)\n",
    "                T = math.ceil(acto.getDuracion()/ventana)\n",
    "                # Lo añadimos al cromosoma T veces\n",
    "                for l in range(T):\n",
    "                    cromosoma.append(acto.getId())\n",
    "                # Añadimos un separador de intervenciones\n",
    "                cromosoma.append(0)\n",
    "                # Avanzamos el puntero de tiempos\n",
    "                actos_pendientes.remove(acto)\n",
    "                tDisponibles -= (T + 1)\n",
    "            cromosoma.append('A')\n",
    "        cromosoma.append('B')\n",
    "    return cromosoma"
   ]
  },
  {
   "cell_type": "code",
   "execution_count": 9,
   "metadata": {},
   "outputs": [
    {
     "name": "stdout",
     "output_type": "stream",
     "text": [
      "[68, 0, 36, 36, 36, 36, 36, 36, 36, 0, 'A', 46, 0, 49, 49, 49, 49, 49, 0, 51, 0, 'A', 'B', 37, 0, 22, 0, 45, 0, 91, 91, 91, 91, 91, 91, 0, 'A', 2, 0, 77, 0, 23, 23, 0, 3, 3, 3, 3, 3, 3, 3, 3, 3, 3, 3, 3, 0, 'A', 'B']\n"
     ]
    }
   ],
   "source": [
    "print(cromosomaAleatorio(10, 2, 2, actos_pendientes, 30))"
   ]
  },
  {
   "cell_type": "code",
   "execution_count": 4,
   "metadata": {},
   "outputs": [],
   "source": [
    "# Definimos al individuo\n",
    "creator.create(\"FitnessMax\", base.Fitness, weights=(1.0,))\n",
    "creator.create(\"Individual\", list, fitness=creator.FitnessMax)\n",
    "toolbox = base.Toolbox()\n",
    "toolbox.register(\"cromosoma\", cromosomaAleatorio, 16, 3, 5, actos_pendientes, 30)\n",
    "toolbox.register(\"individual\", tools.initIterate, creator.Individual, toolbox.cromosoma)\n",
    "toolbox.register(\"poblacion\", tools.initRepeat, list, toolbox.individual)"
   ]
  },
  {
   "cell_type": "code",
   "execution_count": 5,
   "metadata": {},
   "outputs": [],
   "source": [
    "# Definimos la función de fitness\n",
    "def evaluar(individual):\n",
    "    # Calculamos el fitness como la suma de las ponderaciones de los actos quirúrgicos\n",
    "    # Dividida entre los slots temporales vacíos\n",
    "    # Si el individuo no es válido, su fitness será 0\n",
    "    fitness = 0\n",
    "    # Calculamos el fitness\n",
    "    for i in range(len(individual)):\n",
    "        if individual[i] != 0 and individual[i] != 'A' and individual[i] != 'B':\n",
    "            fitness += actos_pendientes[individual[i]].getPrioridad()\n",
    "    # Dividimos entre los slots temporales vacíos\n",
    "    fitness = fitness / individual.count(0)\n",
    "    return fitness,"
   ]
  },
  {
   "cell_type": "code",
   "execution_count": 6,
   "metadata": {},
   "outputs": [],
   "source": [
    "def cruce(ind1, ind2):\n",
    "    # Obtenemos las posiciónes de los separadores A y B en ambos padres\n",
    "    posA1 = ind1.index('A')\n",
    "    posA2 = ind2.index('A')\n",
    "    posB1 = ind1.index('B')\n",
    "    posB2 = ind2.index('B')\n",
    "   # El hijo 1 tendrá los separadores A y B del padre 1\n",
    "    hijo1 = ind1[:posA1] + ind2[posA2:posB2] + ind1[posB1:]\n",
    "    # El hijo 2 tendrá los separadores A y B del padre 2\n",
    "    hijo2 = ind2[:posA2] + ind1[posA1:posB1] + ind2[posB2:]\n",
    "    return hijo1, hijo2\n",
    "def mutacion(individual):\n",
    "    # Intercambia dos genes de posición\n",
    "    pos1 = random.randint(0, len(individual)-1)\n",
    "    pos2 = random.randint(0, len(individual)-1)\n",
    "    individual[pos1], individual[pos2] = individual[pos2], individual[pos1]\n",
    "    return individual"
   ]
  },
  {
   "cell_type": "code",
   "execution_count": 7,
   "metadata": {},
   "outputs": [],
   "source": [
    "toolbox.register(\"evaluate\", evaluar)\n",
    "toolbox.register(\"mate\", cruce)\n",
    "toolbox.register(\"mutate\", tools.mutShuffleIndexes, indpb=0.05)\n",
    "toolbox.register(\"select\", tools.selTournament, tournsize=3)"
   ]
  },
  {
   "cell_type": "code",
   "execution_count": 8,
   "metadata": {},
   "outputs": [
    {
     "name": "stdout",
     "output_type": "stream",
     "text": [
      "Mejor individuo:  [20, 11, 98, 'A', 7, 0, 73, 47, 20, 0, 52, 'A', 58, 97, 0, 70, 98, 20, 87, 31, 55, 20, 0, 20, 98, 20, 98, 85, 34, 20, 20, 94, 20, 20, 0, 20, 0, 20, 0, 20, 20, 0, 97, 78, 20, 32, 20, 10, 98, 12, 73, 97, 'A', 54, 44, 78, 11, 'A', 98, 34, 12, 20, 20, 20, 7, 20, 98, 20, 83, 20, 20, 0, 20, 'A', 20, 20, 41, 0, 'A', 70, 98, 88, 98, 0, 71, 20, 20, 0, 71, 98, 91, 0, 78, 20, 78, 98, 34, 78, 78, 91, 20, 0, 3, 91, 32, 11, 78, 67, 91, 0, 34, 20, 3, 20, 0, 34, 34, 71, 98, 0, 'B', 55, 76, 98, 87, 0, 20, 87, 20, 'A', 72, 98, 3, 72, 11, 20, 0, 50, 94, 'A', 20, 45, 3, 54, 20, 49, 91, 3, 0, 3, 52, 98, 78, 87, 0, 71, 36, 61, 20, 0, 0, 'A', 69, 98, 98, 20, 98, 98, 88, 35, 98, 20, 0, 98, 98, 94, 20, 54, 20, 10, 69, 98, 14, 98, 71, 98, 94, 98, 6, 52, 98, 6, 98, 'A', 0, 0, 20, 98, 7, 98, 65, 0, 5, 3, 98, 49, 54, 98, 78, 32, 36, 3, 29, 94, 71, 0, 54, 0, 52, 3, 95, 98, 20, 0, 71, 32, 0, 55, 94, 98, 31, 71, 20, 98, 49, 71, 49, 98, 98, 98, 47, 20, 83, 9, 71, 71, 20, 6, 32, 'A', 65, 0, 68, 31, 3, 77, 6, 34, 6, 71, 98, 96, 3, 20, 6, 71, 98, 7, 0, 97, 94, 20, 83, 71, 61, 98, 54, 91, 55, 89, 2, 72, 71, 20, 0, 58, 7, 0, 41, 'B', 55, 31, 0, 0, 0, 0, 97, 27, 'A', 36, 20, 31, 56, 3, 0, 98, 98, 20, 20, 65, 65, 49, 58, 0, 41, 7, 69, 88, 20, 36, 54, 98, 98, 31, 72, 10, 0, 27, 57, 0, 36, 0, 98, 22, 65, 0, 52, 0, 71, 20, 36, 11, 31, 97, 32, 87, 32, 71, 32, 0, 20, 'B', 88, 94, 7, 94, 6, 11, 20, 54, 20, 94, 94, 58, 0, 0, 20, 'A', 71, 0, 20, 35, 84, 34, 96, 95, 0, 83, 0, 27, 98, 7, 20, 36, 10, 0, 41, 71, 41, 98, 71, 41, 41, 0, 71, 51, 50, 71, 58, 0, 88, 72, 71, 'A', 98, 69, 'B', 20, 0, 20, 12, 20, 58, 'A', 'B']\n",
      "Mejor fitness:  135.26785714285714\n",
      "Fitness medio:  135.267857142857\n",
      "Peor fitness:  135.26785714285714\n"
     ]
    },
    {
     "data": {
      "image/png": "[encoded data removed]",
      "text/plain": [
       "<Figure size 640x480 with 1 Axes>"
      ]
     },
     "metadata": {},
     "output_type": "display_data"
    }
   ],
   "source": [
    "# Definimos los parámetros del algoritmo\n",
    "# Tamaño de la población\n",
    "tPoblacion = 100\n",
    "# Probabilidad de cruce\n",
    "pCruce = 0.8\n",
    "# Probabilidad de mutación\n",
    "pMutacion = 0.2\n",
    "# Número de generaciones\n",
    "nGeneraciones = 100\n",
    "# Creamos la población inicial\n",
    "poblacion = toolbox.poblacion(n=tPoblacion)\n",
    "# Evaluamos la población inicial\n",
    "fitnesses = list(map(toolbox.evaluate, poblacion))\n",
    "for ind, fit in zip(poblacion, fitnesses):\n",
    "    ind.fitness.values = fit\n",
    "# Guardamos el mejor individuo\n",
    "mejor = tools.selBest(poblacion, 1)[0]\n",
    "# Guardamos el mejor fitness\n",
    "mejorFitness = mejor.fitness.values[0]\n",
    "# Guardamos el fitness medio\n",
    "fitnessMedio = 0\n",
    "# Guardamos el fitness del peor individuo\n",
    "peorFitness = 0\n",
    "# Guardamos el fitness del mejor individuo de cada generación\n",
    "mejoresFitness = []\n",
    "# Guardamos el fitness medio de cada generación\n",
    "fitnessesMedios = []\n",
    "# Guardamos el fitness del peor individuo de cada generación\n",
    "peoresFitness = []\n",
    "\n",
    "# Ejecutamos el algoritmo\n",
    "for i in range(nGeneraciones):\n",
    "    # Seleccionamos la siguiente generación\n",
    "    offspring = toolbox.select(poblacion, len(poblacion))\n",
    "    # Clonamos los individuos seleccionados\n",
    "    offspring = list(map(toolbox.clone, offspring))\n",
    "    # Aplicamos el cruce\n",
    "    for child1, child2 in zip(offspring[::2], offspring[1::2]):\n",
    "        if random.random() < pCruce:\n",
    "            toolbox.mate(child1, child2)\n",
    "            del child1.fitness.values\n",
    "            del child2.fitness.values\n",
    "    # Aplicamos la mutación\n",
    "    for mutant in offspring:\n",
    "        if random.random() < pMutacion:\n",
    "            toolbox.mutate(mutant)\n",
    "            del mutant.fitness.values\n",
    "    # Evaluamos los individuos con fitness inválido\n",
    "    invalid_ind = [ind for ind in offspring if not ind.fitness.valid]\n",
    "    fitnesses = map(toolbox.evaluate, invalid_ind)\n",
    "    for ind, fit in zip(invalid_ind, fitnesses):\n",
    "        ind.fitness.values = fit\n",
    "    # Reemplazamos la población por la nueva generación\n",
    "    poblacion[:] = offspring\n",
    "    # Guardamos el mejor individuo\n",
    "    mejor = tools.selBest(poblacion, 1)[0]\n",
    "    # Guardamos el mejor fitness\n",
    "    mejorFitness = max(mejorFitness, mejor.fitness.values[0])\n",
    "    # Guardamos el fitness medio\n",
    "    fitnessMedio = sum([ind.fitness.values[0] for ind in poblacion])/len(poblacion)\n",
    "    # Guardamos el fitness del peor individuo\n",
    "    peorFitness = min([ind.fitness.values[0] for ind in poblacion])\n",
    "    # Guardamos el fitness del mejor individuo de cada generación\n",
    "    mejoresFitness.append(mejorFitness)\n",
    "    # Guardamos el fitness medio de cada generación\n",
    "    fitnessesMedios.append(fitnessMedio)\n",
    "    # Guardamos el fitness del peor individuo de cada generación\n",
    "    peoresFitness.append(peorFitness)\n",
    "\n",
    "# Mostramos los resultados\n",
    "print(\"Mejor individuo: \", mejor)\n",
    "print(\"Mejor fitness: \", mejorFitness)\n",
    "print(\"Fitness medio: \", fitnessMedio)\n",
    "print(\"Peor fitness: \", peorFitness)\n",
    "# Mostramos la gráfica\n",
    "plt.plot(mejoresFitness, label=\"Mejor\")\n",
    "plt.plot(fitnessesMedios, label=\"Medio\")\n",
    "plt.plot(peoresFitness, label=\"Peor\")\n",
    "plt.legend()\n",
    "plt.show()"
   ]
  },
  {
   "cell_type": "code",
   "execution_count": null,
   "metadata": {},
   "outputs": [],
   "source": []
  }
 ],
 "metadata": {
  "kernelspec": {
   "display_name": "Python 3",
   "language": "python",
   "name": "python3"
  },
  "language_info": {
   "codemirror_mode": {
    "name": "ipython",
    "version": 3
   },
   "file_extension": ".py",
   "mimetype": "text/x-python",
   "name": "python",
   "nbconvert_exporter": "python",
   "pygments_lexer": "ipython3",
   "version": "3.9.13"
  },
  "orig_nbformat": 4
 },
 "nbformat": 4,
 "nbformat_minor": 2
}
